{
  "cells": [
    {
      "cell_type": "markdown",
      "metadata": {
        "id": "sVoWD1zAUDSo"
      },
      "source": [
        "# **Installing dependencies**"
      ]
    },
    {
      "cell_type": "code",
      "execution_count": null,
      "metadata": {
        "id": "ZCyZzGxjT_cY"
      },
      "outputs": [],
      "source": [
        "!pip uninstall numpy pandas scikit-learn datasets transformers torch torchvision -y\n",
        "\n",
        "!pip install numpy==1.26.4 pandas==2.2.3 scikit-learn==1.5.2 datasets==2.21.0 transformers==4.48.0 torch==2.4.1 torchvision==0.19.1 --quiet"
      ]
    },
    {
      "cell_type": "code",
      "execution_count": null,
      "metadata": {
        "id": "xePeVq6OUdVD"
      },
      "outputs": [],
      "source": [
        "import json\n",
        "import os\n",
        "import pandas as pd\n",
        "import numpy as np\n",
        "import torch\n",
        "from transformers import DistilBertTokenizer, DistilBertForSequenceClassification, Trainer, TrainingArguments\n",
        "from datasets import Dataset\n",
        "from sklearn.model_selection import train_test_split\n",
        "from sklearn.preprocessing import LabelEncoder, StandardScaler\n",
        "from sklearn.metrics import accuracy_score, f1_score, confusion_matrix\n",
        "import seaborn as sns\n",
        "import matplotlib.pyplot as plt\n",
        "from google.colab import drive\n",
        "from tqdm import tqdm\n",
        "import torchvision\n",
        "import datasets\n",
        "import transformers\n",
        "import sklearn\n",
        "import json\n",
        "from sklearn.metrics import roc_curve, auc\n",
        "from itertools import cycle\n",
        "from sklearn.metrics import precision_recall_fscore_support\n",
        "\n",
        "# Set random seed for reproducibility\n",
        "torch.manual_seed(42)\n",
        "np.random.seed(42)\n",
        "\n",
        "drive.mount('/content/drive', force_remount=False)\n",
        "print(\"Google Drive mounted successfully\")"
      ]
    },
    {
      "cell_type": "markdown",
      "metadata": {
        "id": "uiv9ygg5UkXg"
      },
      "source": [
        "# **1. Data Preprocessing**"
      ]
    },
    {
      "cell_type": "code",
      "execution_count": 2,
      "metadata": {
        "id": "uUdzTd5eUeh7",
        "colab": {
          "base_uri": "https://localhost:8080/"
        },
        "outputId": "917e5112-ad61-4095-c4ea-8f4afc45608b"
      },
      "outputs": [
        {
          "output_type": "stream",
          "name": "stdout",
          "text": [
            "Class distribution: labels\n",
            "1    5039\n",
            "2    5034\n",
            "0    4927\n",
            "Name: count, dtype: int64\n",
            "Average past_scores by proficiency: labels\n",
            "0    1.120617\n",
            "1   -1.103514\n",
            "2    0.007812\n",
            "Name: past_scores, dtype: float64\n"
          ]
        }
      ],
      "source": [
        "# Defining proficiency map\n",
        "proficiency_map = {'Beginner': 1, 'Intermediate': 2, 'Advanced': 3}\n",
        "\n",
        "# Synthetic Student Profile Dataset (15000 samples)\n",
        "n_samples = 15000\n",
        "proficiency = np.random.choice(['Beginner', 'Intermediate', 'Advanced'], n_samples, p=[0.333, 0.333, 0.334])\n",
        "score_ranges = {'Beginner': (50, 70), 'Intermediate': (65, 85), 'Advanced': (80, 100)}\n",
        "past_scores = np.array([np.random.uniform(score_ranges[p][0], score_ranges[p][1]) for p in proficiency])\n",
        "\n",
        "student_data = {\n",
        "    'student_id': [f'S{i}' for i in range(n_samples)],\n",
        "    'age': np.random.randint(18, 25, n_samples),\n",
        "    'grade': np.random.choice(['Freshman', 'Sophomore', 'Junior', 'Senior'], n_samples),\n",
        "    'courses': np.random.choice(['NLP', 'Data Structures', 'Databases', 'Cybersecurity'], n_samples, p=[0.25, 0.25, 0.25, 0.25]),\n",
        "    'past_scores': past_scores,\n",
        "    'topics_mastered': np.random.choice(['NLP Basics', 'Algorithms', 'SQL', 'Security Fundamentals'], n_samples),\n",
        "    'proficiency': proficiency\n",
        "}\n",
        "student_df = pd.DataFrame(student_data)\n",
        "\n",
        "# Encode categorical features\n",
        "le_grade = LabelEncoder()\n",
        "le_courses = LabelEncoder()\n",
        "le_topics = LabelEncoder()\n",
        "le_proficiency = LabelEncoder()\n",
        "\n",
        "student_df['grade'] = le_grade.fit_transform(student_df['grade'])\n",
        "student_df['courses'] = le_courses.fit_transform(student_df['courses'])\n",
        "student_df['topics_mastered'] = le_topics.fit_transform(student_df['topics_mastered'])\n",
        "student_df['proficiency'] = le_proficiency.fit_transform(student_df['proficiency'])\n",
        "\n",
        "# Scale numerical features\n",
        "scaler = StandardScaler()\n",
        "student_df[['age', 'past_scores']] = scaler.fit_transform(student_df[['age', 'past_scores']])\n",
        "\n",
        "# Rename proficiency to labels\n",
        "student_df = student_df.rename(columns={'proficiency': 'labels'})\n",
        "\n",
        "# Debug: Print class distribution and score correlation\n",
        "print(\"Class distribution:\", student_df['labels'].value_counts())\n",
        "print(\"Average past_scores by proficiency:\", student_df.groupby('labels')['past_scores'].mean())"
      ]
    },
    {
      "cell_type": "markdown",
      "metadata": {
        "id": "TfaWy9KnU0yR"
      },
      "source": [
        "# **Preparing input text for DistilBERT**"
      ]
    },
    {
      "cell_type": "code",
      "execution_count": 3,
      "metadata": {
        "id": "s464V9B8U1Em"
      },
      "outputs": [],
      "source": [
        "# Creating input_text column\n",
        "student_df['input_text'] = student_df.apply(\n",
        "    lambda x: f\"Course: {le_courses.inverse_transform([int(x['courses'])])[0]}, \"\n",
        "              f\"Topic Mastered: {le_topics.inverse_transform([int(x['topics_mastered'])])[0]}, \"\n",
        "              f\"Past Score: {x['past_scores']:.2f}, \"\n",
        "              f\"Grade: {le_grade.inverse_transform([int(x['grade'])])[0]}\",\n",
        "    axis=1\n",
        ")"
      ]
    },
    {
      "cell_type": "code",
      "execution_count": 4,
      "metadata": {
        "colab": {
          "base_uri": "https://localhost:8080/",
          "height": 185,
          "referenced_widgets": [
            "46d934889e6a48ad804755de3e3ab17d",
            "6f8b5ace5c3648a8a62628c1be9a4ba3",
            "79a50e6a55384e1b8a2fef19efe98b6f",
            "806b7eb8cc3244248a008297d3bef3cb",
            "7091709ae9524d29b7f690c95a2d5d6b",
            "ba19ceb43a0149e59f7e23b58bebfb60",
            "ca4a00adc6cb4b86a01eff4a928247d2",
            "3ef298b866134e1b892afb55c80b698a",
            "19a1cc972d4046a3be921086ad58338d",
            "e9d644d3b6f6423aad11c0e9d54a09fc",
            "45bd1a81a543401e971eaa84b0e013fc",
            "92e8e9b088f34dd28cdfbc7e69697788",
            "10279d0983da43c086b8ae97dd5a412a",
            "3396f6de83dd4e979fca375e37cff8d1",
            "08289811305d454c9f79a8ad343b5c00",
            "fb97471046c14c71bf58ad4192bf5359",
            "51ee99cef4fd49b983c1220d7906f124",
            "d6560262f6a14be4a7de161ff0f0c459",
            "8b3d3fe022574372a9ae80290ec2d0ca",
            "3b2e367922b84b809534b560b4d8e01f",
            "14095a929c2b4598a5f7dc094cf77569",
            "e8954f60b0754f16a32737423779e707",
            "5894c6db257f4f06bcb94d83d31224c8",
            "e7650030c1b24c95929df75cb55648a4",
            "d61124a72f8b4377a275fc87f7cded7d",
            "fd8159fffa764aa8a70a88b346a0fb7e",
            "925ac3a96f404a1e9d9e0a6961241209",
            "8c68ebb418a74208a53f96424b049d35",
            "68691ed0b3a944fda1d2b996fb3f5fb9",
            "a9c9c517b83542cb81e184df90a32201",
            "ad4c123e48d748e98d6f6e5463dd182b",
            "8f1cc80afea04a7f949e528cb8d62abb",
            "e86ab1dc80984f82977d65bc36c9fdbb"
          ]
        },
        "id": "Nx_06I-fVAHV",
        "outputId": "da5cb8a4-109b-4a54-f7c4-8eaf9f11b5b8"
      },
      "outputs": [
        {
          "output_type": "stream",
          "name": "stderr",
          "text": [
            "Some weights of DistilBertForSequenceClassification were not initialized from the model checkpoint at distilbert-base-uncased and are newly initialized: ['classifier.bias', 'classifier.weight', 'pre_classifier.bias', 'pre_classifier.weight']\n",
            "You should probably TRAIN this model on a down-stream task to be able to use it for predictions and inference.\n"
          ]
        },
        {
          "output_type": "display_data",
          "data": {
            "text/plain": [
              "Map:   0%|          | 0/10500 [00:00<?, ? examples/s]"
            ],
            "application/vnd.jupyter.widget-view+json": {
              "version_major": 2,
              "version_minor": 0,
              "model_id": "46d934889e6a48ad804755de3e3ab17d"
            }
          },
          "metadata": {}
        },
        {
          "output_type": "display_data",
          "data": {
            "text/plain": [
              "Map:   0%|          | 0/2250 [00:00<?, ? examples/s]"
            ],
            "application/vnd.jupyter.widget-view+json": {
              "version_major": 2,
              "version_minor": 0,
              "model_id": "92e8e9b088f34dd28cdfbc7e69697788"
            }
          },
          "metadata": {}
        },
        {
          "output_type": "display_data",
          "data": {
            "text/plain": [
              "Map:   0%|          | 0/2250 [00:00<?, ? examples/s]"
            ],
            "application/vnd.jupyter.widget-view+json": {
              "version_major": 2,
              "version_minor": 0,
              "model_id": "5894c6db257f4f06bcb94d83d31224c8"
            }
          },
          "metadata": {}
        },
        {
          "output_type": "stream",
          "name": "stdout",
          "text": [
            "Train dataset sample: {'input_ids': [101, 2607, 1024, 16941, 3366, 10841, 15780, 1010, 8476, 15682], 'attention_mask': [1, 1, 1, 1, 1, 1, 1, 1, 1, 1], 'labels': 1}\n"
          ]
        }
      ],
      "source": [
        "# Splitting dataset into train, validation, and test sets\n",
        "train_df, temp_df = train_test_split(student_df, test_size=0.3, random_state=42, stratify=student_df['labels'])\n",
        "val_df, test_df = train_test_split(temp_df, test_size=0.5, random_state=42, stratify=temp_df['labels'])\n",
        "\n",
        "# Converting to Hugging Face Dataset\n",
        "train_dataset = Dataset.from_pandas(train_df)\n",
        "val_dataset = Dataset.from_pandas(val_df)\n",
        "test_dataset = Dataset.from_pandas(test_df)\n",
        "\n",
        "tokenizer = DistilBertTokenizer.from_pretrained('distilbert-base-uncased')\n",
        "model = DistilBertForSequenceClassification.from_pretrained(\n",
        "    'distilbert-base-uncased',\n",
        "    num_labels=3,\n",
        "    dropout=0.1,\n",
        "    attention_dropout=0.1\n",
        ")\n",
        "\n",
        "device = torch.device('cuda' if torch.cuda.is_available() else 'cpu')\n",
        "model.to(device)\n",
        "\n",
        "def tokenize_function(examples):\n",
        "    return tokenizer(examples['input_text'], padding='max_length', truncation=True, max_length=128)\n",
        "\n",
        "train_dataset = train_dataset.map(tokenize_function, batched=True)\n",
        "val_dataset = val_dataset.map(tokenize_function, batched=True)\n",
        "test_dataset = test_dataset.map(tokenize_function, batched=True)\n",
        "\n",
        "# Removing non-essential columns to avoid Arrow-to-NumPy conversion issues\n",
        "train_dataset = train_dataset.remove_columns([col for col in train_dataset.column_names if col not in ['input_ids', 'attention_mask', 'labels']])\n",
        "val_dataset = val_dataset.remove_columns([col for col in val_dataset.column_names if col not in ['input_ids', 'attention_mask', 'labels']])\n",
        "test_dataset = test_dataset.remove_columns([col for col in test_dataset.column_names if col not in ['input_ids', 'attention_mask', 'labels']])\n",
        "\n",
        "# Setting format for PyTorch\n",
        "train_dataset.set_format('torch', columns=['input_ids', 'attention_mask', 'labels'])\n",
        "val_dataset.set_format('torch', columns=['input_ids', 'attention_mask', 'labels'])\n",
        "test_dataset.set_format('torch', columns=['input_ids', 'attention_mask', 'labels'])\n",
        "\n",
        "sample = train_dataset[0]\n",
        "print(\"Train dataset sample:\", {\n",
        "    'input_ids': sample['input_ids'].tolist()[:10],  # Convert to list and show first 10 tokens for brevity\n",
        "    'attention_mask': sample['attention_mask'].tolist()[:10],  # Convert to list\n",
        "    'labels': sample['labels'].item()  # Convert scalar tensor to Python int\n",
        "})"
      ]
    },
    {
      "cell_type": "markdown",
      "metadata": {
        "id": "q4F5qXyPVKHK"
      },
      "source": [
        "# **3. Model Training**"
      ]
    },
    {
      "cell_type": "code",
      "execution_count": 5,
      "metadata": {
        "id": "0VXn8nkLVLgv"
      },
      "outputs": [],
      "source": [
        "training_args = TrainingArguments(\n",
        "    output_dir='./results',\n",
        "    eval_strategy='epoch',\n",
        "    learning_rate=5e-5,\n",
        "    per_device_train_batch_size=8,\n",
        "    per_device_eval_batch_size=8,\n",
        "    num_train_epochs=10,\n",
        "    weight_decay=0.01,\n",
        "    logging_dir='./logs',\n",
        "    logging_steps=100,\n",
        "    save_strategy='epoch',\n",
        "    load_best_model_at_end=True,\n",
        "    metric_for_best_model='accuracy',\n",
        "    report_to='none',\n",
        "    fp16=torch.cuda.is_available(),\n",
        "    gradient_accumulation_steps=2,\n",
        "    warmup_steps=100\n",
        ")\n",
        "\n",
        "def compute_metrics(eval_pred):\n",
        "    logits, labels = eval_pred\n",
        "    predictions = np.argmax(logits, axis=1)\n",
        "    accuracy = accuracy_score(labels, predictions)\n",
        "    f1 = f1_score(labels, predictions, average='weighted')\n",
        "    return {'accuracy': accuracy, 'f1': f1}\n",
        "\n",
        "trainer = Trainer(\n",
        "    model=model,\n",
        "    args=training_args,\n",
        "    train_dataset=train_dataset,\n",
        "    eval_dataset=val_dataset,\n",
        "    compute_metrics=compute_metrics\n",
        ")\n"
      ]
    },
    {
      "cell_type": "code",
      "execution_count": 6,
      "metadata": {
        "colab": {
          "base_uri": "https://localhost:8080/",
          "height": 392
        },
        "id": "00jwLeTzVPBO",
        "outputId": "29388b81-fd17-4298-b097-105e87152303"
      },
      "outputs": [
        {
          "output_type": "display_data",
          "data": {
            "text/plain": [
              "<IPython.core.display.HTML object>"
            ],
            "text/html": [
              "\n",
              "    <div>\n",
              "      \n",
              "      <progress value='6560' max='6560' style='width:300px; height:20px; vertical-align: middle;'></progress>\n",
              "      [6560/6560 08:03, Epoch 9/10]\n",
              "    </div>\n",
              "    <table border=\"1\" class=\"dataframe\">\n",
              "  <thead>\n",
              " <tr style=\"text-align: left;\">\n",
              "      <th>Epoch</th>\n",
              "      <th>Training Loss</th>\n",
              "      <th>Validation Loss</th>\n",
              "      <th>Accuracy</th>\n",
              "      <th>F1</th>\n",
              "    </tr>\n",
              "  </thead>\n",
              "  <tbody>\n",
              "    <tr>\n",
              "      <td>1</td>\n",
              "      <td>0.255900</td>\n",
              "      <td>0.235724</td>\n",
              "      <td>0.842222</td>\n",
              "      <td>0.840957</td>\n",
              "    </tr>\n",
              "    <tr>\n",
              "      <td>2</td>\n",
              "      <td>0.251000</td>\n",
              "      <td>0.230517</td>\n",
              "      <td>0.837778</td>\n",
              "      <td>0.827067</td>\n",
              "    </tr>\n",
              "    <tr>\n",
              "      <td>3</td>\n",
              "      <td>0.254600</td>\n",
              "      <td>0.228444</td>\n",
              "      <td>0.835556</td>\n",
              "      <td>0.840129</td>\n",
              "    </tr>\n",
              "    <tr>\n",
              "      <td>4</td>\n",
              "      <td>0.225600</td>\n",
              "      <td>0.230392</td>\n",
              "      <td>0.833333</td>\n",
              "      <td>0.837974</td>\n",
              "    </tr>\n",
              "    <tr>\n",
              "      <td>5</td>\n",
              "      <td>0.231600</td>\n",
              "      <td>0.227749</td>\n",
              "      <td>0.842667</td>\n",
              "      <td>0.841470</td>\n",
              "    </tr>\n",
              "    <tr>\n",
              "      <td>6</td>\n",
              "      <td>0.242800</td>\n",
              "      <td>0.225657</td>\n",
              "      <td>0.837778</td>\n",
              "      <td>0.833525</td>\n",
              "    </tr>\n",
              "    <tr>\n",
              "      <td>7</td>\n",
              "      <td>0.237800</td>\n",
              "      <td>0.226038</td>\n",
              "      <td>0.845333</td>\n",
              "      <td>0.843995</td>\n",
              "    </tr>\n",
              "    <tr>\n",
              "      <td>8</td>\n",
              "      <td>0.227500</td>\n",
              "      <td>0.230872</td>\n",
              "      <td>0.842667</td>\n",
              "      <td>0.843497</td>\n",
              "    </tr>\n",
              "    <tr>\n",
              "      <td>9</td>\n",
              "      <td>0.222000</td>\n",
              "      <td>0.232151</td>\n",
              "      <td>0.836000</td>\n",
              "      <td>0.836640</td>\n",
              "    </tr>\n",
              "  </tbody>\n",
              "</table><p>"
            ]
          },
          "metadata": {}
        },
        {
          "output_type": "execute_result",
          "data": {
            "text/plain": [
              "TrainOutput(global_step=6560, training_loss=0.24313661761400177, metrics={'train_runtime': 484.4491, 'train_samples_per_second': 216.741, 'train_steps_per_second': 13.541, 'total_flos': 3472429845722112.0, 'train_loss': 0.24313661761400177, 'epoch': 9.985529322162986})"
            ]
          },
          "metadata": {},
          "execution_count": 6
        }
      ],
      "source": [
        "trainer.train()"
      ]
    },
    {
      "cell_type": "code",
      "execution_count": 7,
      "metadata": {
        "id": "BCj0gucxVSlT",
        "colab": {
          "base_uri": "https://localhost:8080/"
        },
        "outputId": "591ab2d2-4b88-4861-dd2b-7d2cb585b9fa"
      },
      "outputs": [
        {
          "output_type": "stream",
          "name": "stdout",
          "text": [
            "Model saved successfully\n"
          ]
        }
      ],
      "source": [
        "# Saving model and tokenizer\n",
        "model.save_pretrained('/content/drive/MyDrive/personalization_model')\n",
        "tokenizer.save_pretrained('/content/drive/MyDrive/personalization_model')\n",
        "print(\"Model saved successfully\")"
      ]
    },
    {
      "cell_type": "markdown",
      "metadata": {
        "id": "lncRxQg9VVwL"
      },
      "source": [
        "# **4. Personalization Function**"
      ]
    },
    {
      "cell_type": "code",
      "execution_count": 8,
      "metadata": {
        "id": "onG3uAQCVTIN"
      },
      "outputs": [],
      "source": [
        "questions_data = {\n",
        "    'question': [f\"Question {i}\" for i in range(100)],\n",
        "    'topic': np.random.choice(['NLP', 'Data Structures', 'Databases', 'Cybersecurity'], 100),\n",
        "    'difficulty': np.random.choice(['Beginner', 'Intermediate', 'Advanced'], 100),\n",
        "    'difficulty_num': np.random.choice([1, 2, 3], 100)\n",
        "}\n",
        "questions_df = pd.DataFrame(questions_data)\n",
        "\n",
        "# Related topic mapping for fallback\n",
        "related_topics = {\n",
        "    'NLP': ['Data Structures', 'Databases'],\n",
        "    'Data Structures': ['NLP', 'Databases'],\n",
        "    'Databases': ['Data Structures', 'Cybersecurity'],\n",
        "    'Cybersecurity': ['Databases', 'NLP']\n",
        "}\n",
        "\n",
        "# Personalization function\n",
        "def personalize_exam(student_profile, questions_df, model, tokenizer, num_questions=5):\n",
        "    input_text = f\"Course: {le_courses.inverse_transform([int(student_profile['courses'])])[0]}, \" \\\n",
        "                 f\"Topic Mastered: {le_topics.inverse_transform([int(student_profile['topics_mastered'])])[0]}, \" \\\n",
        "                 f\"Past Score: {student_profile['past_scores']:.2f}, \" \\\n",
        "                 f\"Grade: {le_grade.inverse_transform([int(student_profile['grade'])])[0]}\"\n",
        "    inputs = tokenizer(input_text, return_tensors='pt', padding=True, truncation=True, max_length=128).to(device)\n",
        "\n",
        "    model.eval()\n",
        "    with torch.no_grad():\n",
        "        outputs = model(**inputs)\n",
        "        predicted_proficiency = torch.argmax(outputs.logits, dim=1).item()\n",
        "\n",
        "    predicted_proficiency_label = le_proficiency.inverse_transform([predicted_proficiency])[0]\n",
        "    proficiency_num = proficiency_map[predicted_proficiency_label]\n",
        "\n",
        "    # Debug: Print student course and proficiency\n",
        "    student_course = le_courses.inverse_transform([int(student_profile['courses'])])[0]\n",
        "    print(f\"Student Course: {student_course}, Predicted Proficiency: {predicted_proficiency_label}\")\n",
        "\n",
        "    # Try course-specific questions\n",
        "    candidate_questions = questions_df[questions_df['topic'] == student_course]\n",
        "    filtered_questions = candidate_questions[\n",
        "        abs(candidate_questions['difficulty_num'] - proficiency_num) <= 1\n",
        "    ]\n",
        "\n",
        "    # Fallback 1: All difficulties for course\n",
        "    if len(filtered_questions) == 0:\n",
        "        filtered_questions = candidate_questions\n",
        "        print(f\"No questions match difficulty {proficiency_num}±1 for {student_course}, using all difficulties\")\n",
        "\n",
        "    # Fallback 2: Related topics with matching difficulty\n",
        "    if len(filtered_questions) == 0:\n",
        "        related = related_topics.get(student_course, ['NLP'])\n",
        "        candidate_questions = questions_df[questions_df['topic'].isin(related)]\n",
        "        filtered_questions = candidate_questions[\n",
        "            abs(candidate_questions['difficulty_num'] - proficiency_num) <= 1\n",
        "        ]\n",
        "        print(f\"No questions found for course {student_course}, using related topics {related}\")\n",
        "\n",
        "    # Fallback 3: Any topic with matching difficulty\n",
        "    if len(filtered_questions) == 0:\n",
        "        filtered_questions = questions_df[abs(questions_df['difficulty_num'] - proficiency_num) <= 1]\n",
        "        print(f\"No questions found for related topics, using any topic with difficulty {proficiency_num}±1\")\n",
        "\n",
        "    # Select questions\n",
        "    if len(filtered_questions) >= num_questions:\n",
        "        selected_questions = filtered_questions.sample(num_questions, random_state=42)\n",
        "    elif len(filtered_questions) > 0:\n",
        "        selected_questions = filtered_questions\n",
        "    else:\n",
        "        selected_questions = pd.DataFrame(columns=candidate_questions.columns)\n",
        "        print(f\"No suitable questions found\")\n",
        "\n",
        "    return selected_questions, predicted_proficiency_label"
      ]
    },
    {
      "cell_type": "markdown",
      "metadata": {
        "id": "4ajxYm6uVej7"
      },
      "source": [
        "# **5. Evaluation**"
      ]
    },
    {
      "cell_type": "code",
      "source": [
        "# Evaluate model on test set\n",
        "test_results = trainer.evaluate(test_dataset)\n",
        "print(\"Test Results:\", test_results)\n",
        "\n",
        "# Confusion Matrix\n",
        "predictions = trainer.predict(test_dataset).predictions\n",
        "predicted_labels = np.argmax(predictions, axis=1)\n",
        "true_labels = test_df['labels'].values\n",
        "cm = confusion_matrix(true_labels, predicted_labels)\n",
        "sns.heatmap(cm, annot=True, fmt='d', xticklabels=le_proficiency.classes_, yticklabels=le_proficiency.classes_)\n",
        "plt.xlabel('Predicted')\n",
        "plt.ylabel('True')\n",
        "plt.title('Confusion Matrix')\n",
        "plt.savefig('/content/drive/MyDrive/confusion_matrix.png')\n",
        "plt.show()\n",
        "\n",
        "# Personalization Evaluation\n",
        "alignment_rates = []\n",
        "difficulty_diffs = []\n",
        "for idx, student in tqdm(test_df.iterrows(), total=len(test_df), desc=\"Evaluating personalization\"):\n",
        "    selected_questions, predicted_proficiency = personalize_exam(student, questions_df, model, tokenizer)\n",
        "\n",
        "    # Handle empty selected_questions\n",
        "    if len(selected_questions) == 0:\n",
        "        alignment = 0\n",
        "        diff = np.nan\n",
        "    else:\n",
        "        student_course = le_courses.inverse_transform([int(student['courses'])])[0]\n",
        "        alignment = len(selected_questions[selected_questions['topic'] == student_course]) / len(selected_questions)\n",
        "        proficiency_num = proficiency_map[le_proficiency.inverse_transform([int(student['labels'])])[0]]\n",
        "        diff = np.mean(abs(selected_questions['difficulty_num'] - proficiency_num))\n",
        "\n",
        "    alignment_rates.append(alignment)\n",
        "    difficulty_diffs.append(diff)\n",
        "\n",
        "# Filter out NaN for mean calculation\n",
        "difficulty_diffs = [d for d in difficulty_diffs if not np.isnan(d)]\n",
        "print(f\"Average Alignment Rate: {np.mean(alignment_rates):.4f}\")\n",
        "print(f\"Average Difficulty Suitability (MAE): {np.mean(difficulty_diffs):.4f}\" if difficulty_diffs else \"No valid difficulty differences\")\n",
        "\n",
        "results = {\n",
        "    'test_accuracy': test_results['eval_accuracy'],\n",
        "    'test_f1': test_results['eval_f1'],\n",
        "    'alignment_rate': np.mean(alignment_rates),\n",
        "    'difficulty_suitability': np.mean(difficulty_diffs) if difficulty_diffs else None\n",
        "}\n",
        "with open('/content/drive/MyDrive/personalization_results.json', 'w') as f:\n",
        "    json.dump(results, f, indent=4)\n",
        "print(\"Results saved to /content/drive/MyDrive/personalization_results.json\")"
      ],
      "metadata": {
        "colab": {
          "base_uri": "https://localhost:8080/",
          "height": 1000
        },
        "id": "8uq825Vrd8y1",
        "outputId": "4be1b765-85c1-4d83-cdc8-72358187da77"
      },
      "execution_count": 9,
      "outputs": [
        {
          "output_type": "display_data",
          "data": {
            "text/plain": [
              "<IPython.core.display.HTML object>"
            ],
            "text/html": []
          },
          "metadata": {}
        },
        {
          "output_type": "stream",
          "name": "stdout",
          "text": [
            "Test Results: {'eval_loss': 0.23389366269111633, 'eval_accuracy': 0.8382222222222222, 'eval_f1': 0.8365044837214944, 'eval_runtime': 2.1528, 'eval_samples_per_second': 1045.174, 'eval_steps_per_second': 130.995, 'epoch': 9.985529322162986}\n"
          ]
        },
        {
          "output_type": "display_data",
          "data": {
            "text/plain": [
              "<Figure size 640x480 with 2 Axes>"
            ],
            "image/png": "[encoded data removed]"
          },
          "metadata": {}
        },
        {
          "output_type": "stream",
          "name": "stderr",
          "text": [
            "Evaluating personalization:   1%|          | 15/2250 [00:00<00:32, 69.53it/s]"
          ]
        },
        {
          "output_type": "stream",
          "name": "stdout",
          "text": [
            "Student Course: Databases, Predicted Proficiency: Advanced\n",
            "Student Course: Cybersecurity, Predicted Proficiency: Intermediate\n",
            "Student Course: Cybersecurity, Predicted Proficiency: Beginner\n",
            "Student Course: NLP, Predicted Proficiency: Advanced\n",
            "Student Course: NLP, Predicted Proficiency: Advanced\n",
            "Student Course: Cybersecurity, Predicted Proficiency: Advanced\n",
            "Student Course: Databases, Predicted Proficiency: Beginner\n",
            "Student Course: Cybersecurity, Predicted Proficiency: Advanced\n",
            "Student Course: Data Structures, Predicted Proficiency: Intermediate\n",
            "Student Course: NLP, Predicted Proficiency: Beginner\n",
            "Student Course: Databases, Predicted Proficiency: Beginner\n",
            "Student Course: NLP, Predicted Proficiency: Beginner\n",
            "Student Course: Cybersecurity, Predicted Proficiency: Advanced\n",
            "Student Course: Cybersecurity, Predicted Proficiency: Intermediate\n",
            "Student Course: Databases, Predicted Proficiency: Intermediate\n",
            "Student Course: Databases, Predicted Proficiency: Beginner\n",
            "Student Course: NLP, Predicted Proficiency: Intermediate\n"
          ]
        },
        {
          "output_type": "stream",
          "name": "stderr",
          "text": [
            "Evaluating personalization:   2%|▏         | 34/2250 [00:00<00:26, 84.38it/s]"
          ]
        },
        {
          "output_type": "stream",
          "name": "stdout",
          "text": [
            "Student Course: Cybersecurity, Predicted Proficiency: Advanced\n",
            "Student Course: Cybersecurity, Predicted Proficiency: Beginner\n",
            "Student Course: Cybersecurity, Predicted Proficiency: Advanced\n",
            "Student Course: NLP, Predicted Proficiency: Intermediate\n",
            "Student Course: Data Structures, Predicted Proficiency: Beginner\n",
            "Student Course: Databases, Predicted Proficiency: Advanced\n",
            "Student Course: Data Structures, Predicted Proficiency: Advanced\n",
            "Student Course: Databases, Predicted Proficiency: Advanced\n",
            "Student Course: Data Structures, Predicted Proficiency: Advanced\n",
            "Student Course: Cybersecurity, Predicted Proficiency: Advanced\n",
            "Student Course: Data Structures, Predicted Proficiency: Beginner\n",
            "Student Course: Databases, Predicted Proficiency: Advanced\n",
            "Student Course: NLP, Predicted Proficiency: Advanced\n",
            "Student Course: Databases, Predicted Proficiency: Intermediate\n",
            "Student Course: Cybersecurity, Predicted Proficiency: Advanced\n",
            "Student Course: Databases, Predicted Proficiency: Intermediate\n",
            "Student Course: NLP, Predicted Proficiency: Advanced\n",
            "Student Course: NLP, Predicted Proficiency: Advanced\n",
            "Student Course: Cybersecurity, Predicted Proficiency: Beginner\n",
            "Student Course: Data Structures, Predicted Proficiency: Beginner\n"
          ]
        },
        {
          "output_type": "stream",
          "name": "stderr",
          "text": [
            "Evaluating personalization:   2%|▏         | 54/2250 [00:00<00:23, 91.69it/s]"
          ]
        },
        {
          "output_type": "stream",
          "name": "stdout",
          "text": [
            "Student Course: Databases, Predicted Proficiency: Advanced\n",
            "Student Course: Data Structures, Predicted Proficiency: Intermediate\n",
            "Student Course: Cybersecurity, Predicted Proficiency: Advanced\n",
            "Student Course: Data Structures, Predicted Proficiency: Advanced\n",
            "Student Course: Data Structures, Predicted Proficiency: Beginner\n",
            "Student Course: Cybersecurity, Predicted Proficiency: Intermediate\n",
            "Student Course: Data Structures, Predicted Proficiency: Beginner\n",
            "Student Course: Data Structures, Predicted Proficiency: Advanced\n",
            "Student Course: Cybersecurity, Predicted Proficiency: Advanced\n",
            "Student Course: Data Structures, Predicted Proficiency: Intermediate\n",
            "Student Course: Databases, Predicted Proficiency: Advanced\n",
            "Student Course: Databases, Predicted Proficiency: Intermediate\n",
            "Student Course: Data Structures, Predicted Proficiency: Intermediate\n",
            "Student Course: Data Structures, Predicted Proficiency: Beginner\n",
            "Student Course: Data Structures, Predicted Proficiency: Beginner\n",
            "Student Course: NLP, Predicted Proficiency: Beginner\n",
            "Student Course: NLP, Predicted Proficiency: Intermediate\n",
            "Student Course: Cybersecurity, Predicted Proficiency: Intermediate\n",
            "Student Course: Databases, Predicted Proficiency: Advanced\n",
            "Student Course: NLP, Predicted Proficiency: Advanced\n"
          ]
        },
        {
          "output_type": "stream",
          "name": "stderr",
          "text": [
            "Evaluating personalization:   3%|▎         | 74/2250 [00:00<00:22, 95.30it/s]"
          ]
        },
        {
          "output_type": "stream",
          "name": "stdout",
          "text": [
            "Student Course: NLP, Predicted Proficiency: Advanced\n",
            "Student Course: Data Structures, Predicted Proficiency: Advanced\n",
            "Student Course: NLP, Predicted Proficiency: Intermediate\n",
            "Student Course: Data Structures, Predicted Proficiency: Intermediate\n",
            "Student Course: Databases, Predicted Proficiency: Advanced\n",
            "Student Course: NLP, Predicted Proficiency: Beginner\n",
            "Student Course: Databases, Predicted Proficiency: Advanced\n",
            "Student Course: Data Structures, Predicted Proficiency: Intermediate\n",
            "Student Course: Cybersecurity, Predicted Proficiency: Beginner\n",
            "Student Course: Data Structures, Predicted Proficiency: Beginner\n",
            "Student Course: NLP, Predicted Proficiency: Intermediate\n",
            "Student Course: Cybersecurity, Predicted Proficiency: Intermediate\n",
            "Student Course: Data Structures, Predicted Proficiency: Advanced\n",
            "Student Course: Cybersecurity, Predicted Proficiency: Beginner\n",
            "Student Course: NLP, Predicted Proficiency: Beginner\n",
            "Student Course: NLP, Predicted Proficiency: Intermediate\n",
            "Student Course: Databases, Predicted Proficiency: Advanced\n",
            "Student Course: NLP, Predicted Proficiency: Beginner\n",
            "Student Course: Cybersecurity, Predicted Proficiency: Intermediate\n",
            "Student Course: NLP, Predicted Proficiency: Intermediate\n",
            "Student Course: Data Structures, Predicted Proficiency: Intermediate\n"
          ]
        },
        {
          "output_type": "stream",
          "name": "stderr",
          "text": [
            "Evaluating personalization:   4%|▍         | 95/2250 [00:01<00:22, 97.12it/s]"
          ]
        },
        {
          "output_type": "stream",
          "name": "stdout",
          "text": [
            "Student Course: Databases, Predicted Proficiency: Intermediate\n",
            "Student Course: Data Structures, Predicted Proficiency: Advanced\n",
            "Student Course: Data Structures, Predicted Proficiency: Intermediate\n",
            "Student Course: Cybersecurity, Predicted Proficiency: Advanced\n",
            "Student Course: Databases, Predicted Proficiency: Intermediate\n",
            "Student Course: Databases, Predicted Proficiency: Beginner\n",
            "Student Course: NLP, Predicted Proficiency: Beginner\n",
            "Student Course: Databases, Predicted Proficiency: Beginner\n",
            "Student Course: Data Structures, Predicted Proficiency: Advanced\n",
            "Student Course: NLP, Predicted Proficiency: Advanced\n",
            "Student Course: Databases, Predicted Proficiency: Intermediate\n",
            "Student Course: Data Structures, Predicted Proficiency: Intermediate\n",
            "Student Course: Data Structures, Predicted Proficiency: Intermediate\n",
            "Student Course: Databases, Predicted Proficiency: Beginner\n",
            "Student Course: Databases, Predicted Proficiency: Beginner\n",
            "Student Course: Cybersecurity, Predicted Proficiency: Advanced\n",
            "Student Course: Data Structures, Predicted Proficiency: Intermediate\n",
            "Student Course: NLP, Predicted Proficiency: Beginner\n",
            "Student Course: Databases, Predicted Proficiency: Intermediate\n",
            "Student Course: Cybersecurity, Predicted Proficiency: Intermediate\n",
            "Student Course: Databases, Predicted Proficiency: Beginner\n"
          ]
        },
        {
          "output_type": "stream",
          "name": "stderr",
          "text": [
            "Evaluating personalization:   5%|▌         | 116/2250 [00:01<00:21, 99.78it/s]"
          ]
        },
        {
          "output_type": "stream",
          "name": "stdout",
          "text": [
            "Student Course: Data Structures, Predicted Proficiency: Beginner\n",
            "Student Course: Data Structures, Predicted Proficiency: Beginner\n",
            "Student Course: Cybersecurity, Predicted Proficiency: Advanced\n",
            "Student Course: Data Structures, Predicted Proficiency: Beginner\n",
            "Student Course: Data Structures, Predicted Proficiency: Intermediate\n",
            "Student Course: NLP, Predicted Proficiency: Beginner\n",
            "Student Course: NLP, Predicted Proficiency: Beginner\n",
            "Student Course: Cybersecurity, Predicted Proficiency: Beginner\n",
            "Student Course: Cybersecurity, Predicted Proficiency: Intermediate\n",
            "Student Course: NLP, Predicted Proficiency: Intermediate\n",
            "Student Course: Databases, Predicted Proficiency: Beginner\n",
            "Student Course: Data Structures, Predicted Proficiency: Beginner\n",
            "Student Course: Databases, Predicted Proficiency: Beginner\n",
            "Student Course: NLP, Predicted Proficiency: Advanced\n",
            "Student Course: Databases, Predicted Proficiency: Advanced\n",
            "Student Course: Cybersecurity, Predicted Proficiency: Advanced\n",
            "Student Course: Databases, Predicted Proficiency: Advanced\n",
            "Student Course: Data Structures, Predicted Proficiency: Intermediate\n",
            "Student Course: Databases, Predicted Proficiency: Beginner\n",
            "Student Course: Cybersecurity, Predicted Proficiency: Advanced\n",
            "Student Course: Data Structures, Predicted Proficiency: Beginner\n"
          ]
        },
        {
          "output_type": "stream",
          "name": "stderr",
          "text": [
            "Evaluating personalization:   6%|▌         | 138/2250 [00:01<00:20, 101.54it/s]"
          ]
        },
        {
          "output_type": "stream",
          "name": "stdout",
          "text": [
            "Student Course: Cybersecurity, Predicted Proficiency: Intermediate\n",
            "Student Course: NLP, Predicted Proficiency: Intermediate\n",
            "Student Course: NLP, Predicted Proficiency: Advanced\n",
            "Student Course: Data Structures, Predicted Proficiency: Advanced\n",
            "Student Course: NLP, Predicted Proficiency: Beginner\n",
            "Student Course: NLP, Predicted Proficiency: Intermediate\n",
            "Student Course: Cybersecurity, Predicted Proficiency: Advanced\n",
            "Student Course: Databases, Predicted Proficiency: Advanced\n",
            "Student Course: Data Structures, Predicted Proficiency: Intermediate\n",
            "Student Course: NLP, Predicted Proficiency: Intermediate\n",
            "Student Course: Databases, Predicted Proficiency: Beginner\n",
            "Student Course: Cybersecurity, Predicted Proficiency: Intermediate\n",
            "Student Course: Cybersecurity, Predicted Proficiency: Intermediate\n",
            "Student Course: Data Structures, Predicted Proficiency: Intermediate\n",
            "Student Course: Cybersecurity, Predicted Proficiency: Advanced\n",
            "Student Course: Data Structures, Predicted Proficiency: Intermediate\n",
            "Student Course: Databases, Predicted Proficiency: Intermediate\n",
            "Student Course: Data Structures, Predicted Proficiency: Beginner\n",
            "Student Course: Databases, Predicted Proficiency: Intermediate\n",
            "Student Course: Cybersecurity, Predicted Proficiency: Beginner\n",
            "Student Course: NLP, Predicted Proficiency: Intermediate\n"
          ]
        },
        {
          "output_type": "stream",
          "name": "stderr",
          "text": [
            "Evaluating personalization:   7%|▋         | 160/2250 [00:01<00:20, 101.59it/s]"
          ]
        },
        {
          "output_type": "stream",
          "name": "stdout",
          "text": [
            "Student Course: Data Structures, Predicted Proficiency: Beginner\n",
            "Student Course: Data Structures, Predicted Proficiency: Intermediate\n",
            "Student Course: Databases, Predicted Proficiency: Intermediate\n",
            "Student Course: Data Structures, Predicted Proficiency: Advanced\n",
            "Student Course: NLP, Predicted Proficiency: Advanced\n",
            "Student Course: NLP, Predicted Proficiency: Intermediate\n",
            "Student Course: Data Structures, Predicted Proficiency: Intermediate\n",
            "Student Course: Databases, Predicted Proficiency: Beginner\n",
            "Student Course: Data Structures, Predicted Proficiency: Intermediate\n",
            "Student Course: Databases, Predicted Proficiency: Beginner\n",
            "Student Course: NLP, Predicted Proficiency: Advanced\n",
            "Student Course: Cybersecurity, Predicted Proficiency: Beginner\n",
            "Student Course: NLP, Predicted Proficiency: Beginner\n",
            "Student Course: Cybersecurity, Predicted Proficiency: Intermediate\n",
            "Student Course: NLP, Predicted Proficiency: Beginner\n",
            "Student Course: NLP, Predicted Proficiency: Intermediate\n",
            "Student Course: Databases, Predicted Proficiency: Advanced\n",
            "Student Course: Data Structures, Predicted Proficiency: Intermediate\n",
            "Student Course: Data Structures, Predicted Proficiency: Intermediate\n",
            "Student Course: NLP, Predicted Proficiency: Intermediate\n",
            "Student Course: Cybersecurity, Predicted Proficiency: Beginner\n"
          ]
        },
        {
          "output_type": "stream",
          "name": "stderr",
          "text": [
            "Evaluating personalization:   8%|▊         | 182/2250 [00:01<00:20, 101.81it/s]"
          ]
        },
        {
          "output_type": "stream",
          "name": "stdout",
          "text": [
            "Student Course: Databases, Predicted Proficiency: Beginner\n",
            "Student Course: Cybersecurity, Predicted Proficiency: Intermediate\n",
            "Student Course: Cybersecurity, Predicted Proficiency: Beginner\n",
            "Student Course: Data Structures, Predicted Proficiency: Beginner\n",
            "Student Course: Data Structures, Predicted Proficiency: Beginner\n",
            "Student Course: Data Structures, Predicted Proficiency: Intermediate\n",
            "Student Course: NLP, Predicted Proficiency: Beginner\n",
            "Student Course: NLP, Predicted Proficiency: Intermediate\n",
            "Student Course: NLP, Predicted Proficiency: Advanced\n",
            "Student Course: Cybersecurity, Predicted Proficiency: Beginner\n",
            "Student Course: Cybersecurity, Predicted Proficiency: Intermediate\n",
            "Student Course: NLP, Predicted Proficiency: Advanced\n",
            "Student Course: Databases, Predicted Proficiency: Beginner\n",
            "Student Course: Databases, Predicted Proficiency: Intermediate\n",
            "Student Course: Databases, Predicted Proficiency: Beginner\n",
            "Student Course: Data Structures, Predicted Proficiency: Beginner\n",
            "Student Course: Data Structures, Predicted Proficiency: Beginner\n",
            "Student Course: Cybersecurity, Predicted Proficiency: Intermediate\n",
            "Student Course: NLP, Predicted Proficiency: Intermediate\n",
            "Student Course: Cybersecurity, Predicted Proficiency: Advanced\n",
            "Student Course: Databases, Predicted Proficiency: Intermediate\n"
          ]
        },
        {
          "output_type": "stream",
          "name": "stderr",
          "text": [
            "Evaluating personalization:   9%|▉         | 204/2250 [00:02<00:20, 101.91it/s]"
          ]
        },
        {
          "output_type": "stream",
          "name": "stdout",
          "text": [
            "Student Course: Data Structures, Predicted Proficiency: Beginner\n",
            "Student Course: Data Structures, Predicted Proficiency: Intermediate\n",
            "Student Course: Databases, Predicted Proficiency: Intermediate\n",
            "Student Course: Data Structures, Predicted Proficiency: Beginner\n",
            "Student Course: NLP, Predicted Proficiency: Beginner\n",
            "Student Course: Databases, Predicted Proficiency: Advanced\n",
            "Student Course: Databases, Predicted Proficiency: Intermediate\n",
            "Student Course: Databases, Predicted Proficiency: Advanced\n",
            "Student Course: Data Structures, Predicted Proficiency: Advanced\n",
            "Student Course: Data Structures, Predicted Proficiency: Intermediate\n",
            "Student Course: Data Structures, Predicted Proficiency: Advanced\n",
            "Student Course: Cybersecurity, Predicted Proficiency: Intermediate\n",
            "Student Course: Data Structures, Predicted Proficiency: Intermediate\n",
            "Student Course: Databases, Predicted Proficiency: Beginner\n",
            "Student Course: Cybersecurity, Predicted Proficiency: Beginner\n",
            "Student Course: Data Structures, Predicted Proficiency: Beginner\n",
            "Student Course: Databases, Predicted Proficiency: Advanced\n",
            "Student Course: NLP, Predicted Proficiency: Advanced\n",
            "Student Course: Data Structures, Predicted Proficiency: Advanced\n",
            "Student Course: NLP, Predicted Proficiency: Intermediate\n",
            "Student Course: Cybersecurity, Predicted Proficiency: Intermediate\n"
          ]
        },
        {
          "output_type": "stream",
          "name": "stderr",
          "text": [
            "\rEvaluating personalization:  10%|▉         | 215/2250 [00:02<00:19, 102.10it/s]"
          ]
        },
        {
          "output_type": "stream",
          "name": "stdout",
          "text": [
            "Student Course: Cybersecurity, Predicted Proficiency: Intermediate\n",
            "Student Course: NLP, Predicted Proficiency: Beginner\n",
            "Student Course: Cybersecurity, Predicted Proficiency: Advanced\n",
            "Student Course: NLP, Predicted Proficiency: Beginner\n",
            "Student Course: Data Structures, Predicted Proficiency: Advanced\n",
            "Student Course: NLP, Predicted Proficiency: Advanced\n",
            "Student Course: Databases, Predicted Proficiency: Intermediate\n",
            "Student Course: Cybersecurity, Predicted Proficiency: Intermediate\n",
            "Student Course: Data Structures, Predicted Proficiency: Beginner\n",
            "Student Course: Cybersecurity, Predicted Proficiency: Intermediate\n",
            "Student Course: Cybersecurity, Predicted Proficiency: Beginner\n",
            "Student Course: Cybersecurity, Predicted Proficiency: Beginner\n",
            "Student Course: NLP, Predicted Proficiency: Beginner\n",
            "Student Course: Data Structures, Predicted Proficiency: Advanced\n",
            "Student Course: Databases, Predicted Proficiency: Beginner\n",
            "Student Course: Cybersecurity, Predicted Proficiency: Intermediate\n",
            "Student Course: Databases, Predicted Proficiency: Advanced\n",
            "Student Course: NLP, Predicted Proficiency: Beginner\n",
            "Student Course: Cybersecurity, Predicted Proficiency: Beginner\n",
            "Student Course: Databases, Predicted Proficiency: Beginner\n",
            "Student Course: NLP, Predicted Proficiency: Intermediate\n"
          ]
        },
        {
          "output_type": "stream",
          "name": "stderr",
          "text": [
            "Evaluating personalization:  11%|█         | 237/2250 [00:02<00:19, 102.60it/s]"
          ]
        },
        {
          "output_type": "stream",
          "name": "stdout",
          "text": [
            "Student Course: Databases, Predicted Proficiency: Advanced\n",
            "Student Course: Cybersecurity, Predicted Proficiency: Intermediate\n",
            "Student Course: Cybersecurity, Predicted Proficiency: Advanced\n",
            "Student Course: Cybersecurity, Predicted Proficiency: Advanced\n",
            "Student Course: Databases, Predicted Proficiency: Intermediate\n",
            "Student Course: Cybersecurity, Predicted Proficiency: Beginner\n",
            "Student Course: Data Structures, Predicted Proficiency: Advanced\n",
            "Student Course: Data Structures, Predicted Proficiency: Intermediate\n",
            "Student Course: Databases, Predicted Proficiency: Advanced\n",
            "Student Course: NLP, Predicted Proficiency: Beginner\n",
            "Student Course: NLP, Predicted Proficiency: Intermediate\n",
            "Student Course: Cybersecurity, Predicted Proficiency: Intermediate\n",
            "Student Course: Cybersecurity, Predicted Proficiency: Beginner\n",
            "Student Course: Data Structures, Predicted Proficiency: Beginner\n",
            "Student Course: Cybersecurity, Predicted Proficiency: Beginner\n",
            "Student Course: Cybersecurity, Predicted Proficiency: Advanced\n",
            "Student Course: Data Structures, Predicted Proficiency: Beginner\n",
            "Student Course: NLP, Predicted Proficiency: Intermediate\n",
            "Student Course: NLP, Predicted Proficiency: Beginner\n",
            "Student Course: Data Structures, Predicted Proficiency: Advanced\n",
            "Student Course: Databases, Predicted Proficiency: Beginner\n",
            "Student Course: Databases, Predicted Proficiency: Advanced\n"
          ]
        },
        {
          "output_type": "stream",
          "name": "stderr",
          "text": [
            "Evaluating personalization:  12%|█▏        | 259/2250 [00:02<00:19, 102.13it/s]"
          ]
        },
        {
          "output_type": "stream",
          "name": "stdout",
          "text": [
            "Student Course: Cybersecurity, Predicted Proficiency: Advanced\n",
            "Student Course: Data Structures, Predicted Proficiency: Intermediate\n",
            "Student Course: NLP, Predicted Proficiency: Intermediate\n",
            "Student Course: Databases, Predicted Proficiency: Intermediate\n",
            "Student Course: NLP, Predicted Proficiency: Advanced\n",
            "Student Course: Cybersecurity, Predicted Proficiency: Beginner\n",
            "Student Course: Databases, Predicted Proficiency: Advanced\n",
            "Student Course: NLP, Predicted Proficiency: Intermediate\n",
            "Student Course: NLP, Predicted Proficiency: Advanced\n",
            "Student Course: Data Structures, Predicted Proficiency: Beginner\n",
            "Student Course: Cybersecurity, Predicted Proficiency: Intermediate\n",
            "Student Course: Data Structures, Predicted Proficiency: Beginner\n",
            "Student Course: Data Structures, Predicted Proficiency: Intermediate\n",
            "Student Course: Cybersecurity, Predicted Proficiency: Beginner\n",
            "Student Course: Databases, Predicted Proficiency: Advanced\n",
            "Student Course: Data Structures, Predicted Proficiency: Intermediate\n",
            "Student Course: Data Structures, Predicted Proficiency: Advanced\n",
            "Student Course: Cybersecurity, Predicted Proficiency: Intermediate\n",
            "Student Course: Data Structures, Predicted Proficiency: Intermediate\n",
            "Student Course: Cybersecurity, Predicted Proficiency: Beginner\n",
            "Student Course: Databases, Predicted Proficiency: Intermediate\n"
          ]
        },
        {
          "output_type": "stream",
          "name": "stderr",
          "text": [
            "Evaluating personalization:  12%|█▏        | 281/2250 [00:02<00:19, 102.31it/s]"
          ]
        },
        {
          "output_type": "stream",
          "name": "stdout",
          "text": [
            "Student Course: NLP, Predicted Proficiency: Beginner\n",
            "Student Course: Data Structures, Predicted Proficiency: Beginner\n",
            "Student Course: Data Structures, Predicted Proficiency: Intermediate\n",
            "Student Course: Cybersecurity, Predicted Proficiency: Beginner\n",
            "Student Course: Data Structures, Predicted Proficiency: Beginner\n",
            "Student Course: NLP, Predicted Proficiency: Advanced\n",
            "Student Course: Data Structures, Predicted Proficiency: Intermediate\n",
            "Student Course: Data Structures, Predicted Proficiency: Advanced\n",
            "Student Course: Databases, Predicted Proficiency: Intermediate\n",
            "Student Course: Cybersecurity, Predicted Proficiency: Beginner\n",
            "Student Course: NLP, Predicted Proficiency: Advanced\n",
            "Student Course: NLP, Predicted Proficiency: Intermediate\n",
            "Student Course: Databases, Predicted Proficiency: Intermediate\n",
            "Student Course: Data Structures, Predicted Proficiency: Intermediate\n",
            "Student Course: Cybersecurity, Predicted Proficiency: Intermediate\n",
            "Student Course: NLP, Predicted Proficiency: Beginner\n",
            "Student Course: NLP, Predicted Proficiency: Advanced\n",
            "Student Course: Cybersecurity, Predicted Proficiency: Beginner\n",
            "Student Course: Data Structures, Predicted Proficiency: Intermediate\n",
            "Student Course: NLP, Predicted Proficiency: Beginner\n",
            "Student Course: NLP, Predicted Proficiency: Intermediate\n"
          ]
        },
        {
          "output_type": "stream",
          "name": "stderr",
          "text": [
            "Evaluating personalization:  13%|█▎        | 303/2250 [00:03<00:18, 102.77it/s]"
          ]
        },
        {
          "output_type": "stream",
          "name": "stdout",
          "text": [
            "Student Course: Data Structures, Predicted Proficiency: Intermediate\n",
            "Student Course: Databases, Predicted Proficiency: Beginner\n",
            "Student Course: NLP, Predicted Proficiency: Intermediate\n",
            "Student Course: Data Structures, Predicted Proficiency: Advanced\n",
            "Student Course: Databases, Predicted Proficiency: Advanced\n",
            "Student Course: Data Structures, Predicted Proficiency: Intermediate\n",
            "Student Course: Databases, Predicted Proficiency: Intermediate\n",
            "Student Course: NLP, Predicted Proficiency: Beginner\n",
            "Student Course: Databases, Predicted Proficiency: Beginner\n",
            "Student Course: Databases, Predicted Proficiency: Beginner\n",
            "Student Course: Data Structures, Predicted Proficiency: Beginner\n",
            "Student Course: Databases, Predicted Proficiency: Beginner\n",
            "Student Course: Cybersecurity, Predicted Proficiency: Intermediate\n",
            "Student Course: Data Structures, Predicted Proficiency: Advanced\n",
            "Student Course: NLP, Predicted Proficiency: Advanced\n",
            "Student Course: Data Structures, Predicted Proficiency: Beginner\n",
            "Student Course: Databases, Predicted Proficiency: Advanced\n",
            "Student Course: NLP, Predicted Proficiency: Intermediate\n",
            "Student Course: Cybersecurity, Predicted Proficiency: Advanced\n",
            "Student Course: Databases, Predicted Proficiency: Beginner\n",
            "Student Course: NLP, Predicted Proficiency: Beginner\n"
          ]
        },
        {
          "output_type": "stream",
          "name": "stderr",
          "text": [
            "Evaluating personalization:  14%|█▍        | 325/2250 [00:03<00:18, 103.02it/s]"
          ]
        },
        {
          "output_type": "stream",
          "name": "stdout",
          "text": [
            "Student Course: Cybersecurity, Predicted Proficiency: Advanced\n",
            "Student Course: Data Structures, Predicted Proficiency: Advanced\n",
            "Student Course: Databases, Predicted Proficiency: Beginner\n",
            "Student Course: Databases, Predicted Proficiency: Intermediate\n",
            "Student Course: NLP, Predicted Proficiency: Beginner\n",
            "Student Course: Cybersecurity, Predicted Proficiency: Advanced\n",
            "Student Course: Databases, Predicted Proficiency: Beginner\n",
            "Student Course: Data Structures, Predicted Proficiency: Advanced\n",
            "Student Course: NLP, Predicted Proficiency: Beginner\n",
            "Student Course: Cybersecurity, Predicted Proficiency: Advanced\n",
            "Student Course: Cybersecurity, Predicted Proficiency: Intermediate\n",
            "Student Course: NLP, Predicted Proficiency: Beginner\n",
            "Student Course: NLP, Predicted Proficiency: Intermediate\n",
            "Student Course: NLP, Predicted Proficiency: Intermediate\n",
            "Student Course: NLP, Predicted Proficiency: Beginner\n",
            "Student Course: NLP, Predicted Proficiency: Beginner\n",
            "Student Course: Data Structures, Predicted Proficiency: Advanced\n",
            "Student Course: Databases, Predicted Proficiency: Advanced\n",
            "Student Course: Cybersecurity, Predicted Proficiency: Intermediate\n",
            "Student Course: NLP, Predicted Proficiency: Beginner\n",
            "Student Course: Data Structures, Predicted Proficiency: Intermediate\n"
          ]
        },
        {
          "output_type": "stream",
          "name": "stderr",
          "text": [
            "Evaluating personalization:  15%|█▌        | 347/2250 [00:03<00:18, 103.23it/s]"
          ]
        },
        {
          "output_type": "stream",
          "name": "stdout",
          "text": [
            "Student Course: NLP, Predicted Proficiency: Intermediate\n",
            "Student Course: NLP, Predicted Proficiency: Beginner\n",
            "Student Course: NLP, Predicted Proficiency: Beginner\n",
            "Student Course: NLP, Predicted Proficiency: Advanced\n",
            "Student Course: NLP, Predicted Proficiency: Beginner\n",
            "Student Course: Cybersecurity, Predicted Proficiency: Advanced\n",
            "Student Course: NLP, Predicted Proficiency: Intermediate\n",
            "Student Course: Databases, Predicted Proficiency: Intermediate\n",
            "Student Course: Data Structures, Predicted Proficiency: Intermediate\n",
            "Student Course: Cybersecurity, Predicted Proficiency: Beginner\n",
            "Student Course: Cybersecurity, Predicted Proficiency: Beginner\n",
            "Student Course: Databases, Predicted Proficiency: Beginner\n",
            "Student Course: Cybersecurity, Predicted Proficiency: Intermediate\n",
            "Student Course: Data Structures, Predicted Proficiency: Intermediate\n",
            "Student Course: Databases, Predicted Proficiency: Beginner\n",
            "Student Course: Cybersecurity, Predicted Proficiency: Beginner\n",
            "Student Course: Data Structures, Predicted Proficiency: Advanced\n",
            "Student Course: NLP, Predicted Proficiency: Advanced\n",
            "Student Course: Databases, Predicted Proficiency: Intermediate\n",
            "Student Course: Databases, Predicted Proficiency: Advanced\n",
            "Student Course: Cybersecurity, Predicted Proficiency: Intermediate\n"
          ]
        },
        {
          "output_type": "stream",
          "name": "stderr",
          "text": [
            "Evaluating personalization:  16%|█▋        | 369/2250 [00:03<00:18, 102.23it/s]"
          ]
        },
        {
          "output_type": "stream",
          "name": "stdout",
          "text": [
            "Student Course: Cybersecurity, Predicted Proficiency: Beginner\n",
            "Student Course: Cybersecurity, Predicted Proficiency: Advanced\n",
            "Student Course: Databases, Predicted Proficiency: Advanced\n",
            "Student Course: Databases, Predicted Proficiency: Intermediate\n",
            "Student Course: Data Structures, Predicted Proficiency: Beginner\n",
            "Student Course: Databases, Predicted Proficiency: Intermediate\n",
            "Student Course: Data Structures, Predicted Proficiency: Beginner\n",
            "Student Course: Cybersecurity, Predicted Proficiency: Advanced\n",
            "Student Course: NLP, Predicted Proficiency: Intermediate\n",
            "Student Course: Data Structures, Predicted Proficiency: Intermediate\n",
            "Student Course: NLP, Predicted Proficiency: Intermediate\n",
            "Student Course: Cybersecurity, Predicted Proficiency: Advanced\n",
            "Student Course: Databases, Predicted Proficiency: Intermediate\n",
            "Student Course: Cybersecurity, Predicted Proficiency: Beginner\n",
            "Student Course: Cybersecurity, Predicted Proficiency: Advanced\n",
            "Student Course: Databases, Predicted Proficiency: Beginner\n",
            "Student Course: Data Structures, Predicted Proficiency: Intermediate\n",
            "Student Course: NLP, Predicted Proficiency: Beginner\n",
            "Student Course: NLP, Predicted Proficiency: Advanced\n",
            "Student Course: Cybersecurity, Predicted Proficiency: Beginner\n",
            "Student Course: Cybersecurity, Predicted Proficiency: Beginner\n"
          ]
        },
        {
          "output_type": "stream",
          "name": "stderr",
          "text": [
            "Evaluating personalization:  17%|█▋        | 391/2250 [00:03<00:18, 102.45it/s]"
          ]
        },
        {
          "output_type": "stream",
          "name": "stdout",
          "text": [
            "Student Course: Cybersecurity, Predicted Proficiency: Beginner\n",
            "Student Course: Cybersecurity, Predicted Proficiency: Intermediate\n",
            "Student Course: Databases, Predicted Proficiency: Advanced\n",
            "Student Course: NLP, Predicted Proficiency: Advanced\n",
            "Student Course: Data Structures, Predicted Proficiency: Beginner\n",
            "Student Course: Databases, Predicted Proficiency: Advanced\n",
            "Student Course: Cybersecurity, Predicted Proficiency: Intermediate\n",
            "Student Course: Cybersecurity, Predicted Proficiency: Beginner\n",
            "Student Course: NLP, Predicted Proficiency: Advanced\n",
            "Student Course: NLP, Predicted Proficiency: Advanced\n",
            "Student Course: Data Structures, Predicted Proficiency: Intermediate\n",
            "Student Course: Data Structures, Predicted Proficiency: Beginner\n",
            "Student Course: Databases, Predicted Proficiency: Beginner\n",
            "Student Course: Data Structures, Predicted Proficiency: Beginner\n",
            "Student Course: Databases, Predicted Proficiency: Beginner\n",
            "Student Course: Databases, Predicted Proficiency: Beginner\n",
            "Student Course: NLP, Predicted Proficiency: Advanced\n",
            "Student Course: Databases, Predicted Proficiency: Intermediate\n",
            "Student Course: Data Structures, Predicted Proficiency: Beginner\n",
            "Student Course: Databases, Predicted Proficiency: Intermediate\n",
            "Student Course: Data Structures, Predicted Proficiency: Beginner\n"
          ]
        },
        {
          "output_type": "stream",
          "name": "stderr",
          "text": [
            "Evaluating personalization:  18%|█▊        | 413/2250 [00:04<00:18, 101.65it/s]"
          ]
        },
        {
          "output_type": "stream",
          "name": "stdout",
          "text": [
            "Student Course: Cybersecurity, Predicted Proficiency: Intermediate\n",
            "Student Course: NLP, Predicted Proficiency: Intermediate\n",
            "Student Course: Cybersecurity, Predicted Proficiency: Intermediate\n",
            "Student Course: Databases, Predicted Proficiency: Advanced\n",
            "Student Course: Data Structures, Predicted Proficiency: Intermediate\n",
            "Student Course: NLP, Predicted Proficiency: Advanced\n",
            "Student Course: Databases, Predicted Proficiency: Beginner\n",
            "Student Course: Databases, Predicted Proficiency: Advanced\n",
            "Student Course: Cybersecurity, Predicted Proficiency: Beginner\n",
            "Student Course: Cybersecurity, Predicted Proficiency: Beginner\n",
            "Student Course: Databases, Predicted Proficiency: Advanced\n",
            "Student Course: Data Structures, Predicted Proficiency: Intermediate\n",
            "Student Course: NLP, Predicted Proficiency: Beginner\n",
            "Student Course: Databases, Predicted Proficiency: Intermediate\n",
            "Student Course: Cybersecurity, Predicted Proficiency: Beginner\n",
            "Student Course: NLP, Predicted Proficiency: Intermediate\n",
            "Student Course: Cybersecurity, Predicted Proficiency: Intermediate\n",
            "Student Course: NLP, Predicted Proficiency: Beginner\n",
            "Student Course: Cybersecurity, Predicted Proficiency: Beginner\n",
            "Student Course: NLP, Predicted Proficiency: Beginner\n",
            "Student Course: Databases, Predicted Proficiency: Beginner\n"
          ]
        },
        {
          "output_type": "stream",
          "name": "stderr",
          "text": [
            "Evaluating personalization:  19%|█▉        | 435/2250 [00:04<00:17, 101.29it/s]"
          ]
        },
        {
          "output_type": "stream",
          "name": "stdout",
          "text": [
            "Student Course: Data Structures, Predicted Proficiency: Intermediate\n",
            "Student Course: Databases, Predicted Proficiency: Beginner\n",
            "Student Course: Data Structures, Predicted Proficiency: Beginner\n",
            "Student Course: Data Structures, Predicted Proficiency: Advanced\n",
            "Student Course: Cybersecurity, Predicted Proficiency: Advanced\n",
            "Student Course: Data Structures, Predicted Proficiency: Beginner\n",
            "Student Course: NLP, Predicted Proficiency: Advanced\n",
            "Student Course: Cybersecurity, Predicted Proficiency: Beginner\n",
            "Student Course: Data Structures, Predicted Proficiency: Intermediate\n",
            "Student Course: Databases, Predicted Proficiency: Beginner\n",
            "Student Course: Databases, Predicted Proficiency: Beginner\n",
            "Student Course: Data Structures, Predicted Proficiency: Advanced\n",
            "Student Course: Cybersecurity, Predicted Proficiency: Intermediate\n",
            "Student Course: NLP, Predicted Proficiency: Beginner\n",
            "Student Course: Databases, Predicted Proficiency: Intermediate\n",
            "Student Course: Databases, Predicted Proficiency: Beginner\n",
            "Student Course: Cybersecurity, Predicted Proficiency: Intermediate\n",
            "Student Course: Cybersecurity, Predicted Proficiency: Advanced\n",
            "Student Course: Databases, Predicted Proficiency: Beginner\n",
            "Student Course: Cybersecurity, Predicted Proficiency: Beginner\n",
            "Student Course: Cybersecurity, Predicted Proficiency: Intermediate\n"
          ]
        },
        {
          "output_type": "stream",
          "name": "stderr",
          "text": [
            "Evaluating personalization:  20%|██        | 457/2250 [00:04<00:17, 102.07it/s]"
          ]
        },
        {
          "output_type": "stream",
          "name": "stdout",
          "text": [
            "Student Course: Data Structures, Predicted Proficiency: Beginner\n",
            "Student Course: Cybersecurity, Predicted Proficiency: Intermediate\n",
            "Student Course: NLP, Predicted Proficiency: Advanced\n",
            "Student Course: Data Structures, Predicted Proficiency: Advanced\n",
            "Student Course: NLP, Predicted Proficiency: Advanced\n",
            "Student Course: Cybersecurity, Predicted Proficiency: Advanced\n",
            "Student Course: NLP, Predicted Proficiency: Advanced\n",
            "Student Course: Databases, Predicted Proficiency: Advanced\n",
            "Student Course: NLP, Predicted Proficiency: Beginner\n",
            "Student Course: Cybersecurity, Predicted Proficiency: Beginner\n",
            "Student Course: Data Structures, Predicted Proficiency: Advanced\n",
            "Student Course: NLP, Predicted Proficiency: Intermediate\n",
            "Student Course: Cybersecurity, Predicted Proficiency: Intermediate\n",
            "Student Course: Data Structures, Predicted Proficiency: Advanced\n",
            "Student Course: Cybersecurity, Predicted Proficiency: Advanced\n",
            "Student Course: Cybersecurity, Predicted Proficiency: Intermediate\n",
            "Student Course: NLP, Predicted Proficiency: Intermediate\n",
            "Student Course: Cybersecurity, Predicted Proficiency: Advanced\n",
            "Student Course: NLP, Predicted Proficiency: Advanced\n",
            "Student Course: NLP, Predicted Proficiency: Intermediate\n",
            "Student Course: Cybersecurity, Predicted Proficiency: Beginner\n"
          ]
        },
        {
          "output_type": "stream",
          "name": "stderr",
          "text": [
            "\rEvaluating personalization:  21%|██        | 468/2250 [00:04<00:17, 102.77it/s]"
          ]
        },
        {
          "output_type": "stream",
          "name": "stdout",
          "text": [
            "Student Course: Cybersecurity, Predicted Proficiency: Intermediate\n",
            "Student Course: Cybersecurity, Predicted Proficiency: Advanced\n",
            "Student Course: NLP, Predicted Proficiency: Beginner\n",
            "Student Course: Data Structures, Predicted Proficiency: Beginner\n",
            "Student Course: Databases, Predicted Proficiency: Beginner\n",
            "Student Course: NLP, Predicted Proficiency: Intermediate\n",
            "Student Course: Databases, Predicted Proficiency: Intermediate\n",
            "Student Course: Databases, Predicted Proficiency: Beginner\n",
            "Student Course: Databases, Predicted Proficiency: Intermediate\n",
            "Student Course: Cybersecurity, Predicted Proficiency: Beginner\n",
            "Student Course: Data Structures, Predicted Proficiency: Intermediate\n",
            "Student Course: Cybersecurity, Predicted Proficiency: Beginner\n",
            "Student Course: Cybersecurity, Predicted Proficiency: Intermediate\n",
            "Student Course: NLP, Predicted Proficiency: Intermediate\n",
            "Student Course: Databases, Predicted Proficiency: Intermediate\n",
            "Student Course: NLP, Predicted Proficiency: Beginner\n",
            "Student Course: NLP, Predicted Proficiency: Intermediate\n",
            "Student Course: NLP, Predicted Proficiency: Advanced\n",
            "Student Course: Cybersecurity, Predicted Proficiency: Advanced\n",
            "Student Course: Data Structures, Predicted Proficiency: Beginner\n",
            "Student Course: Cybersecurity, Predicted Proficiency: Beginner\n",
            "Student Course: Databases, Predicted Proficiency: Beginner\n"
          ]
        },
        {
          "output_type": "stream",
          "name": "stderr",
          "text": [
            "Evaluating personalization:  22%|██▏       | 490/2250 [00:04<00:17, 103.14it/s]"
          ]
        },
        {
          "output_type": "stream",
          "name": "stdout",
          "text": [
            "Student Course: Cybersecurity, Predicted Proficiency: Intermediate\n",
            "Student Course: Data Structures, Predicted Proficiency: Advanced\n",
            "Student Course: Cybersecurity, Predicted Proficiency: Intermediate\n",
            "Student Course: NLP, Predicted Proficiency: Intermediate\n",
            "Student Course: Cybersecurity, Predicted Proficiency: Advanced\n",
            "Student Course: Cybersecurity, Predicted Proficiency: Beginner\n",
            "Student Course: Data Structures, Predicted Proficiency: Intermediate\n",
            "Student Course: NLP, Predicted Proficiency: Intermediate\n",
            "Student Course: NLP, Predicted Proficiency: Intermediate\n",
            "Student Course: Data Structures, Predicted Proficiency: Advanced\n",
            "Student Course: Data Structures, Predicted Proficiency: Intermediate\n",
            "Student Course: Cybersecurity, Predicted Proficiency: Advanced\n",
            "Student Course: Databases, Predicted Proficiency: Intermediate\n",
            "Student Course: Data Structures, Predicted Proficiency: Beginner\n",
            "Student Course: Data Structures, Predicted Proficiency: Beginner\n",
            "Student Course: NLP, Predicted Proficiency: Intermediate\n",
            "Student Course: NLP, Predicted Proficiency: Advanced\n",
            "Student Course: Cybersecurity, Predicted Proficiency: Beginner\n",
            "Student Course: Databases, Predicted Proficiency: Beginner\n",
            "Student Course: Databases, Predicted Proficiency: Intermediate\n",
            "Student Course: NLP, Predicted Proficiency: Advanced\n",
            "Student Course: Data Structures, Predicted Proficiency: Advanced\n"
          ]
        },
        {
          "output_type": "stream",
          "name": "stderr",
          "text": [
            "Evaluating personalization:  23%|██▎       | 512/2250 [00:05<00:16, 103.31it/s]"
          ]
        },
        {
          "output_type": "stream",
          "name": "stdout",
          "text": [
            "Student Course: Data Structures, Predicted Proficiency: Beginner\n",
            "Student Course: NLP, Predicted Proficiency: Intermediate\n",
            "Student Course: NLP, Predicted Proficiency: Advanced\n",
            "Student Course: Databases, Predicted Proficiency: Beginner\n",
            "Student Course: NLP, Predicted Proficiency: Intermediate\n",
            "Student Course: Data Structures, Predicted Proficiency: Intermediate\n",
            "Student Course: Cybersecurity, Predicted Proficiency: Beginner\n",
            "Student Course: NLP, Predicted Proficiency: Intermediate\n",
            "Student Course: Databases, Predicted Proficiency: Intermediate\n",
            "Student Course: Cybersecurity, Predicted Proficiency: Intermediate\n",
            "Student Course: NLP, Predicted Proficiency: Beginner\n",
            "Student Course: NLP, Predicted Proficiency: Advanced\n",
            "Student Course: Cybersecurity, Predicted Proficiency: Beginner\n",
            "Student Course: Databases, Predicted Proficiency: Advanced\n",
            "Student Course: Cybersecurity, Predicted Proficiency: Advanced\n",
            "Student Course: NLP, Predicted Proficiency: Intermediate\n",
            "Student Course: Cybersecurity, Predicted Proficiency: Beginner\n",
            "Student Course: NLP, Predicted Proficiency: Beginner\n",
            "Student Course: Cybersecurity, Predicted Proficiency: Advanced\n",
            "Student Course: NLP, Predicted Proficiency: Intermediate\n",
            "Student Course: Databases, Predicted Proficiency: Advanced\n",
            "Student Course: Cybersecurity, Predicted Proficiency: Advanced\n"
          ]
        },
        {
          "output_type": "stream",
          "name": "stderr",
          "text": [
            "Evaluating personalization:  24%|██▎       | 534/2250 [00:05<00:16, 103.31it/s]"
          ]
        },
        {
          "output_type": "stream",
          "name": "stdout",
          "text": [
            "Student Course: Databases, Predicted Proficiency: Intermediate\n",
            "Student Course: Data Structures, Predicted Proficiency: Intermediate\n",
            "Student Course: Databases, Predicted Proficiency: Advanced\n",
            "Student Course: Data Structures, Predicted Proficiency: Advanced\n",
            "Student Course: Databases, Predicted Proficiency: Beginner\n",
            "Student Course: Data Structures, Predicted Proficiency: Intermediate\n",
            "Student Course: Databases, Predicted Proficiency: Beginner\n",
            "Student Course: Data Structures, Predicted Proficiency: Intermediate\n",
            "Student Course: Databases, Predicted Proficiency: Intermediate\n",
            "Student Course: NLP, Predicted Proficiency: Beginner\n",
            "Student Course: Databases, Predicted Proficiency: Intermediate\n",
            "Student Course: Databases, Predicted Proficiency: Intermediate\n",
            "Student Course: Data Structures, Predicted Proficiency: Advanced\n",
            "Student Course: NLP, Predicted Proficiency: Advanced\n",
            "Student Course: NLP, Predicted Proficiency: Advanced\n",
            "Student Course: NLP, Predicted Proficiency: Beginner\n",
            "Student Course: NLP, Predicted Proficiency: Beginner\n",
            "Student Course: Data Structures, Predicted Proficiency: Advanced\n",
            "Student Course: NLP, Predicted Proficiency: Intermediate\n",
            "Student Course: Data Structures, Predicted Proficiency: Intermediate\n",
            "Student Course: Databases, Predicted Proficiency: Advanced\n",
            "Student Course: NLP, Predicted Proficiency: Beginner\n"
          ]
        },
        {
          "output_type": "stream",
          "name": "stderr",
          "text": [
            "Evaluating personalization:  25%|██▍       | 556/2250 [00:05<00:17, 98.45it/s] "
          ]
        },
        {
          "output_type": "stream",
          "name": "stdout",
          "text": [
            "Student Course: Data Structures, Predicted Proficiency: Intermediate\n",
            "Student Course: Cybersecurity, Predicted Proficiency: Intermediate\n",
            "Student Course: Cybersecurity, Predicted Proficiency: Advanced\n",
            "Student Course: NLP, Predicted Proficiency: Intermediate\n",
            "Student Course: Databases, Predicted Proficiency: Beginner\n",
            "Student Course: Cybersecurity, Predicted Proficiency: Beginner\n",
            "Student Course: Cybersecurity, Predicted Proficiency: Advanced\n",
            "Student Course: Cybersecurity, Predicted Proficiency: Advanced\n",
            "Student Course: Databases, Predicted Proficiency: Intermediate\n",
            "Student Course: Cybersecurity, Predicted Proficiency: Beginner\n",
            "Student Course: Databases, Predicted Proficiency: Advanced\n",
            "Student Course: Cybersecurity, Predicted Proficiency: Intermediate\n",
            "Student Course: NLP, Predicted Proficiency: Beginner\n",
            "Student Course: Databases, Predicted Proficiency: Advanced\n",
            "Student Course: Cybersecurity, Predicted Proficiency: Beginner\n",
            "Student Course: Databases, Predicted Proficiency: Beginner\n",
            "Student Course: Data Structures, Predicted Proficiency: Advanced\n",
            "Student Course: NLP, Predicted Proficiency: Beginner\n"
          ]
        },
        {
          "output_type": "stream",
          "name": "stderr",
          "text": [
            "Evaluating personalization:  26%|██▌       | 577/2250 [00:05<00:17, 97.53it/s]"
          ]
        },
        {
          "output_type": "stream",
          "name": "stdout",
          "text": [
            "Student Course: NLP, Predicted Proficiency: Beginner\n",
            "Student Course: Databases, Predicted Proficiency: Intermediate\n",
            "Student Course: Databases, Predicted Proficiency: Beginner\n",
            "Student Course: Cybersecurity, Predicted Proficiency: Beginner\n",
            "Student Course: Data Structures, Predicted Proficiency: Advanced\n",
            "Student Course: Cybersecurity, Predicted Proficiency: Advanced\n",
            "Student Course: Databases, Predicted Proficiency: Advanced\n",
            "Student Course: Databases, Predicted Proficiency: Beginner\n",
            "Student Course: Databases, Predicted Proficiency: Advanced\n",
            "Student Course: Cybersecurity, Predicted Proficiency: Beginner\n",
            "Student Course: NLP, Predicted Proficiency: Intermediate\n",
            "Student Course: Databases, Predicted Proficiency: Beginner\n",
            "Student Course: NLP, Predicted Proficiency: Intermediate\n",
            "Student Course: NLP, Predicted Proficiency: Intermediate\n",
            "Student Course: Cybersecurity, Predicted Proficiency: Intermediate\n",
            "Student Course: NLP, Predicted Proficiency: Beginner\n",
            "Student Course: NLP, Predicted Proficiency: Intermediate\n",
            "Student Course: NLP, Predicted Proficiency: Advanced\n",
            "Student Course: Data Structures, Predicted Proficiency: Intermediate\n",
            "Student Course: Data Structures, Predicted Proficiency: Beginner\n",
            "Student Course: Databases, Predicted Proficiency: Beginner\n",
            "Student Course: Data Structures, Predicted Proficiency: Beginner\n"
          ]
        },
        {
          "output_type": "stream",
          "name": "stderr",
          "text": [
            "Evaluating personalization:  27%|██▋       | 599/2250 [00:05<00:16, 99.66it/s]"
          ]
        },
        {
          "output_type": "stream",
          "name": "stdout",
          "text": [
            "Student Course: Cybersecurity, Predicted Proficiency: Intermediate\n",
            "Student Course: Data Structures, Predicted Proficiency: Beginner\n",
            "Student Course: Cybersecurity, Predicted Proficiency: Intermediate\n",
            "Student Course: Databases, Predicted Proficiency: Intermediate\n",
            "Student Course: Cybersecurity, Predicted Proficiency: Beginner\n",
            "Student Course: NLP, Predicted Proficiency: Beginner\n",
            "Student Course: Data Structures, Predicted Proficiency: Intermediate\n",
            "Student Course: Data Structures, Predicted Proficiency: Beginner\n",
            "Student Course: Data Structures, Predicted Proficiency: Beginner\n",
            "Student Course: NLP, Predicted Proficiency: Intermediate\n",
            "Student Course: Databases, Predicted Proficiency: Beginner\n",
            "Student Course: Cybersecurity, Predicted Proficiency: Advanced\n",
            "Student Course: Data Structures, Predicted Proficiency: Advanced\n",
            "Student Course: Cybersecurity, Predicted Proficiency: Intermediate\n",
            "Student Course: Databases, Predicted Proficiency: Beginner\n",
            "Student Course: NLP, Predicted Proficiency: Beginner\n",
            "Student Course: NLP, Predicted Proficiency: Intermediate\n",
            "Student Course: Cybersecurity, Predicted Proficiency: Advanced\n",
            "Student Course: Cybersecurity, Predicted Proficiency: Advanced\n",
            "Student Course: NLP, Predicted Proficiency: Beginner\n",
            "Student Course: Databases, Predicted Proficiency: Beginner\n"
          ]
        },
        {
          "output_type": "stream",
          "name": "stderr",
          "text": [
            "Evaluating personalization:  28%|██▊       | 621/2250 [00:06<00:16, 98.80it/s] "
          ]
        },
        {
          "output_type": "stream",
          "name": "stdout",
          "text": [
            "Student Course: Databases, Predicted Proficiency: Advanced\n",
            "Student Course: Databases, Predicted Proficiency: Intermediate\n",
            "Student Course: Cybersecurity, Predicted Proficiency: Beginner\n",
            "Student Course: Cybersecurity, Predicted Proficiency: Beginner\n",
            "Student Course: Cybersecurity, Predicted Proficiency: Intermediate\n",
            "Student Course: NLP, Predicted Proficiency: Intermediate\n",
            "Student Course: NLP, Predicted Proficiency: Intermediate\n",
            "Student Course: Cybersecurity, Predicted Proficiency: Intermediate\n",
            "Student Course: Cybersecurity, Predicted Proficiency: Intermediate\n",
            "Student Course: Databases, Predicted Proficiency: Beginner\n",
            "Student Course: NLP, Predicted Proficiency: Intermediate\n",
            "Student Course: NLP, Predicted Proficiency: Beginner\n",
            "Student Course: Databases, Predicted Proficiency: Beginner\n",
            "Student Course: Cybersecurity, Predicted Proficiency: Beginner\n",
            "Student Course: Cybersecurity, Predicted Proficiency: Beginner\n",
            "Student Course: Cybersecurity, Predicted Proficiency: Beginner\n",
            "Student Course: Databases, Predicted Proficiency: Intermediate\n",
            "Student Course: NLP, Predicted Proficiency: Advanced\n",
            "Student Course: Data Structures, Predicted Proficiency: Intermediate\n",
            "Student Course: Data Structures, Predicted Proficiency: Advanced\n"
          ]
        },
        {
          "output_type": "stream",
          "name": "stderr",
          "text": [
            "Evaluating personalization:  29%|██▊       | 642/2250 [00:06<00:16, 99.33it/s]"
          ]
        },
        {
          "output_type": "stream",
          "name": "stdout",
          "text": [
            "Student Course: NLP, Predicted Proficiency: Beginner\n",
            "Student Course: Databases, Predicted Proficiency: Intermediate\n",
            "Student Course: Cybersecurity, Predicted Proficiency: Advanced\n",
            "Student Course: Databases, Predicted Proficiency: Beginner\n",
            "Student Course: Cybersecurity, Predicted Proficiency: Beginner\n",
            "Student Course: NLP, Predicted Proficiency: Beginner\n",
            "Student Course: Databases, Predicted Proficiency: Beginner\n",
            "Student Course: NLP, Predicted Proficiency: Intermediate\n",
            "Student Course: NLP, Predicted Proficiency: Beginner\n",
            "Student Course: Databases, Predicted Proficiency: Beginner\n",
            "Student Course: Databases, Predicted Proficiency: Advanced\n",
            "Student Course: NLP, Predicted Proficiency: Advanced\n",
            "Student Course: Databases, Predicted Proficiency: Advanced\n",
            "Student Course: NLP, Predicted Proficiency: Intermediate\n",
            "Student Course: Data Structures, Predicted Proficiency: Beginner\n",
            "Student Course: Data Structures, Predicted Proficiency: Intermediate\n",
            "Student Course: Cybersecurity, Predicted Proficiency: Advanced\n",
            "Student Course: Databases, Predicted Proficiency: Advanced\n",
            "Student Course: Data Structures, Predicted Proficiency: Beginner\n",
            "Student Course: Databases, Predicted Proficiency: Advanced\n",
            "Student Course: NLP, Predicted Proficiency: Advanced\n"
          ]
        },
        {
          "output_type": "stream",
          "name": "stderr",
          "text": [
            "Evaluating personalization:  30%|██▉       | 664/2250 [00:06<00:15, 100.90it/s]"
          ]
        },
        {
          "output_type": "stream",
          "name": "stdout",
          "text": [
            "Student Course: Data Structures, Predicted Proficiency: Advanced\n",
            "Student Course: Cybersecurity, Predicted Proficiency: Intermediate\n",
            "Student Course: Cybersecurity, Predicted Proficiency: Beginner\n",
            "Student Course: Data Structures, Predicted Proficiency: Intermediate\n",
            "Student Course: Data Structures, Predicted Proficiency: Beginner\n",
            "Student Course: Data Structures, Predicted Proficiency: Advanced\n",
            "Student Course: Cybersecurity, Predicted Proficiency: Advanced\n",
            "Student Course: Cybersecurity, Predicted Proficiency: Beginner\n",
            "Student Course: NLP, Predicted Proficiency: Intermediate\n",
            "Student Course: Data Structures, Predicted Proficiency: Advanced\n",
            "Student Course: Data Structures, Predicted Proficiency: Beginner\n",
            "Student Course: Databases, Predicted Proficiency: Intermediate\n",
            "Student Course: Databases, Predicted Proficiency: Advanced\n",
            "Student Course: Data Structures, Predicted Proficiency: Intermediate\n",
            "Student Course: NLP, Predicted Proficiency: Advanced\n",
            "Student Course: Databases, Predicted Proficiency: Beginner\n",
            "Student Course: Data Structures, Predicted Proficiency: Beginner\n",
            "Student Course: Cybersecurity, Predicted Proficiency: Intermediate\n",
            "Student Course: Data Structures, Predicted Proficiency: Beginner\n",
            "Student Course: Data Structures, Predicted Proficiency: Advanced\n",
            "Student Course: Databases, Predicted Proficiency: Advanced\n"
          ]
        },
        {
          "output_type": "stream",
          "name": "stderr",
          "text": [
            "Evaluating personalization:  30%|███       | 686/2250 [00:06<00:15, 102.93it/s]"
          ]
        },
        {
          "output_type": "stream",
          "name": "stdout",
          "text": [
            "Student Course: NLP, Predicted Proficiency: Advanced\n",
            "Student Course: Databases, Predicted Proficiency: Advanced\n",
            "Student Course: Databases, Predicted Proficiency: Beginner\n",
            "Student Course: Databases, Predicted Proficiency: Beginner\n",
            "Student Course: NLP, Predicted Proficiency: Intermediate\n",
            "Student Course: Databases, Predicted Proficiency: Beginner\n",
            "Student Course: NLP, Predicted Proficiency: Intermediate\n",
            "Student Course: Cybersecurity, Predicted Proficiency: Intermediate\n",
            "Student Course: Data Structures, Predicted Proficiency: Advanced\n",
            "Student Course: Cybersecurity, Predicted Proficiency: Intermediate\n",
            "Student Course: Data Structures, Predicted Proficiency: Intermediate\n",
            "Student Course: NLP, Predicted Proficiency: Beginner\n",
            "Student Course: Cybersecurity, Predicted Proficiency: Intermediate\n",
            "Student Course: NLP, Predicted Proficiency: Beginner\n",
            "Student Course: Cybersecurity, Predicted Proficiency: Beginner\n",
            "Student Course: NLP, Predicted Proficiency: Advanced\n",
            "Student Course: Data Structures, Predicted Proficiency: Beginner\n",
            "Student Course: Databases, Predicted Proficiency: Beginner\n",
            "Student Course: NLP, Predicted Proficiency: Advanced\n",
            "Student Course: Cybersecurity, Predicted Proficiency: Beginner\n",
            "Student Course: Data Structures, Predicted Proficiency: Intermediate\n",
            "Student Course: Data Structures, Predicted Proficiency: Beginner\n"
          ]
        },
        {
          "output_type": "stream",
          "name": "stderr",
          "text": [
            "Evaluating personalization:  31%|███▏      | 708/2250 [00:07<00:14, 103.07it/s]"
          ]
        },
        {
          "output_type": "stream",
          "name": "stdout",
          "text": [
            "Student Course: Data Structures, Predicted Proficiency: Advanced\n",
            "Student Course: Cybersecurity, Predicted Proficiency: Advanced\n",
            "Student Course: Cybersecurity, Predicted Proficiency: Intermediate\n",
            "Student Course: Data Structures, Predicted Proficiency: Intermediate\n",
            "Student Course: NLP, Predicted Proficiency: Beginner\n",
            "Student Course: NLP, Predicted Proficiency: Intermediate\n",
            "Student Course: Cybersecurity, Predicted Proficiency: Beginner\n",
            "Student Course: Data Structures, Predicted Proficiency: Intermediate\n",
            "Student Course: Databases, Predicted Proficiency: Advanced\n",
            "Student Course: Data Structures, Predicted Proficiency: Advanced\n",
            "Student Course: Cybersecurity, Predicted Proficiency: Beginner\n",
            "Student Course: Cybersecurity, Predicted Proficiency: Beginner\n",
            "Student Course: NLP, Predicted Proficiency: Advanced\n",
            "Student Course: Data Structures, Predicted Proficiency: Intermediate\n",
            "Student Course: Databases, Predicted Proficiency: Intermediate\n",
            "Student Course: Cybersecurity, Predicted Proficiency: Intermediate\n",
            "Student Course: Cybersecurity, Predicted Proficiency: Advanced\n",
            "Student Course: Cybersecurity, Predicted Proficiency: Advanced\n",
            "Student Course: Data Structures, Predicted Proficiency: Intermediate\n",
            "Student Course: NLP, Predicted Proficiency: Beginner\n",
            "Student Course: Data Structures, Predicted Proficiency: Beginner\n"
          ]
        },
        {
          "output_type": "stream",
          "name": "stderr",
          "text": [
            "Evaluating personalization:  32%|███▏      | 730/2250 [00:07<00:14, 103.32it/s]"
          ]
        },
        {
          "output_type": "stream",
          "name": "stdout",
          "text": [
            "Student Course: NLP, Predicted Proficiency: Advanced\n",
            "Student Course: Databases, Predicted Proficiency: Beginner\n",
            "Student Course: Cybersecurity, Predicted Proficiency: Beginner\n",
            "Student Course: Data Structures, Predicted Proficiency: Advanced\n",
            "Student Course: Cybersecurity, Predicted Proficiency: Advanced\n",
            "Student Course: NLP, Predicted Proficiency: Beginner\n",
            "Student Course: Data Structures, Predicted Proficiency: Beginner\n",
            "Student Course: NLP, Predicted Proficiency: Beginner\n",
            "Student Course: Cybersecurity, Predicted Proficiency: Beginner\n",
            "Student Course: Data Structures, Predicted Proficiency: Advanced\n",
            "Student Course: Cybersecurity, Predicted Proficiency: Beginner\n",
            "Student Course: NLP, Predicted Proficiency: Advanced\n",
            "Student Course: NLP, Predicted Proficiency: Advanced\n",
            "Student Course: Data Structures, Predicted Proficiency: Beginner\n",
            "Student Course: Data Structures, Predicted Proficiency: Advanced\n",
            "Student Course: Data Structures, Predicted Proficiency: Intermediate\n",
            "Student Course: Cybersecurity, Predicted Proficiency: Advanced\n",
            "Student Course: NLP, Predicted Proficiency: Advanced\n",
            "Student Course: NLP, Predicted Proficiency: Beginner\n",
            "Student Course: NLP, Predicted Proficiency: Intermediate\n",
            "Student Course: NLP, Predicted Proficiency: Advanced\n",
            "Student Course: Cybersecurity, Predicted Proficiency: Beginner\n"
          ]
        },
        {
          "output_type": "stream",
          "name": "stderr",
          "text": [
            "Evaluating personalization:  33%|███▎      | 752/2250 [00:07<00:14, 103.63it/s]"
          ]
        },
        {
          "output_type": "stream",
          "name": "stdout",
          "text": [
            "Student Course: Databases, Predicted Proficiency: Intermediate\n",
            "Student Course: Cybersecurity, Predicted Proficiency: Advanced\n",
            "Student Course: Databases, Predicted Proficiency: Advanced\n",
            "Student Course: NLP, Predicted Proficiency: Beginner\n",
            "Student Course: Databases, Predicted Proficiency: Beginner\n",
            "Student Course: NLP, Predicted Proficiency: Advanced\n",
            "Student Course: NLP, Predicted Proficiency: Intermediate\n",
            "Student Course: Data Structures, Predicted Proficiency: Advanced\n",
            "Student Course: NLP, Predicted Proficiency: Advanced\n",
            "Student Course: Cybersecurity, Predicted Proficiency: Beginner\n",
            "Student Course: Databases, Predicted Proficiency: Beginner\n",
            "Student Course: Data Structures, Predicted Proficiency: Advanced\n",
            "Student Course: Databases, Predicted Proficiency: Intermediate\n",
            "Student Course: Data Structures, Predicted Proficiency: Beginner\n",
            "Student Course: NLP, Predicted Proficiency: Intermediate\n",
            "Student Course: Data Structures, Predicted Proficiency: Intermediate\n",
            "Student Course: Data Structures, Predicted Proficiency: Beginner\n",
            "Student Course: Databases, Predicted Proficiency: Beginner\n",
            "Student Course: Data Structures, Predicted Proficiency: Beginner\n",
            "Student Course: NLP, Predicted Proficiency: Beginner\n",
            "Student Course: Databases, Predicted Proficiency: Beginner\n"
          ]
        },
        {
          "output_type": "stream",
          "name": "stderr",
          "text": [
            "Evaluating personalization:  34%|███▍      | 774/2250 [00:07<00:14, 103.60it/s]"
          ]
        },
        {
          "output_type": "stream",
          "name": "stdout",
          "text": [
            "Student Course: Data Structures, Predicted Proficiency: Advanced\n",
            "Student Course: Cybersecurity, Predicted Proficiency: Intermediate\n",
            "Student Course: Cybersecurity, Predicted Proficiency: Advanced\n",
            "Student Course: Cybersecurity, Predicted Proficiency: Advanced\n",
            "Student Course: NLP, Predicted Proficiency: Beginner\n",
            "Student Course: Cybersecurity, Predicted Proficiency: Advanced\n",
            "Student Course: Data Structures, Predicted Proficiency: Intermediate\n",
            "Student Course: Databases, Predicted Proficiency: Beginner\n",
            "Student Course: Databases, Predicted Proficiency: Beginner\n",
            "Student Course: Cybersecurity, Predicted Proficiency: Advanced\n",
            "Student Course: Databases, Predicted Proficiency: Beginner\n",
            "Student Course: Data Structures, Predicted Proficiency: Advanced\n",
            "Student Course: Data Structures, Predicted Proficiency: Beginner\n",
            "Student Course: Cybersecurity, Predicted Proficiency: Beginner\n",
            "Student Course: Data Structures, Predicted Proficiency: Intermediate\n",
            "Student Course: Databases, Predicted Proficiency: Beginner\n",
            "Student Course: Cybersecurity, Predicted Proficiency: Beginner\n",
            "Student Course: NLP, Predicted Proficiency: Advanced\n",
            "Student Course: Data Structures, Predicted Proficiency: Beginner\n",
            "Student Course: Data Structures, Predicted Proficiency: Intermediate\n",
            "Student Course: Data Structures, Predicted Proficiency: Advanced\n"
          ]
        },
        {
          "output_type": "stream",
          "name": "stderr",
          "text": [
            "Evaluating personalization:  35%|███▌      | 796/2250 [00:07<00:13, 104.02it/s]"
          ]
        },
        {
          "output_type": "stream",
          "name": "stdout",
          "text": [
            "Student Course: NLP, Predicted Proficiency: Beginner\n",
            "Student Course: Databases, Predicted Proficiency: Beginner\n",
            "Student Course: Cybersecurity, Predicted Proficiency: Advanced\n",
            "Student Course: Cybersecurity, Predicted Proficiency: Intermediate\n",
            "Student Course: Databases, Predicted Proficiency: Beginner\n",
            "Student Course: Databases, Predicted Proficiency: Advanced\n",
            "Student Course: Data Structures, Predicted Proficiency: Intermediate\n",
            "Student Course: Data Structures, Predicted Proficiency: Beginner\n",
            "Student Course: Databases, Predicted Proficiency: Beginner\n",
            "Student Course: NLP, Predicted Proficiency: Intermediate\n",
            "Student Course: NLP, Predicted Proficiency: Advanced\n",
            "Student Course: Cybersecurity, Predicted Proficiency: Intermediate\n",
            "Student Course: NLP, Predicted Proficiency: Advanced\n",
            "Student Course: Databases, Predicted Proficiency: Advanced\n",
            "Student Course: NLP, Predicted Proficiency: Beginner\n",
            "Student Course: NLP, Predicted Proficiency: Intermediate\n",
            "Student Course: Data Structures, Predicted Proficiency: Beginner\n",
            "Student Course: Data Structures, Predicted Proficiency: Intermediate\n",
            "Student Course: Data Structures, Predicted Proficiency: Beginner\n",
            "Student Course: Databases, Predicted Proficiency: Beginner\n",
            "Student Course: Databases, Predicted Proficiency: Beginner\n",
            "Student Course: Data Structures, Predicted Proficiency: Beginner\n"
          ]
        },
        {
          "output_type": "stream",
          "name": "stderr",
          "text": [
            "Evaluating personalization:  36%|███▋      | 818/2250 [00:08<00:13, 104.13it/s]"
          ]
        },
        {
          "output_type": "stream",
          "name": "stdout",
          "text": [
            "Student Course: Databases, Predicted Proficiency: Intermediate\n",
            "Student Course: Data Structures, Predicted Proficiency: Intermediate\n",
            "Student Course: Data Structures, Predicted Proficiency: Intermediate\n",
            "Student Course: Data Structures, Predicted Proficiency: Intermediate\n",
            "Student Course: Data Structures, Predicted Proficiency: Beginner\n",
            "Student Course: Data Structures, Predicted Proficiency: Intermediate\n",
            "Student Course: Cybersecurity, Predicted Proficiency: Advanced\n",
            "Student Course: Cybersecurity, Predicted Proficiency: Intermediate\n",
            "Student Course: Data Structures, Predicted Proficiency: Beginner\n",
            "Student Course: NLP, Predicted Proficiency: Beginner\n",
            "Student Course: Databases, Predicted Proficiency: Advanced\n",
            "Student Course: Databases, Predicted Proficiency: Advanced\n",
            "Student Course: NLP, Predicted Proficiency: Beginner\n",
            "Student Course: Cybersecurity, Predicted Proficiency: Intermediate\n",
            "Student Course: Data Structures, Predicted Proficiency: Intermediate\n",
            "Student Course: Data Structures, Predicted Proficiency: Beginner\n",
            "Student Course: NLP, Predicted Proficiency: Advanced\n",
            "Student Course: Data Structures, Predicted Proficiency: Beginner\n",
            "Student Course: NLP, Predicted Proficiency: Intermediate\n",
            "Student Course: NLP, Predicted Proficiency: Beginner\n",
            "Student Course: Data Structures, Predicted Proficiency: Intermediate\n",
            "Student Course: Cybersecurity, Predicted Proficiency: Advanced\n"
          ]
        },
        {
          "output_type": "stream",
          "name": "stderr",
          "text": [
            "Evaluating personalization:  37%|███▋      | 840/2250 [00:08<00:13, 103.89it/s]"
          ]
        },
        {
          "output_type": "stream",
          "name": "stdout",
          "text": [
            "Student Course: Cybersecurity, Predicted Proficiency: Intermediate\n",
            "Student Course: Cybersecurity, Predicted Proficiency: Advanced\n",
            "Student Course: Databases, Predicted Proficiency: Beginner\n",
            "Student Course: Databases, Predicted Proficiency: Beginner\n",
            "Student Course: Databases, Predicted Proficiency: Beginner\n",
            "Student Course: Data Structures, Predicted Proficiency: Advanced\n",
            "Student Course: Data Structures, Predicted Proficiency: Intermediate\n",
            "Student Course: NLP, Predicted Proficiency: Beginner\n",
            "Student Course: Databases, Predicted Proficiency: Advanced\n",
            "Student Course: Cybersecurity, Predicted Proficiency: Beginner\n",
            "Student Course: Data Structures, Predicted Proficiency: Beginner\n",
            "Student Course: Cybersecurity, Predicted Proficiency: Beginner\n",
            "Student Course: NLP, Predicted Proficiency: Intermediate\n",
            "Student Course: Data Structures, Predicted Proficiency: Intermediate\n",
            "Student Course: Data Structures, Predicted Proficiency: Beginner\n",
            "Student Course: Cybersecurity, Predicted Proficiency: Advanced\n",
            "Student Course: NLP, Predicted Proficiency: Beginner\n",
            "Student Course: Cybersecurity, Predicted Proficiency: Advanced\n",
            "Student Course: NLP, Predicted Proficiency: Intermediate\n",
            "Student Course: Data Structures, Predicted Proficiency: Advanced\n",
            "Student Course: NLP, Predicted Proficiency: Advanced\n",
            "Student Course: Data Structures, Predicted Proficiency: Intermediate\n"
          ]
        },
        {
          "output_type": "stream",
          "name": "stderr",
          "text": [
            "Evaluating personalization:  38%|███▊      | 862/2250 [00:08<00:13, 103.13it/s]"
          ]
        },
        {
          "output_type": "stream",
          "name": "stdout",
          "text": [
            "Student Course: Cybersecurity, Predicted Proficiency: Advanced\n",
            "Student Course: Databases, Predicted Proficiency: Beginner\n",
            "Student Course: NLP, Predicted Proficiency: Beginner\n",
            "Student Course: Databases, Predicted Proficiency: Intermediate\n",
            "Student Course: Databases, Predicted Proficiency: Beginner\n",
            "Student Course: Data Structures, Predicted Proficiency: Intermediate\n",
            "Student Course: Cybersecurity, Predicted Proficiency: Intermediate\n",
            "Student Course: Databases, Predicted Proficiency: Beginner\n",
            "Student Course: Data Structures, Predicted Proficiency: Intermediate\n",
            "Student Course: NLP, Predicted Proficiency: Beginner\n",
            "Student Course: Cybersecurity, Predicted Proficiency: Intermediate\n",
            "Student Course: Databases, Predicted Proficiency: Advanced\n",
            "Student Course: NLP, Predicted Proficiency: Advanced\n",
            "Student Course: Data Structures, Predicted Proficiency: Advanced\n",
            "Student Course: Cybersecurity, Predicted Proficiency: Intermediate\n",
            "Student Course: Cybersecurity, Predicted Proficiency: Advanced\n",
            "Student Course: NLP, Predicted Proficiency: Advanced\n",
            "Student Course: Cybersecurity, Predicted Proficiency: Advanced\n",
            "Student Course: Databases, Predicted Proficiency: Beginner\n",
            "Student Course: Data Structures, Predicted Proficiency: Beginner\n",
            "Student Course: Data Structures, Predicted Proficiency: Beginner\n"
          ]
        },
        {
          "output_type": "stream",
          "name": "stderr",
          "text": [
            "\rEvaluating personalization:  39%|███▉      | 873/2250 [00:08<00:13, 103.13it/s]"
          ]
        },
        {
          "output_type": "stream",
          "name": "stdout",
          "text": [
            "Student Course: Databases, Predicted Proficiency: Beginner\n",
            "Student Course: Databases, Predicted Proficiency: Intermediate\n",
            "Student Course: Data Structures, Predicted Proficiency: Advanced\n",
            "Student Course: Databases, Predicted Proficiency: Beginner\n",
            "Student Course: Data Structures, Predicted Proficiency: Intermediate\n",
            "Student Course: Cybersecurity, Predicted Proficiency: Intermediate\n",
            "Student Course: NLP, Predicted Proficiency: Advanced\n",
            "Student Course: Data Structures, Predicted Proficiency: Advanced\n",
            "Student Course: NLP, Predicted Proficiency: Beginner\n",
            "Student Course: NLP, Predicted Proficiency: Beginner\n",
            "Student Course: Databases, Predicted Proficiency: Beginner\n",
            "Student Course: Data Structures, Predicted Proficiency: Beginner\n",
            "Student Course: Databases, Predicted Proficiency: Intermediate\n",
            "Student Course: Databases, Predicted Proficiency: Intermediate\n",
            "Student Course: NLP, Predicted Proficiency: Beginner\n",
            "Student Course: Cybersecurity, Predicted Proficiency: Beginner\n",
            "Student Course: Data Structures, Predicted Proficiency: Advanced\n",
            "Student Course: Databases, Predicted Proficiency: Beginner\n",
            "Student Course: NLP, Predicted Proficiency: Advanced\n",
            "Student Course: Cybersecurity, Predicted Proficiency: Intermediate\n",
            "Student Course: NLP, Predicted Proficiency: Beginner\n",
            "Student Course: NLP, Predicted Proficiency: Advanced\n"
          ]
        },
        {
          "output_type": "stream",
          "name": "stderr",
          "text": [
            "Evaluating personalization:  40%|███▉      | 895/2250 [00:08<00:13, 103.39it/s]"
          ]
        },
        {
          "output_type": "stream",
          "name": "stdout",
          "text": [
            "Student Course: Cybersecurity, Predicted Proficiency: Advanced\n",
            "Student Course: Cybersecurity, Predicted Proficiency: Intermediate\n",
            "Student Course: Data Structures, Predicted Proficiency: Intermediate\n",
            "Student Course: Cybersecurity, Predicted Proficiency: Advanced\n",
            "Student Course: Databases, Predicted Proficiency: Advanced\n",
            "Student Course: Cybersecurity, Predicted Proficiency: Intermediate\n",
            "Student Course: Data Structures, Predicted Proficiency: Advanced\n",
            "Student Course: Cybersecurity, Predicted Proficiency: Intermediate\n",
            "Student Course: Data Structures, Predicted Proficiency: Intermediate\n",
            "Student Course: NLP, Predicted Proficiency: Advanced\n",
            "Student Course: Data Structures, Predicted Proficiency: Intermediate\n",
            "Student Course: Cybersecurity, Predicted Proficiency: Intermediate\n",
            "Student Course: Cybersecurity, Predicted Proficiency: Beginner\n",
            "Student Course: Databases, Predicted Proficiency: Advanced\n",
            "Student Course: Cybersecurity, Predicted Proficiency: Beginner\n",
            "Student Course: NLP, Predicted Proficiency: Advanced\n",
            "Student Course: Databases, Predicted Proficiency: Advanced\n",
            "Student Course: Databases, Predicted Proficiency: Beginner\n",
            "Student Course: Cybersecurity, Predicted Proficiency: Intermediate\n",
            "Student Course: Databases, Predicted Proficiency: Advanced\n",
            "Student Course: Cybersecurity, Predicted Proficiency: Advanced\n",
            "Student Course: Data Structures, Predicted Proficiency: Intermediate\n"
          ]
        },
        {
          "output_type": "stream",
          "name": "stderr",
          "text": [
            "Evaluating personalization:  41%|████      | 917/2250 [00:09<00:12, 103.53it/s]"
          ]
        },
        {
          "output_type": "stream",
          "name": "stdout",
          "text": [
            "Student Course: Data Structures, Predicted Proficiency: Advanced\n",
            "Student Course: Databases, Predicted Proficiency: Intermediate\n",
            "Student Course: Databases, Predicted Proficiency: Beginner\n",
            "Student Course: Databases, Predicted Proficiency: Intermediate\n",
            "Student Course: Databases, Predicted Proficiency: Beginner\n",
            "Student Course: Cybersecurity, Predicted Proficiency: Advanced\n",
            "Student Course: NLP, Predicted Proficiency: Advanced\n",
            "Student Course: Cybersecurity, Predicted Proficiency: Beginner\n",
            "Student Course: NLP, Predicted Proficiency: Intermediate\n",
            "Student Course: Cybersecurity, Predicted Proficiency: Beginner\n",
            "Student Course: Databases, Predicted Proficiency: Intermediate\n",
            "Student Course: Data Structures, Predicted Proficiency: Advanced\n",
            "Student Course: Cybersecurity, Predicted Proficiency: Intermediate\n",
            "Student Course: Data Structures, Predicted Proficiency: Advanced\n",
            "Student Course: NLP, Predicted Proficiency: Beginner\n",
            "Student Course: Data Structures, Predicted Proficiency: Intermediate\n",
            "Student Course: Data Structures, Predicted Proficiency: Beginner\n",
            "Student Course: Databases, Predicted Proficiency: Beginner\n",
            "Student Course: NLP, Predicted Proficiency: Intermediate\n",
            "Student Course: NLP, Predicted Proficiency: Advanced\n",
            "Student Course: Cybersecurity, Predicted Proficiency: Advanced\n",
            "Student Course: Data Structures, Predicted Proficiency: Beginner\n"
          ]
        },
        {
          "output_type": "stream",
          "name": "stderr",
          "text": [
            "Evaluating personalization:  42%|████▏     | 950/2250 [00:09<00:12, 104.39it/s]"
          ]
        },
        {
          "output_type": "stream",
          "name": "stdout",
          "text": [
            "Student Course: Databases, Predicted Proficiency: Beginner\n",
            "Student Course: Data Structures, Predicted Proficiency: Beginner\n",
            "Student Course: Databases, Predicted Proficiency: Beginner\n",
            "Student Course: NLP, Predicted Proficiency: Intermediate\n",
            "Student Course: Data Structures, Predicted Proficiency: Beginner\n",
            "Student Course: Databases, Predicted Proficiency: Advanced\n",
            "Student Course: Cybersecurity, Predicted Proficiency: Beginner\n",
            "Student Course: Data Structures, Predicted Proficiency: Beginner\n",
            "Student Course: Cybersecurity, Predicted Proficiency: Intermediate\n",
            "Student Course: Cybersecurity, Predicted Proficiency: Beginner\n",
            "Student Course: Databases, Predicted Proficiency: Advanced\n",
            "Student Course: NLP, Predicted Proficiency: Intermediate\n",
            "Student Course: Cybersecurity, Predicted Proficiency: Advanced\n",
            "Student Course: Data Structures, Predicted Proficiency: Beginner\n",
            "Student Course: Databases, Predicted Proficiency: Advanced\n",
            "Student Course: NLP, Predicted Proficiency: Intermediate\n",
            "Student Course: Cybersecurity, Predicted Proficiency: Beginner\n",
            "Student Course: NLP, Predicted Proficiency: Beginner\n",
            "Student Course: Data Structures, Predicted Proficiency: Intermediate\n",
            "Student Course: NLP, Predicted Proficiency: Advanced\n",
            "Student Course: Databases, Predicted Proficiency: Intermediate\n",
            "Student Course: Data Structures, Predicted Proficiency: Advanced\n"
          ]
        },
        {
          "output_type": "stream",
          "name": "stderr",
          "text": [
            "Evaluating personalization:  43%|████▎     | 972/2250 [00:09<00:12, 105.39it/s]"
          ]
        },
        {
          "output_type": "stream",
          "name": "stdout",
          "text": [
            "Student Course: NLP, Predicted Proficiency: Intermediate\n",
            "Student Course: NLP, Predicted Proficiency: Intermediate\n",
            "Student Course: Data Structures, Predicted Proficiency: Intermediate\n",
            "Student Course: Data Structures, Predicted Proficiency: Advanced\n",
            "Student Course: Databases, Predicted Proficiency: Beginner\n",
            "Student Course: Cybersecurity, Predicted Proficiency: Intermediate\n",
            "Student Course: Databases, Predicted Proficiency: Advanced\n",
            "Student Course: Databases, Predicted Proficiency: Beginner\n",
            "Student Course: NLP, Predicted Proficiency: Advanced\n",
            "Student Course: Data Structures, Predicted Proficiency: Beginner\n",
            "Student Course: Databases, Predicted Proficiency: Advanced\n",
            "Student Course: NLP, Predicted Proficiency: Advanced\n",
            "Student Course: Databases, Predicted Proficiency: Beginner\n",
            "Student Course: NLP, Predicted Proficiency: Advanced\n",
            "Student Course: Data Structures, Predicted Proficiency: Beginner\n",
            "Student Course: Cybersecurity, Predicted Proficiency: Beginner\n",
            "Student Course: Data Structures, Predicted Proficiency: Beginner\n",
            "Student Course: Databases, Predicted Proficiency: Advanced\n",
            "Student Course: Data Structures, Predicted Proficiency: Advanced\n",
            "Student Course: Cybersecurity, Predicted Proficiency: Advanced\n",
            "Student Course: Data Structures, Predicted Proficiency: Intermediate\n",
            "Student Course: Databases, Predicted Proficiency: Intermediate\n"
          ]
        },
        {
          "output_type": "stream",
          "name": "stderr",
          "text": [
            "Evaluating personalization:  44%|████▍     | 994/2250 [00:09<00:11, 106.18it/s]"
          ]
        },
        {
          "output_type": "stream",
          "name": "stdout",
          "text": [
            "Student Course: Data Structures, Predicted Proficiency: Intermediate\n",
            "Student Course: Cybersecurity, Predicted Proficiency: Beginner\n",
            "Student Course: Data Structures, Predicted Proficiency: Beginner\n",
            "Student Course: Cybersecurity, Predicted Proficiency: Intermediate\n",
            "Student Course: Data Structures, Predicted Proficiency: Beginner\n",
            "Student Course: Data Structures, Predicted Proficiency: Intermediate\n",
            "Student Course: NLP, Predicted Proficiency: Intermediate\n",
            "Student Course: Cybersecurity, Predicted Proficiency: Beginner\n",
            "Student Course: Data Structures, Predicted Proficiency: Intermediate\n",
            "Student Course: Data Structures, Predicted Proficiency: Beginner\n",
            "Student Course: Databases, Predicted Proficiency: Advanced\n",
            "Student Course: Cybersecurity, Predicted Proficiency: Beginner\n",
            "Student Course: NLP, Predicted Proficiency: Intermediate\n",
            "Student Course: Databases, Predicted Proficiency: Intermediate\n",
            "Student Course: Cybersecurity, Predicted Proficiency: Beginner\n",
            "Student Course: NLP, Predicted Proficiency: Intermediate\n",
            "Student Course: NLP, Predicted Proficiency: Advanced\n",
            "Student Course: Cybersecurity, Predicted Proficiency: Intermediate\n",
            "Student Course: Data Structures, Predicted Proficiency: Beginner\n",
            "Student Course: Cybersecurity, Predicted Proficiency: Intermediate\n",
            "Student Course: Cybersecurity, Predicted Proficiency: Advanced\n",
            "Student Course: Cybersecurity, Predicted Proficiency: Beginner\n"
          ]
        },
        {
          "output_type": "stream",
          "name": "stderr",
          "text": [
            "Evaluating personalization:  45%|████▌     | 1016/2250 [00:10<00:11, 105.93it/s]"
          ]
        },
        {
          "output_type": "stream",
          "name": "stdout",
          "text": [
            "Student Course: Databases, Predicted Proficiency: Advanced\n",
            "Student Course: Data Structures, Predicted Proficiency: Beginner\n",
            "Student Course: NLP, Predicted Proficiency: Intermediate\n",
            "Student Course: NLP, Predicted Proficiency: Advanced\n",
            "Student Course: Data Structures, Predicted Proficiency: Beginner\n",
            "Student Course: NLP, Predicted Proficiency: Intermediate\n",
            "Student Course: Data Structures, Predicted Proficiency: Intermediate\n",
            "Student Course: Data Structures, Predicted Proficiency: Advanced\n",
            "Student Course: Cybersecurity, Predicted Proficiency: Beginner\n",
            "Student Course: Data Structures, Predicted Proficiency: Intermediate\n",
            "Student Course: Databases, Predicted Proficiency: Beginner\n",
            "Student Course: NLP, Predicted Proficiency: Advanced\n",
            "Student Course: Cybersecurity, Predicted Proficiency: Intermediate\n",
            "Student Course: Databases, Predicted Proficiency: Intermediate\n",
            "Student Course: Databases, Predicted Proficiency: Advanced\n",
            "Student Course: NLP, Predicted Proficiency: Beginner\n",
            "Student Course: Data Structures, Predicted Proficiency: Beginner\n",
            "Student Course: Cybersecurity, Predicted Proficiency: Intermediate\n",
            "Student Course: Cybersecurity, Predicted Proficiency: Advanced\n",
            "Student Course: Cybersecurity, Predicted Proficiency: Advanced\n",
            "Student Course: NLP, Predicted Proficiency: Advanced\n",
            "Student Course: Databases, Predicted Proficiency: Beginner\n"
          ]
        },
        {
          "output_type": "stream",
          "name": "stderr",
          "text": [
            "\rEvaluating personalization:  46%|████▌     | 1027/2250 [00:10<00:11, 105.24it/s]"
          ]
        },
        {
          "output_type": "stream",
          "name": "stdout",
          "text": [
            "Student Course: Cybersecurity, Predicted Proficiency: Intermediate\n",
            "Student Course: Cybersecurity, Predicted Proficiency: Intermediate\n",
            "Student Course: Databases, Predicted Proficiency: Advanced\n",
            "Student Course: Databases, Predicted Proficiency: Beginner\n",
            "Student Course: Data Structures, Predicted Proficiency: Advanced\n",
            "Student Course: Databases, Predicted Proficiency: Intermediate\n",
            "Student Course: Databases, Predicted Proficiency: Intermediate\n",
            "Student Course: Cybersecurity, Predicted Proficiency: Intermediate\n",
            "Student Course: Cybersecurity, Predicted Proficiency: Advanced\n",
            "Student Course: Databases, Predicted Proficiency: Intermediate\n",
            "Student Course: NLP, Predicted Proficiency: Beginner\n",
            "Student Course: NLP, Predicted Proficiency: Beginner\n",
            "Student Course: Data Structures, Predicted Proficiency: Advanced\n",
            "Student Course: Databases, Predicted Proficiency: Advanced\n",
            "Student Course: Databases, Predicted Proficiency: Advanced\n",
            "Student Course: Databases, Predicted Proficiency: Intermediate\n",
            "Student Course: Databases, Predicted Proficiency: Intermediate\n",
            "Student Course: Data Structures, Predicted Proficiency: Advanced\n",
            "Student Course: Databases, Predicted Proficiency: Beginner\n",
            "Student Course: Data Structures, Predicted Proficiency: Advanced\n",
            "Student Course: Data Structures, Predicted Proficiency: Advanced\n"
          ]
        },
        {
          "output_type": "stream",
          "name": "stderr",
          "text": [
            "Evaluating personalization:  47%|████▋     | 1049/2250 [00:10<00:11, 104.22it/s]"
          ]
        },
        {
          "output_type": "stream",
          "name": "stdout",
          "text": [
            "Student Course: Cybersecurity, Predicted Proficiency: Intermediate\n",
            "Student Course: Cybersecurity, Predicted Proficiency: Advanced\n",
            "Student Course: Databases, Predicted Proficiency: Advanced\n",
            "Student Course: Data Structures, Predicted Proficiency: Advanced\n",
            "Student Course: Cybersecurity, Predicted Proficiency: Intermediate\n",
            "Student Course: Data Structures, Predicted Proficiency: Beginner\n",
            "Student Course: Cybersecurity, Predicted Proficiency: Advanced\n",
            "Student Course: Databases, Predicted Proficiency: Advanced\n",
            "Student Course: NLP, Predicted Proficiency: Beginner\n",
            "Student Course: Databases, Predicted Proficiency: Beginner\n",
            "Student Course: NLP, Predicted Proficiency: Advanced\n",
            "Student Course: Databases, Predicted Proficiency: Intermediate\n",
            "Student Course: Data Structures, Predicted Proficiency: Beginner\n",
            "Student Course: Data Structures, Predicted Proficiency: Advanced\n",
            "Student Course: Cybersecurity, Predicted Proficiency: Beginner\n",
            "Student Course: Cybersecurity, Predicted Proficiency: Intermediate\n",
            "Student Course: NLP, Predicted Proficiency: Beginner\n",
            "Student Course: NLP, Predicted Proficiency: Beginner\n",
            "Student Course: NLP, Predicted Proficiency: Advanced\n",
            "Student Course: Cybersecurity, Predicted Proficiency: Intermediate\n",
            "Student Course: NLP, Predicted Proficiency: Beginner\n"
          ]
        },
        {
          "output_type": "stream",
          "name": "stderr",
          "text": [
            "Evaluating personalization:  48%|████▊     | 1071/2250 [00:10<00:11, 103.59it/s]"
          ]
        },
        {
          "output_type": "stream",
          "name": "stdout",
          "text": [
            "Student Course: NLP, Predicted Proficiency: Advanced\n",
            "Student Course: NLP, Predicted Proficiency: Intermediate\n",
            "Student Course: Data Structures, Predicted Proficiency: Advanced\n",
            "Student Course: NLP, Predicted Proficiency: Intermediate\n",
            "Student Course: Cybersecurity, Predicted Proficiency: Advanced\n",
            "Student Course: Databases, Predicted Proficiency: Advanced\n",
            "Student Course: Cybersecurity, Predicted Proficiency: Advanced\n",
            "Student Course: Data Structures, Predicted Proficiency: Intermediate\n",
            "Student Course: Data Structures, Predicted Proficiency: Beginner\n",
            "Student Course: Cybersecurity, Predicted Proficiency: Beginner\n",
            "Student Course: Databases, Predicted Proficiency: Advanced\n",
            "Student Course: Data Structures, Predicted Proficiency: Beginner\n",
            "Student Course: Cybersecurity, Predicted Proficiency: Intermediate\n",
            "Student Course: Data Structures, Predicted Proficiency: Intermediate\n",
            "Student Course: Databases, Predicted Proficiency: Beginner\n",
            "Student Course: Data Structures, Predicted Proficiency: Intermediate\n",
            "Student Course: Databases, Predicted Proficiency: Advanced\n",
            "Student Course: Cybersecurity, Predicted Proficiency: Beginner\n",
            "Student Course: Databases, Predicted Proficiency: Beginner\n",
            "Student Course: NLP, Predicted Proficiency: Intermediate\n",
            "Student Course: Databases, Predicted Proficiency: Beginner\n"
          ]
        },
        {
          "output_type": "stream",
          "name": "stderr",
          "text": [
            "Evaluating personalization:  49%|████▊     | 1093/2250 [00:10<00:11, 103.56it/s]"
          ]
        },
        {
          "output_type": "stream",
          "name": "stdout",
          "text": [
            "Student Course: Databases, Predicted Proficiency: Advanced\n",
            "Student Course: Databases, Predicted Proficiency: Advanced\n",
            "Student Course: Cybersecurity, Predicted Proficiency: Advanced\n",
            "Student Course: Databases, Predicted Proficiency: Beginner\n",
            "Student Course: Databases, Predicted Proficiency: Advanced\n",
            "Student Course: Cybersecurity, Predicted Proficiency: Advanced\n",
            "Student Course: Databases, Predicted Proficiency: Advanced\n",
            "Student Course: NLP, Predicted Proficiency: Beginner\n",
            "Student Course: Data Structures, Predicted Proficiency: Beginner\n",
            "Student Course: Databases, Predicted Proficiency: Advanced\n",
            "Student Course: Databases, Predicted Proficiency: Advanced\n",
            "Student Course: Databases, Predicted Proficiency: Intermediate\n",
            "Student Course: Cybersecurity, Predicted Proficiency: Beginner\n",
            "Student Course: Databases, Predicted Proficiency: Intermediate\n",
            "Student Course: NLP, Predicted Proficiency: Advanced\n",
            "Student Course: Databases, Predicted Proficiency: Beginner\n",
            "Student Course: NLP, Predicted Proficiency: Advanced\n",
            "Student Course: Databases, Predicted Proficiency: Beginner\n",
            "Student Course: Cybersecurity, Predicted Proficiency: Intermediate\n",
            "Student Course: Data Structures, Predicted Proficiency: Advanced\n",
            "Student Course: Cybersecurity, Predicted Proficiency: Advanced\n"
          ]
        },
        {
          "output_type": "stream",
          "name": "stderr",
          "text": [
            "Evaluating personalization:  50%|████▉     | 1115/2250 [00:10<00:11, 102.07it/s]"
          ]
        },
        {
          "output_type": "stream",
          "name": "stdout",
          "text": [
            "Student Course: Databases, Predicted Proficiency: Beginner\n",
            "Student Course: Data Structures, Predicted Proficiency: Advanced\n",
            "Student Course: Databases, Predicted Proficiency: Beginner\n",
            "Student Course: Databases, Predicted Proficiency: Intermediate\n",
            "Student Course: Databases, Predicted Proficiency: Beginner\n",
            "Student Course: Data Structures, Predicted Proficiency: Advanced\n",
            "Student Course: Data Structures, Predicted Proficiency: Intermediate\n",
            "Student Course: Data Structures, Predicted Proficiency: Beginner\n",
            "Student Course: NLP, Predicted Proficiency: Advanced\n",
            "Student Course: Cybersecurity, Predicted Proficiency: Advanced\n",
            "Student Course: NLP, Predicted Proficiency: Beginner\n",
            "Student Course: NLP, Predicted Proficiency: Intermediate\n",
            "Student Course: NLP, Predicted Proficiency: Beginner\n",
            "Student Course: NLP, Predicted Proficiency: Beginner\n",
            "Student Course: Data Structures, Predicted Proficiency: Beginner\n",
            "Student Course: NLP, Predicted Proficiency: Intermediate\n",
            "Student Course: Data Structures, Predicted Proficiency: Beginner\n",
            "Student Course: Databases, Predicted Proficiency: Beginner\n",
            "Student Course: NLP, Predicted Proficiency: Intermediate\n",
            "Student Course: NLP, Predicted Proficiency: Intermediate\n",
            "Student Course: Databases, Predicted Proficiency: Beginner\n"
          ]
        },
        {
          "output_type": "stream",
          "name": "stderr",
          "text": [
            "Evaluating personalization:  51%|█████     | 1137/2250 [00:11<00:10, 102.62it/s]"
          ]
        },
        {
          "output_type": "stream",
          "name": "stdout",
          "text": [
            "Student Course: Cybersecurity, Predicted Proficiency: Intermediate\n",
            "Student Course: Cybersecurity, Predicted Proficiency: Intermediate\n",
            "Student Course: Databases, Predicted Proficiency: Beginner\n",
            "Student Course: Databases, Predicted Proficiency: Beginner\n",
            "Student Course: Databases, Predicted Proficiency: Intermediate\n",
            "Student Course: Databases, Predicted Proficiency: Beginner\n",
            "Student Course: Data Structures, Predicted Proficiency: Advanced\n",
            "Student Course: NLP, Predicted Proficiency: Beginner\n",
            "Student Course: Databases, Predicted Proficiency: Advanced\n",
            "Student Course: Cybersecurity, Predicted Proficiency: Advanced\n",
            "Student Course: Data Structures, Predicted Proficiency: Beginner\n",
            "Student Course: Cybersecurity, Predicted Proficiency: Beginner\n",
            "Student Course: Databases, Predicted Proficiency: Beginner\n",
            "Student Course: Databases, Predicted Proficiency: Intermediate\n",
            "Student Course: Cybersecurity, Predicted Proficiency: Intermediate\n",
            "Student Course: Cybersecurity, Predicted Proficiency: Advanced\n",
            "Student Course: Databases, Predicted Proficiency: Advanced\n",
            "Student Course: Cybersecurity, Predicted Proficiency: Intermediate\n",
            "Student Course: Cybersecurity, Predicted Proficiency: Beginner\n",
            "Student Course: Databases, Predicted Proficiency: Intermediate\n",
            "Student Course: Cybersecurity, Predicted Proficiency: Beginner\n"
          ]
        },
        {
          "output_type": "stream",
          "name": "stderr",
          "text": [
            "Evaluating personalization:  52%|█████▏    | 1159/2250 [00:11<00:10, 102.98it/s]"
          ]
        },
        {
          "output_type": "stream",
          "name": "stdout",
          "text": [
            "Student Course: Cybersecurity, Predicted Proficiency: Advanced\n",
            "Student Course: Databases, Predicted Proficiency: Intermediate\n",
            "Student Course: Cybersecurity, Predicted Proficiency: Advanced\n",
            "Student Course: Data Structures, Predicted Proficiency: Beginner\n",
            "Student Course: Databases, Predicted Proficiency: Advanced\n",
            "Student Course: Databases, Predicted Proficiency: Intermediate\n",
            "Student Course: NLP, Predicted Proficiency: Intermediate\n",
            "Student Course: Cybersecurity, Predicted Proficiency: Intermediate\n",
            "Student Course: Data Structures, Predicted Proficiency: Beginner\n",
            "Student Course: Cybersecurity, Predicted Proficiency: Advanced\n",
            "Student Course: Data Structures, Predicted Proficiency: Intermediate\n",
            "Student Course: NLP, Predicted Proficiency: Advanced\n",
            "Student Course: Databases, Predicted Proficiency: Advanced\n",
            "Student Course: Data Structures, Predicted Proficiency: Intermediate\n",
            "Student Course: NLP, Predicted Proficiency: Intermediate\n",
            "Student Course: Databases, Predicted Proficiency: Intermediate\n",
            "Student Course: Cybersecurity, Predicted Proficiency: Advanced\n",
            "Student Course: Databases, Predicted Proficiency: Advanced\n",
            "Student Course: Data Structures, Predicted Proficiency: Beginner\n",
            "Student Course: Data Structures, Predicted Proficiency: Advanced\n",
            "Student Course: Data Structures, Predicted Proficiency: Beginner\n"
          ]
        },
        {
          "output_type": "stream",
          "name": "stderr",
          "text": [
            "Evaluating personalization:  52%|█████▏    | 1181/2250 [00:11<00:10, 102.87it/s]"
          ]
        },
        {
          "output_type": "stream",
          "name": "stdout",
          "text": [
            "Student Course: Databases, Predicted Proficiency: Advanced\n",
            "Student Course: Data Structures, Predicted Proficiency: Intermediate\n",
            "Student Course: Databases, Predicted Proficiency: Beginner\n",
            "Student Course: NLP, Predicted Proficiency: Intermediate\n",
            "Student Course: Databases, Predicted Proficiency: Beginner\n",
            "Student Course: Data Structures, Predicted Proficiency: Advanced\n",
            "Student Course: Cybersecurity, Predicted Proficiency: Beginner\n",
            "Student Course: Cybersecurity, Predicted Proficiency: Beginner\n",
            "Student Course: Data Structures, Predicted Proficiency: Intermediate\n",
            "Student Course: NLP, Predicted Proficiency: Intermediate\n",
            "Student Course: Cybersecurity, Predicted Proficiency: Advanced\n",
            "Student Course: Cybersecurity, Predicted Proficiency: Advanced\n",
            "Student Course: NLP, Predicted Proficiency: Advanced\n",
            "Student Course: Databases, Predicted Proficiency: Beginner\n",
            "Student Course: Cybersecurity, Predicted Proficiency: Beginner\n",
            "Student Course: NLP, Predicted Proficiency: Advanced\n",
            "Student Course: NLP, Predicted Proficiency: Advanced\n",
            "Student Course: Data Structures, Predicted Proficiency: Advanced\n",
            "Student Course: Data Structures, Predicted Proficiency: Beginner\n",
            "Student Course: Data Structures, Predicted Proficiency: Beginner\n",
            "Student Course: Databases, Predicted Proficiency: Advanced\n"
          ]
        },
        {
          "output_type": "stream",
          "name": "stderr",
          "text": [
            "Evaluating personalization:  53%|█████▎    | 1203/2250 [00:11<00:10, 100.44it/s]"
          ]
        },
        {
          "output_type": "stream",
          "name": "stdout",
          "text": [
            "Student Course: Data Structures, Predicted Proficiency: Intermediate\n",
            "Student Course: Data Structures, Predicted Proficiency: Beginner\n",
            "Student Course: NLP, Predicted Proficiency: Intermediate\n",
            "Student Course: Cybersecurity, Predicted Proficiency: Beginner\n",
            "Student Course: Databases, Predicted Proficiency: Advanced\n",
            "Student Course: Data Structures, Predicted Proficiency: Advanced\n",
            "Student Course: Cybersecurity, Predicted Proficiency: Intermediate\n",
            "Student Course: Databases, Predicted Proficiency: Beginner\n",
            "Student Course: Databases, Predicted Proficiency: Advanced\n",
            "Student Course: Databases, Predicted Proficiency: Beginner\n",
            "Student Course: Databases, Predicted Proficiency: Intermediate\n",
            "Student Course: Cybersecurity, Predicted Proficiency: Intermediate\n",
            "Student Course: Cybersecurity, Predicted Proficiency: Intermediate\n",
            "Student Course: Cybersecurity, Predicted Proficiency: Beginner\n",
            "Student Course: Data Structures, Predicted Proficiency: Advanced\n",
            "Student Course: NLP, Predicted Proficiency: Beginner\n",
            "Student Course: NLP, Predicted Proficiency: Advanced\n",
            "Student Course: Cybersecurity, Predicted Proficiency: Intermediate\n",
            "Student Course: Databases, Predicted Proficiency: Intermediate\n",
            "Student Course: Databases, Predicted Proficiency: Intermediate\n"
          ]
        },
        {
          "output_type": "stream",
          "name": "stderr",
          "text": [
            "Evaluating personalization:  54%|█████▍    | 1225/2250 [00:12<00:09, 102.71it/s]"
          ]
        },
        {
          "output_type": "stream",
          "name": "stdout",
          "text": [
            "Student Course: Cybersecurity, Predicted Proficiency: Intermediate\n",
            "Student Course: NLP, Predicted Proficiency: Beginner\n",
            "Student Course: NLP, Predicted Proficiency: Beginner\n",
            "Student Course: Cybersecurity, Predicted Proficiency: Intermediate\n",
            "Student Course: Cybersecurity, Predicted Proficiency: Beginner\n",
            "Student Course: NLP, Predicted Proficiency: Advanced\n",
            "Student Course: Databases, Predicted Proficiency: Advanced\n",
            "Student Course: Cybersecurity, Predicted Proficiency: Beginner\n",
            "Student Course: Data Structures, Predicted Proficiency: Advanced\n",
            "Student Course: Data Structures, Predicted Proficiency: Intermediate\n",
            "Student Course: NLP, Predicted Proficiency: Beginner\n",
            "Student Course: Databases, Predicted Proficiency: Intermediate\n",
            "Student Course: NLP, Predicted Proficiency: Beginner\n",
            "Student Course: Data Structures, Predicted Proficiency: Beginner\n",
            "Student Course: Data Structures, Predicted Proficiency: Advanced\n",
            "Student Course: Databases, Predicted Proficiency: Beginner\n",
            "Student Course: Cybersecurity, Predicted Proficiency: Intermediate\n",
            "Student Course: NLP, Predicted Proficiency: Intermediate\n",
            "Student Course: Databases, Predicted Proficiency: Beginner\n",
            "Student Course: Databases, Predicted Proficiency: Intermediate\n",
            "Student Course: Databases, Predicted Proficiency: Advanced\n",
            "Student Course: NLP, Predicted Proficiency: Advanced\n"
          ]
        },
        {
          "output_type": "stream",
          "name": "stderr",
          "text": [
            "Evaluating personalization:  55%|█████▌    | 1247/2250 [00:12<00:09, 102.17it/s]"
          ]
        },
        {
          "output_type": "stream",
          "name": "stdout",
          "text": [
            "Student Course: Cybersecurity, Predicted Proficiency: Advanced\n",
            "Student Course: Data Structures, Predicted Proficiency: Beginner\n",
            "Student Course: Databases, Predicted Proficiency: Intermediate\n",
            "Student Course: Data Structures, Predicted Proficiency: Advanced\n",
            "Student Course: Cybersecurity, Predicted Proficiency: Intermediate\n",
            "Student Course: Data Structures, Predicted Proficiency: Intermediate\n",
            "Student Course: NLP, Predicted Proficiency: Beginner\n",
            "Student Course: Cybersecurity, Predicted Proficiency: Beginner\n",
            "Student Course: Cybersecurity, Predicted Proficiency: Intermediate\n",
            "Student Course: NLP, Predicted Proficiency: Intermediate\n",
            "Student Course: Databases, Predicted Proficiency: Advanced\n",
            "Student Course: Data Structures, Predicted Proficiency: Intermediate\n",
            "Student Course: NLP, Predicted Proficiency: Intermediate\n",
            "Student Course: NLP, Predicted Proficiency: Advanced\n",
            "Student Course: Data Structures, Predicted Proficiency: Advanced\n",
            "Student Course: Data Structures, Predicted Proficiency: Intermediate\n",
            "Student Course: NLP, Predicted Proficiency: Intermediate\n",
            "Student Course: Data Structures, Predicted Proficiency: Beginner\n",
            "Student Course: Cybersecurity, Predicted Proficiency: Advanced\n",
            "Student Course: Databases, Predicted Proficiency: Beginner\n",
            "Student Course: Databases, Predicted Proficiency: Intermediate\n"
          ]
        },
        {
          "output_type": "stream",
          "name": "stderr",
          "text": [
            "\rEvaluating personalization:  56%|█████▌    | 1258/2250 [00:12<00:09, 102.23it/s]"
          ]
        },
        {
          "output_type": "stream",
          "name": "stdout",
          "text": [
            "Student Course: NLP, Predicted Proficiency: Beginner\n",
            "Student Course: Data Structures, Predicted Proficiency: Advanced\n",
            "Student Course: Data Structures, Predicted Proficiency: Advanced\n",
            "Student Course: NLP, Predicted Proficiency: Intermediate\n",
            "Student Course: Data Structures, Predicted Proficiency: Advanced\n",
            "Student Course: NLP, Predicted Proficiency: Intermediate\n",
            "Student Course: NLP, Predicted Proficiency: Advanced\n",
            "Student Course: NLP, Predicted Proficiency: Beginner\n",
            "Student Course: Cybersecurity, Predicted Proficiency: Intermediate\n",
            "Student Course: Databases, Predicted Proficiency: Advanced\n",
            "Student Course: NLP, Predicted Proficiency: Advanced\n",
            "Student Course: Data Structures, Predicted Proficiency: Advanced\n",
            "Student Course: Data Structures, Predicted Proficiency: Beginner\n",
            "Student Course: Databases, Predicted Proficiency: Beginner\n",
            "Student Course: Databases, Predicted Proficiency: Beginner\n",
            "Student Course: Data Structures, Predicted Proficiency: Advanced\n",
            "Student Course: Cybersecurity, Predicted Proficiency: Beginner\n",
            "Student Course: Databases, Predicted Proficiency: Advanced\n",
            "Student Course: Data Structures, Predicted Proficiency: Intermediate\n",
            "Student Course: NLP, Predicted Proficiency: Beginner\n",
            "Student Course: Cybersecurity, Predicted Proficiency: Advanced\n"
          ]
        },
        {
          "output_type": "stream",
          "name": "stderr",
          "text": [
            "Evaluating personalization:  57%|█████▋    | 1280/2250 [00:12<00:09, 101.64it/s]"
          ]
        },
        {
          "output_type": "stream",
          "name": "stdout",
          "text": [
            "Student Course: Cybersecurity, Predicted Proficiency: Intermediate\n",
            "Student Course: NLP, Predicted Proficiency: Intermediate\n",
            "Student Course: Cybersecurity, Predicted Proficiency: Intermediate\n",
            "Student Course: Cybersecurity, Predicted Proficiency: Advanced\n",
            "Student Course: Cybersecurity, Predicted Proficiency: Beginner\n",
            "Student Course: Cybersecurity, Predicted Proficiency: Intermediate\n",
            "Student Course: NLP, Predicted Proficiency: Beginner\n",
            "Student Course: NLP, Predicted Proficiency: Advanced\n",
            "Student Course: Cybersecurity, Predicted Proficiency: Intermediate\n",
            "Student Course: Databases, Predicted Proficiency: Intermediate\n",
            "Student Course: Databases, Predicted Proficiency: Beginner\n",
            "Student Course: Databases, Predicted Proficiency: Intermediate\n",
            "Student Course: NLP, Predicted Proficiency: Beginner\n",
            "Student Course: Cybersecurity, Predicted Proficiency: Advanced\n",
            "Student Course: Cybersecurity, Predicted Proficiency: Beginner\n",
            "Student Course: Data Structures, Predicted Proficiency: Intermediate\n",
            "Student Course: Cybersecurity, Predicted Proficiency: Beginner\n",
            "Student Course: NLP, Predicted Proficiency: Advanced\n",
            "Student Course: Cybersecurity, Predicted Proficiency: Intermediate\n",
            "Student Course: Cybersecurity, Predicted Proficiency: Beginner\n",
            "Student Course: NLP, Predicted Proficiency: Beginner\n"
          ]
        },
        {
          "output_type": "stream",
          "name": "stderr",
          "text": [
            "Evaluating personalization:  58%|█████▊    | 1302/2250 [00:12<00:09, 101.22it/s]"
          ]
        },
        {
          "output_type": "stream",
          "name": "stdout",
          "text": [
            "Student Course: Cybersecurity, Predicted Proficiency: Advanced\n",
            "Student Course: Cybersecurity, Predicted Proficiency: Beginner\n",
            "Student Course: Cybersecurity, Predicted Proficiency: Beginner\n",
            "Student Course: Cybersecurity, Predicted Proficiency: Advanced\n",
            "Student Course: Databases, Predicted Proficiency: Intermediate\n",
            "Student Course: Data Structures, Predicted Proficiency: Intermediate\n",
            "Student Course: Cybersecurity, Predicted Proficiency: Beginner\n",
            "Student Course: NLP, Predicted Proficiency: Intermediate\n",
            "Student Course: Databases, Predicted Proficiency: Intermediate\n",
            "Student Course: Data Structures, Predicted Proficiency: Advanced\n",
            "Student Course: Databases, Predicted Proficiency: Advanced\n",
            "Student Course: Cybersecurity, Predicted Proficiency: Intermediate\n",
            "Student Course: Data Structures, Predicted Proficiency: Intermediate\n",
            "Student Course: Cybersecurity, Predicted Proficiency: Advanced\n",
            "Student Course: Cybersecurity, Predicted Proficiency: Beginner\n",
            "Student Course: Data Structures, Predicted Proficiency: Intermediate\n",
            "Student Course: Cybersecurity, Predicted Proficiency: Intermediate\n",
            "Student Course: Databases, Predicted Proficiency: Advanced\n",
            "Student Course: Cybersecurity, Predicted Proficiency: Beginner\n",
            "Student Course: Cybersecurity, Predicted Proficiency: Advanced\n",
            "Student Course: Data Structures, Predicted Proficiency: Intermediate\n"
          ]
        },
        {
          "output_type": "stream",
          "name": "stderr",
          "text": [
            "Evaluating personalization:  59%|█████▉    | 1324/2250 [00:13<00:09, 102.06it/s]"
          ]
        },
        {
          "output_type": "stream",
          "name": "stdout",
          "text": [
            "Student Course: Databases, Predicted Proficiency: Intermediate\n",
            "Student Course: Cybersecurity, Predicted Proficiency: Advanced\n",
            "Student Course: NLP, Predicted Proficiency: Advanced\n",
            "Student Course: Cybersecurity, Predicted Proficiency: Advanced\n",
            "Student Course: NLP, Predicted Proficiency: Intermediate\n",
            "Student Course: Cybersecurity, Predicted Proficiency: Intermediate\n",
            "Student Course: NLP, Predicted Proficiency: Intermediate\n",
            "Student Course: Data Structures, Predicted Proficiency: Beginner\n",
            "Student Course: Data Structures, Predicted Proficiency: Advanced\n",
            "Student Course: Databases, Predicted Proficiency: Intermediate\n",
            "Student Course: Data Structures, Predicted Proficiency: Intermediate\n",
            "Student Course: Data Structures, Predicted Proficiency: Intermediate\n",
            "Student Course: Databases, Predicted Proficiency: Beginner\n",
            "Student Course: Data Structures, Predicted Proficiency: Intermediate\n",
            "Student Course: NLP, Predicted Proficiency: Beginner\n",
            "Student Course: Cybersecurity, Predicted Proficiency: Beginner\n",
            "Student Course: Databases, Predicted Proficiency: Advanced\n",
            "Student Course: NLP, Predicted Proficiency: Beginner\n",
            "Student Course: Cybersecurity, Predicted Proficiency: Intermediate\n",
            "Student Course: Data Structures, Predicted Proficiency: Advanced\n",
            "Student Course: Data Structures, Predicted Proficiency: Beginner\n",
            "Student Course: NLP, Predicted Proficiency: Beginner\n"
          ]
        },
        {
          "output_type": "stream",
          "name": "stderr",
          "text": [
            "Evaluating personalization:  60%|█████▉    | 1346/2250 [00:13<00:08, 103.05it/s]"
          ]
        },
        {
          "output_type": "stream",
          "name": "stdout",
          "text": [
            "Student Course: Cybersecurity, Predicted Proficiency: Beginner\n",
            "Student Course: NLP, Predicted Proficiency: Advanced\n",
            "Student Course: Databases, Predicted Proficiency: Advanced\n",
            "Student Course: NLP, Predicted Proficiency: Beginner\n",
            "Student Course: Data Structures, Predicted Proficiency: Beginner\n",
            "Student Course: Cybersecurity, Predicted Proficiency: Advanced\n",
            "Student Course: Data Structures, Predicted Proficiency: Intermediate\n",
            "Student Course: Databases, Predicted Proficiency: Advanced\n",
            "Student Course: Data Structures, Predicted Proficiency: Advanced\n",
            "Student Course: Data Structures, Predicted Proficiency: Intermediate\n",
            "Student Course: Databases, Predicted Proficiency: Beginner\n",
            "Student Course: NLP, Predicted Proficiency: Beginner\n",
            "Student Course: NLP, Predicted Proficiency: Intermediate\n",
            "Student Course: Databases, Predicted Proficiency: Beginner\n",
            "Student Course: Databases, Predicted Proficiency: Intermediate\n",
            "Student Course: Databases, Predicted Proficiency: Beginner\n",
            "Student Course: Databases, Predicted Proficiency: Intermediate\n",
            "Student Course: Data Structures, Predicted Proficiency: Intermediate\n",
            "Student Course: Data Structures, Predicted Proficiency: Advanced\n",
            "Student Course: Databases, Predicted Proficiency: Beginner\n",
            "Student Course: Cybersecurity, Predicted Proficiency: Advanced\n",
            "Student Course: NLP, Predicted Proficiency: Beginner\n"
          ]
        },
        {
          "output_type": "stream",
          "name": "stderr",
          "text": [
            "Evaluating personalization:  61%|██████    | 1368/2250 [00:13<00:08, 103.74it/s]"
          ]
        },
        {
          "output_type": "stream",
          "name": "stdout",
          "text": [
            "Student Course: Databases, Predicted Proficiency: Advanced\n",
            "Student Course: Data Structures, Predicted Proficiency: Advanced\n",
            "Student Course: Databases, Predicted Proficiency: Intermediate\n",
            "Student Course: Data Structures, Predicted Proficiency: Beginner\n",
            "Student Course: NLP, Predicted Proficiency: Advanced\n",
            "Student Course: NLP, Predicted Proficiency: Intermediate\n",
            "Student Course: Data Structures, Predicted Proficiency: Advanced\n",
            "Student Course: Databases, Predicted Proficiency: Beginner\n",
            "Student Course: Cybersecurity, Predicted Proficiency: Advanced\n",
            "Student Course: NLP, Predicted Proficiency: Intermediate\n",
            "Student Course: Cybersecurity, Predicted Proficiency: Beginner\n",
            "Student Course: Data Structures, Predicted Proficiency: Beginner\n",
            "Student Course: Cybersecurity, Predicted Proficiency: Beginner\n",
            "Student Course: NLP, Predicted Proficiency: Intermediate\n",
            "Student Course: Cybersecurity, Predicted Proficiency: Intermediate\n",
            "Student Course: Databases, Predicted Proficiency: Beginner\n",
            "Student Course: NLP, Predicted Proficiency: Beginner\n",
            "Student Course: Cybersecurity, Predicted Proficiency: Advanced\n",
            "Student Course: NLP, Predicted Proficiency: Beginner\n",
            "Student Course: NLP, Predicted Proficiency: Advanced\n",
            "Student Course: Databases, Predicted Proficiency: Advanced\n",
            "Student Course: Databases, Predicted Proficiency: Advanced\n"
          ]
        },
        {
          "output_type": "stream",
          "name": "stderr",
          "text": [
            "Evaluating personalization:  62%|██████▏   | 1390/2250 [00:13<00:08, 103.93it/s]"
          ]
        },
        {
          "output_type": "stream",
          "name": "stdout",
          "text": [
            "Student Course: Cybersecurity, Predicted Proficiency: Advanced\n",
            "Student Course: Cybersecurity, Predicted Proficiency: Intermediate\n",
            "Student Course: Databases, Predicted Proficiency: Intermediate\n",
            "Student Course: Cybersecurity, Predicted Proficiency: Advanced\n",
            "Student Course: Data Structures, Predicted Proficiency: Advanced\n",
            "Student Course: Data Structures, Predicted Proficiency: Advanced\n",
            "Student Course: Databases, Predicted Proficiency: Advanced\n",
            "Student Course: Databases, Predicted Proficiency: Beginner\n",
            "Student Course: Databases, Predicted Proficiency: Intermediate\n",
            "Student Course: Databases, Predicted Proficiency: Advanced\n",
            "Student Course: Cybersecurity, Predicted Proficiency: Beginner\n",
            "Student Course: Cybersecurity, Predicted Proficiency: Intermediate\n",
            "Student Course: Databases, Predicted Proficiency: Intermediate\n",
            "Student Course: Cybersecurity, Predicted Proficiency: Intermediate\n",
            "Student Course: Cybersecurity, Predicted Proficiency: Beginner\n",
            "Student Course: Databases, Predicted Proficiency: Beginner\n",
            "Student Course: Databases, Predicted Proficiency: Beginner\n",
            "Student Course: Databases, Predicted Proficiency: Advanced\n",
            "Student Course: Databases, Predicted Proficiency: Beginner\n",
            "Student Course: NLP, Predicted Proficiency: Beginner\n",
            "Student Course: Databases, Predicted Proficiency: Beginner\n",
            "Student Course: Cybersecurity, Predicted Proficiency: Intermediate\n"
          ]
        },
        {
          "output_type": "stream",
          "name": "stderr",
          "text": [
            "Evaluating personalization:  63%|██████▎   | 1412/2250 [00:13<00:08, 103.33it/s]"
          ]
        },
        {
          "output_type": "stream",
          "name": "stdout",
          "text": [
            "Student Course: Data Structures, Predicted Proficiency: Intermediate\n",
            "Student Course: Databases, Predicted Proficiency: Intermediate\n",
            "Student Course: Cybersecurity, Predicted Proficiency: Intermediate\n",
            "Student Course: NLP, Predicted Proficiency: Intermediate\n",
            "Student Course: Data Structures, Predicted Proficiency: Beginner\n",
            "Student Course: NLP, Predicted Proficiency: Beginner\n",
            "Student Course: Cybersecurity, Predicted Proficiency: Beginner\n",
            "Student Course: NLP, Predicted Proficiency: Intermediate\n",
            "Student Course: Cybersecurity, Predicted Proficiency: Advanced\n",
            "Student Course: Cybersecurity, Predicted Proficiency: Advanced\n",
            "Student Course: Data Structures, Predicted Proficiency: Beginner\n",
            "Student Course: Data Structures, Predicted Proficiency: Advanced\n",
            "Student Course: NLP, Predicted Proficiency: Beginner\n",
            "Student Course: Cybersecurity, Predicted Proficiency: Advanced\n",
            "Student Course: Data Structures, Predicted Proficiency: Advanced\n",
            "Student Course: Databases, Predicted Proficiency: Beginner\n",
            "Student Course: Data Structures, Predicted Proficiency: Advanced\n",
            "Student Course: Databases, Predicted Proficiency: Beginner\n",
            "Student Course: NLP, Predicted Proficiency: Beginner\n",
            "Student Course: Cybersecurity, Predicted Proficiency: Beginner\n",
            "Student Course: Data Structures, Predicted Proficiency: Intermediate\n"
          ]
        },
        {
          "output_type": "stream",
          "name": "stderr",
          "text": [
            "Evaluating personalization:  64%|██████▎   | 1434/2250 [00:14<00:07, 103.10it/s]"
          ]
        },
        {
          "output_type": "stream",
          "name": "stdout",
          "text": [
            "Student Course: Cybersecurity, Predicted Proficiency: Advanced\n",
            "Student Course: NLP, Predicted Proficiency: Advanced\n",
            "Student Course: Data Structures, Predicted Proficiency: Beginner\n",
            "Student Course: Cybersecurity, Predicted Proficiency: Advanced\n",
            "Student Course: Data Structures, Predicted Proficiency: Advanced\n",
            "Student Course: Databases, Predicted Proficiency: Intermediate\n",
            "Student Course: NLP, Predicted Proficiency: Intermediate\n",
            "Student Course: Databases, Predicted Proficiency: Intermediate\n",
            "Student Course: Databases, Predicted Proficiency: Advanced\n",
            "Student Course: Databases, Predicted Proficiency: Beginner\n",
            "Student Course: Data Structures, Predicted Proficiency: Advanced\n",
            "Student Course: Cybersecurity, Predicted Proficiency: Advanced\n",
            "Student Course: Data Structures, Predicted Proficiency: Intermediate\n",
            "Student Course: Databases, Predicted Proficiency: Advanced\n",
            "Student Course: Cybersecurity, Predicted Proficiency: Intermediate\n",
            "Student Course: Databases, Predicted Proficiency: Beginner\n",
            "Student Course: Data Structures, Predicted Proficiency: Beginner\n",
            "Student Course: Data Structures, Predicted Proficiency: Beginner\n",
            "Student Course: Cybersecurity, Predicted Proficiency: Beginner\n",
            "Student Course: Databases, Predicted Proficiency: Advanced\n",
            "Student Course: Data Structures, Predicted Proficiency: Advanced\n",
            "Student Course: Databases, Predicted Proficiency: Intermediate\n"
          ]
        },
        {
          "output_type": "stream",
          "name": "stderr",
          "text": [
            "Evaluating personalization:  65%|██████▍   | 1456/2250 [00:14<00:07, 104.00it/s]"
          ]
        },
        {
          "output_type": "stream",
          "name": "stdout",
          "text": [
            "Student Course: Data Structures, Predicted Proficiency: Advanced\n",
            "Student Course: Databases, Predicted Proficiency: Intermediate\n",
            "Student Course: Cybersecurity, Predicted Proficiency: Advanced\n",
            "Student Course: Databases, Predicted Proficiency: Advanced\n",
            "Student Course: Databases, Predicted Proficiency: Advanced\n",
            "Student Course: Databases, Predicted Proficiency: Beginner\n",
            "Student Course: Cybersecurity, Predicted Proficiency: Advanced\n",
            "Student Course: NLP, Predicted Proficiency: Beginner\n",
            "Student Course: NLP, Predicted Proficiency: Intermediate\n",
            "Student Course: Cybersecurity, Predicted Proficiency: Advanced\n",
            "Student Course: NLP, Predicted Proficiency: Intermediate\n",
            "Student Course: Cybersecurity, Predicted Proficiency: Advanced\n",
            "Student Course: NLP, Predicted Proficiency: Beginner\n",
            "Student Course: NLP, Predicted Proficiency: Intermediate\n",
            "Student Course: Cybersecurity, Predicted Proficiency: Advanced\n",
            "Student Course: Data Structures, Predicted Proficiency: Beginner\n",
            "Student Course: Data Structures, Predicted Proficiency: Beginner\n",
            "Student Course: Cybersecurity, Predicted Proficiency: Advanced\n",
            "Student Course: Cybersecurity, Predicted Proficiency: Beginner\n",
            "Student Course: Cybersecurity, Predicted Proficiency: Intermediate\n",
            "Student Course: NLP, Predicted Proficiency: Intermediate\n",
            "Student Course: Data Structures, Predicted Proficiency: Advanced\n"
          ]
        },
        {
          "output_type": "stream",
          "name": "stderr",
          "text": [
            "Evaluating personalization:  66%|██████▌   | 1478/2250 [00:14<00:07, 103.73it/s]"
          ]
        },
        {
          "output_type": "stream",
          "name": "stdout",
          "text": [
            "Student Course: Databases, Predicted Proficiency: Beginner\n",
            "Student Course: Databases, Predicted Proficiency: Beginner\n",
            "Student Course: Cybersecurity, Predicted Proficiency: Intermediate\n",
            "Student Course: Cybersecurity, Predicted Proficiency: Beginner\n",
            "Student Course: NLP, Predicted Proficiency: Beginner\n",
            "Student Course: Databases, Predicted Proficiency: Intermediate\n",
            "Student Course: NLP, Predicted Proficiency: Intermediate\n",
            "Student Course: Data Structures, Predicted Proficiency: Intermediate\n",
            "Student Course: Data Structures, Predicted Proficiency: Intermediate\n",
            "Student Course: NLP, Predicted Proficiency: Beginner\n",
            "Student Course: Data Structures, Predicted Proficiency: Intermediate\n",
            "Student Course: NLP, Predicted Proficiency: Intermediate\n",
            "Student Course: Cybersecurity, Predicted Proficiency: Intermediate\n",
            "Student Course: Cybersecurity, Predicted Proficiency: Beginner\n",
            "Student Course: Databases, Predicted Proficiency: Intermediate\n",
            "Student Course: Cybersecurity, Predicted Proficiency: Advanced\n",
            "Student Course: Databases, Predicted Proficiency: Advanced\n",
            "Student Course: NLP, Predicted Proficiency: Intermediate\n",
            "Student Course: Data Structures, Predicted Proficiency: Advanced\n",
            "Student Course: Databases, Predicted Proficiency: Advanced\n",
            "Student Course: NLP, Predicted Proficiency: Intermediate\n",
            "Student Course: Data Structures, Predicted Proficiency: Intermediate\n"
          ]
        },
        {
          "output_type": "stream",
          "name": "stderr",
          "text": [
            "Evaluating personalization:  67%|██████▋   | 1500/2250 [00:14<00:07, 103.45it/s]"
          ]
        },
        {
          "output_type": "stream",
          "name": "stdout",
          "text": [
            "Student Course: Data Structures, Predicted Proficiency: Advanced\n",
            "Student Course: Data Structures, Predicted Proficiency: Advanced\n",
            "Student Course: Cybersecurity, Predicted Proficiency: Intermediate\n",
            "Student Course: NLP, Predicted Proficiency: Beginner\n",
            "Student Course: Databases, Predicted Proficiency: Advanced\n",
            "Student Course: Data Structures, Predicted Proficiency: Intermediate\n",
            "Student Course: Databases, Predicted Proficiency: Beginner\n",
            "Student Course: Data Structures, Predicted Proficiency: Intermediate\n",
            "Student Course: Cybersecurity, Predicted Proficiency: Beginner\n",
            "Student Course: Cybersecurity, Predicted Proficiency: Beginner\n",
            "Student Course: Databases, Predicted Proficiency: Advanced\n",
            "Student Course: Cybersecurity, Predicted Proficiency: Advanced\n",
            "Student Course: Databases, Predicted Proficiency: Beginner\n",
            "Student Course: Databases, Predicted Proficiency: Advanced\n",
            "Student Course: NLP, Predicted Proficiency: Advanced\n",
            "Student Course: Cybersecurity, Predicted Proficiency: Advanced\n",
            "Student Course: Data Structures, Predicted Proficiency: Intermediate\n",
            "Student Course: NLP, Predicted Proficiency: Advanced\n",
            "Student Course: Databases, Predicted Proficiency: Beginner\n",
            "Student Course: Data Structures, Predicted Proficiency: Beginner\n",
            "Student Course: NLP, Predicted Proficiency: Advanced\n"
          ]
        },
        {
          "output_type": "stream",
          "name": "stderr",
          "text": [
            "Evaluating personalization:  68%|██████▊   | 1522/2250 [00:14<00:07, 103.57it/s]"
          ]
        },
        {
          "output_type": "stream",
          "name": "stdout",
          "text": [
            "Student Course: Data Structures, Predicted Proficiency: Beginner\n",
            "Student Course: Data Structures, Predicted Proficiency: Intermediate\n",
            "Student Course: Data Structures, Predicted Proficiency: Advanced\n",
            "Student Course: Data Structures, Predicted Proficiency: Intermediate\n",
            "Student Course: NLP, Predicted Proficiency: Advanced\n",
            "Student Course: Data Structures, Predicted Proficiency: Intermediate\n",
            "Student Course: Data Structures, Predicted Proficiency: Intermediate\n",
            "Student Course: Cybersecurity, Predicted Proficiency: Intermediate\n",
            "Student Course: Databases, Predicted Proficiency: Advanced\n",
            "Student Course: Databases, Predicted Proficiency: Beginner\n",
            "Student Course: NLP, Predicted Proficiency: Beginner\n",
            "Student Course: Cybersecurity, Predicted Proficiency: Advanced\n",
            "Student Course: NLP, Predicted Proficiency: Beginner\n",
            "Student Course: NLP, Predicted Proficiency: Advanced\n",
            "Student Course: NLP, Predicted Proficiency: Advanced\n",
            "Student Course: NLP, Predicted Proficiency: Beginner\n",
            "Student Course: Databases, Predicted Proficiency: Advanced\n",
            "Student Course: Cybersecurity, Predicted Proficiency: Intermediate\n",
            "Student Course: Cybersecurity, Predicted Proficiency: Intermediate\n",
            "Student Course: Data Structures, Predicted Proficiency: Beginner\n",
            "Student Course: NLP, Predicted Proficiency: Advanced\n"
          ]
        },
        {
          "output_type": "stream",
          "name": "stderr",
          "text": [
            "Evaluating personalization:  69%|██████▊   | 1544/2250 [00:15<00:06, 103.92it/s]"
          ]
        },
        {
          "output_type": "stream",
          "name": "stdout",
          "text": [
            "Student Course: NLP, Predicted Proficiency: Advanced\n",
            "Student Course: Databases, Predicted Proficiency: Advanced\n",
            "Student Course: Databases, Predicted Proficiency: Intermediate\n",
            "Student Course: Databases, Predicted Proficiency: Beginner\n",
            "Student Course: Data Structures, Predicted Proficiency: Intermediate\n",
            "Student Course: NLP, Predicted Proficiency: Intermediate\n",
            "Student Course: Databases, Predicted Proficiency: Beginner\n",
            "Student Course: Cybersecurity, Predicted Proficiency: Advanced\n",
            "Student Course: NLP, Predicted Proficiency: Intermediate\n",
            "Student Course: Data Structures, Predicted Proficiency: Intermediate\n",
            "Student Course: Cybersecurity, Predicted Proficiency: Advanced\n",
            "Student Course: Databases, Predicted Proficiency: Beginner\n",
            "Student Course: NLP, Predicted Proficiency: Beginner\n",
            "Student Course: NLP, Predicted Proficiency: Advanced\n",
            "Student Course: Cybersecurity, Predicted Proficiency: Advanced\n",
            "Student Course: NLP, Predicted Proficiency: Advanced\n",
            "Student Course: NLP, Predicted Proficiency: Beginner\n",
            "Student Course: Cybersecurity, Predicted Proficiency: Intermediate\n",
            "Student Course: Data Structures, Predicted Proficiency: Intermediate\n",
            "Student Course: NLP, Predicted Proficiency: Intermediate\n",
            "Student Course: Data Structures, Predicted Proficiency: Beginner\n",
            "Student Course: Cybersecurity, Predicted Proficiency: Advanced\n"
          ]
        },
        {
          "output_type": "stream",
          "name": "stderr",
          "text": [
            "Evaluating personalization:  70%|██████▉   | 1566/2250 [00:15<00:06, 104.89it/s]"
          ]
        },
        {
          "output_type": "stream",
          "name": "stdout",
          "text": [
            "Student Course: Cybersecurity, Predicted Proficiency: Intermediate\n",
            "Student Course: Data Structures, Predicted Proficiency: Intermediate\n",
            "Student Course: Cybersecurity, Predicted Proficiency: Beginner\n",
            "Student Course: Data Structures, Predicted Proficiency: Intermediate\n",
            "Student Course: Cybersecurity, Predicted Proficiency: Advanced\n",
            "Student Course: NLP, Predicted Proficiency: Advanced\n",
            "Student Course: Data Structures, Predicted Proficiency: Intermediate\n",
            "Student Course: Databases, Predicted Proficiency: Beginner\n",
            "Student Course: Databases, Predicted Proficiency: Beginner\n",
            "Student Course: NLP, Predicted Proficiency: Advanced\n",
            "Student Course: Data Structures, Predicted Proficiency: Intermediate\n",
            "Student Course: Cybersecurity, Predicted Proficiency: Intermediate\n",
            "Student Course: Cybersecurity, Predicted Proficiency: Advanced\n",
            "Student Course: Data Structures, Predicted Proficiency: Beginner\n",
            "Student Course: NLP, Predicted Proficiency: Intermediate\n",
            "Student Course: NLP, Predicted Proficiency: Beginner\n",
            "Student Course: Cybersecurity, Predicted Proficiency: Advanced\n",
            "Student Course: NLP, Predicted Proficiency: Advanced\n",
            "Student Course: Databases, Predicted Proficiency: Intermediate\n",
            "Student Course: Data Structures, Predicted Proficiency: Beginner\n",
            "Student Course: Data Structures, Predicted Proficiency: Intermediate\n",
            "Student Course: Cybersecurity, Predicted Proficiency: Intermediate\n"
          ]
        },
        {
          "output_type": "stream",
          "name": "stderr",
          "text": [
            "Evaluating personalization:  71%|███████   | 1588/2250 [00:15<00:06, 105.70it/s]"
          ]
        },
        {
          "output_type": "stream",
          "name": "stdout",
          "text": [
            "Student Course: Databases, Predicted Proficiency: Intermediate\n",
            "Student Course: NLP, Predicted Proficiency: Advanced\n",
            "Student Course: Data Structures, Predicted Proficiency: Advanced\n",
            "Student Course: NLP, Predicted Proficiency: Advanced\n",
            "Student Course: Databases, Predicted Proficiency: Beginner\n",
            "Student Course: Cybersecurity, Predicted Proficiency: Intermediate\n",
            "Student Course: Databases, Predicted Proficiency: Intermediate\n",
            "Student Course: Databases, Predicted Proficiency: Beginner\n",
            "Student Course: Data Structures, Predicted Proficiency: Beginner\n",
            "Student Course: NLP, Predicted Proficiency: Intermediate\n",
            "Student Course: Databases, Predicted Proficiency: Beginner\n",
            "Student Course: Data Structures, Predicted Proficiency: Beginner\n",
            "Student Course: NLP, Predicted Proficiency: Beginner\n",
            "Student Course: NLP, Predicted Proficiency: Beginner\n",
            "Student Course: Databases, Predicted Proficiency: Intermediate\n",
            "Student Course: NLP, Predicted Proficiency: Intermediate\n",
            "Student Course: NLP, Predicted Proficiency: Beginner\n",
            "Student Course: Databases, Predicted Proficiency: Intermediate\n",
            "Student Course: NLP, Predicted Proficiency: Intermediate\n",
            "Student Course: Cybersecurity, Predicted Proficiency: Beginner\n",
            "Student Course: Databases, Predicted Proficiency: Advanced\n",
            "Student Course: Data Structures, Predicted Proficiency: Beginner\n"
          ]
        },
        {
          "output_type": "stream",
          "name": "stderr",
          "text": [
            "Evaluating personalization:  72%|███████▏  | 1610/2250 [00:15<00:06, 106.21it/s]"
          ]
        },
        {
          "output_type": "stream",
          "name": "stdout",
          "text": [
            "Student Course: Cybersecurity, Predicted Proficiency: Beginner\n",
            "Student Course: Cybersecurity, Predicted Proficiency: Advanced\n",
            "Student Course: NLP, Predicted Proficiency: Beginner\n",
            "Student Course: Data Structures, Predicted Proficiency: Intermediate\n",
            "Student Course: NLP, Predicted Proficiency: Beginner\n",
            "Student Course: NLP, Predicted Proficiency: Advanced\n",
            "Student Course: NLP, Predicted Proficiency: Intermediate\n",
            "Student Course: NLP, Predicted Proficiency: Advanced\n",
            "Student Course: NLP, Predicted Proficiency: Beginner\n",
            "Student Course: Cybersecurity, Predicted Proficiency: Beginner\n",
            "Student Course: Cybersecurity, Predicted Proficiency: Beginner\n",
            "Student Course: Data Structures, Predicted Proficiency: Intermediate\n",
            "Student Course: Cybersecurity, Predicted Proficiency: Beginner\n",
            "Student Course: NLP, Predicted Proficiency: Advanced\n",
            "Student Course: Data Structures, Predicted Proficiency: Intermediate\n",
            "Student Course: NLP, Predicted Proficiency: Advanced\n",
            "Student Course: Cybersecurity, Predicted Proficiency: Beginner\n",
            "Student Course: NLP, Predicted Proficiency: Advanced\n",
            "Student Course: Cybersecurity, Predicted Proficiency: Beginner\n",
            "Student Course: Cybersecurity, Predicted Proficiency: Beginner\n",
            "Student Course: Data Structures, Predicted Proficiency: Intermediate\n",
            "Student Course: NLP, Predicted Proficiency: Advanced\n"
          ]
        },
        {
          "output_type": "stream",
          "name": "stderr",
          "text": [
            "Evaluating personalization:  73%|███████▎  | 1632/2250 [00:15<00:05, 105.06it/s]"
          ]
        },
        {
          "output_type": "stream",
          "name": "stdout",
          "text": [
            "Student Course: Data Structures, Predicted Proficiency: Beginner\n",
            "Student Course: Data Structures, Predicted Proficiency: Advanced\n",
            "Student Course: Data Structures, Predicted Proficiency: Beginner\n",
            "Student Course: Data Structures, Predicted Proficiency: Advanced\n",
            "Student Course: Databases, Predicted Proficiency: Beginner\n",
            "Student Course: NLP, Predicted Proficiency: Intermediate\n",
            "Student Course: NLP, Predicted Proficiency: Advanced\n",
            "Student Course: Data Structures, Predicted Proficiency: Intermediate\n",
            "Student Course: NLP, Predicted Proficiency: Beginner\n",
            "Student Course: Cybersecurity, Predicted Proficiency: Advanced\n",
            "Student Course: Cybersecurity, Predicted Proficiency: Advanced\n",
            "Student Course: Cybersecurity, Predicted Proficiency: Advanced\n",
            "Student Course: Data Structures, Predicted Proficiency: Advanced\n",
            "Student Course: NLP, Predicted Proficiency: Advanced\n",
            "Student Course: Databases, Predicted Proficiency: Advanced\n",
            "Student Course: NLP, Predicted Proficiency: Advanced\n",
            "Student Course: Databases, Predicted Proficiency: Beginner\n",
            "Student Course: Data Structures, Predicted Proficiency: Intermediate\n",
            "Student Course: NLP, Predicted Proficiency: Advanced\n",
            "Student Course: Databases, Predicted Proficiency: Intermediate\n",
            "Student Course: Cybersecurity, Predicted Proficiency: Advanced\n"
          ]
        },
        {
          "output_type": "stream",
          "name": "stderr",
          "text": [
            "Evaluating personalization:  74%|███████▎  | 1654/2250 [00:16<00:05, 103.85it/s]"
          ]
        },
        {
          "output_type": "stream",
          "name": "stdout",
          "text": [
            "Student Course: Data Structures, Predicted Proficiency: Intermediate\n",
            "Student Course: Cybersecurity, Predicted Proficiency: Beginner\n",
            "Student Course: NLP, Predicted Proficiency: Beginner\n",
            "Student Course: Databases, Predicted Proficiency: Beginner\n",
            "Student Course: Cybersecurity, Predicted Proficiency: Intermediate\n",
            "Student Course: NLP, Predicted Proficiency: Advanced\n",
            "Student Course: Databases, Predicted Proficiency: Beginner\n",
            "Student Course: NLP, Predicted Proficiency: Intermediate\n",
            "Student Course: NLP, Predicted Proficiency: Beginner\n",
            "Student Course: Data Structures, Predicted Proficiency: Advanced\n",
            "Student Course: NLP, Predicted Proficiency: Advanced\n",
            "Student Course: NLP, Predicted Proficiency: Advanced\n",
            "Student Course: Cybersecurity, Predicted Proficiency: Advanced\n",
            "Student Course: Cybersecurity, Predicted Proficiency: Intermediate\n",
            "Student Course: Data Structures, Predicted Proficiency: Advanced\n",
            "Student Course: Cybersecurity, Predicted Proficiency: Intermediate\n",
            "Student Course: Databases, Predicted Proficiency: Intermediate\n",
            "Student Course: Cybersecurity, Predicted Proficiency: Beginner\n",
            "Student Course: Cybersecurity, Predicted Proficiency: Advanced\n",
            "Student Course: NLP, Predicted Proficiency: Beginner\n",
            "Student Course: Databases, Predicted Proficiency: Advanced\n"
          ]
        },
        {
          "output_type": "stream",
          "name": "stderr",
          "text": [
            "Evaluating personalization:  74%|███████▍  | 1676/2250 [00:16<00:05, 103.50it/s]"
          ]
        },
        {
          "output_type": "stream",
          "name": "stdout",
          "text": [
            "Student Course: Cybersecurity, Predicted Proficiency: Advanced\n",
            "Student Course: Cybersecurity, Predicted Proficiency: Intermediate\n",
            "Student Course: Data Structures, Predicted Proficiency: Advanced\n",
            "Student Course: NLP, Predicted Proficiency: Advanced\n",
            "Student Course: NLP, Predicted Proficiency: Advanced\n",
            "Student Course: Databases, Predicted Proficiency: Beginner\n",
            "Student Course: Cybersecurity, Predicted Proficiency: Advanced\n",
            "Student Course: Cybersecurity, Predicted Proficiency: Beginner\n",
            "Student Course: Databases, Predicted Proficiency: Advanced\n",
            "Student Course: Data Structures, Predicted Proficiency: Advanced\n",
            "Student Course: Cybersecurity, Predicted Proficiency: Intermediate\n",
            "Student Course: Data Structures, Predicted Proficiency: Beginner\n",
            "Student Course: NLP, Predicted Proficiency: Advanced\n",
            "Student Course: Cybersecurity, Predicted Proficiency: Beginner\n",
            "Student Course: Data Structures, Predicted Proficiency: Beginner\n",
            "Student Course: Data Structures, Predicted Proficiency: Beginner\n",
            "Student Course: Cybersecurity, Predicted Proficiency: Intermediate\n",
            "Student Course: Databases, Predicted Proficiency: Advanced\n",
            "Student Course: Cybersecurity, Predicted Proficiency: Advanced\n",
            "Student Course: NLP, Predicted Proficiency: Intermediate\n",
            "Student Course: NLP, Predicted Proficiency: Beginner\n"
          ]
        },
        {
          "output_type": "stream",
          "name": "stderr",
          "text": [
            "Evaluating personalization:  75%|███████▌  | 1698/2250 [00:16<00:05, 102.99it/s]"
          ]
        },
        {
          "output_type": "stream",
          "name": "stdout",
          "text": [
            "Student Course: NLP, Predicted Proficiency: Beginner\n",
            "Student Course: Cybersecurity, Predicted Proficiency: Advanced\n",
            "Student Course: Data Structures, Predicted Proficiency: Advanced\n",
            "Student Course: Data Structures, Predicted Proficiency: Beginner\n",
            "Student Course: Cybersecurity, Predicted Proficiency: Beginner\n",
            "Student Course: Cybersecurity, Predicted Proficiency: Advanced\n",
            "Student Course: Data Structures, Predicted Proficiency: Beginner\n",
            "Student Course: Cybersecurity, Predicted Proficiency: Beginner\n",
            "Student Course: Databases, Predicted Proficiency: Advanced\n",
            "Student Course: Cybersecurity, Predicted Proficiency: Intermediate\n",
            "Student Course: Databases, Predicted Proficiency: Beginner\n",
            "Student Course: NLP, Predicted Proficiency: Beginner\n",
            "Student Course: Databases, Predicted Proficiency: Intermediate\n",
            "Student Course: Cybersecurity, Predicted Proficiency: Intermediate\n",
            "Student Course: Data Structures, Predicted Proficiency: Beginner\n",
            "Student Course: Cybersecurity, Predicted Proficiency: Intermediate\n",
            "Student Course: Cybersecurity, Predicted Proficiency: Beginner\n",
            "Student Course: Databases, Predicted Proficiency: Intermediate\n",
            "Student Course: Cybersecurity, Predicted Proficiency: Advanced\n",
            "Student Course: Databases, Predicted Proficiency: Intermediate\n",
            "Student Course: Databases, Predicted Proficiency: Advanced\n"
          ]
        },
        {
          "output_type": "stream",
          "name": "stderr",
          "text": [
            "Evaluating personalization:  76%|███████▋  | 1720/2250 [00:16<00:05, 103.43it/s]"
          ]
        },
        {
          "output_type": "stream",
          "name": "stdout",
          "text": [
            "Student Course: NLP, Predicted Proficiency: Advanced\n",
            "Student Course: Cybersecurity, Predicted Proficiency: Advanced\n",
            "Student Course: Databases, Predicted Proficiency: Advanced\n",
            "Student Course: Data Structures, Predicted Proficiency: Intermediate\n",
            "Student Course: Cybersecurity, Predicted Proficiency: Beginner\n",
            "Student Course: Cybersecurity, Predicted Proficiency: Beginner\n",
            "Student Course: NLP, Predicted Proficiency: Beginner\n",
            "Student Course: Data Structures, Predicted Proficiency: Advanced\n",
            "Student Course: Data Structures, Predicted Proficiency: Advanced\n",
            "Student Course: Databases, Predicted Proficiency: Advanced\n",
            "Student Course: Databases, Predicted Proficiency: Beginner\n",
            "Student Course: Cybersecurity, Predicted Proficiency: Beginner\n",
            "Student Course: Cybersecurity, Predicted Proficiency: Intermediate\n",
            "Student Course: Databases, Predicted Proficiency: Beginner\n",
            "Student Course: Data Structures, Predicted Proficiency: Advanced\n",
            "Student Course: Databases, Predicted Proficiency: Advanced\n",
            "Student Course: Cybersecurity, Predicted Proficiency: Intermediate\n",
            "Student Course: Data Structures, Predicted Proficiency: Intermediate\n",
            "Student Course: Databases, Predicted Proficiency: Beginner\n",
            "Student Course: Cybersecurity, Predicted Proficiency: Beginner\n",
            "Student Course: Databases, Predicted Proficiency: Intermediate\n",
            "Student Course: Databases, Predicted Proficiency: Advanced\n"
          ]
        },
        {
          "output_type": "stream",
          "name": "stderr",
          "text": [
            "Evaluating personalization:  77%|███████▋  | 1742/2250 [00:17<00:04, 103.82it/s]"
          ]
        },
        {
          "output_type": "stream",
          "name": "stdout",
          "text": [
            "Student Course: NLP, Predicted Proficiency: Advanced\n",
            "Student Course: Databases, Predicted Proficiency: Beginner\n",
            "Student Course: Data Structures, Predicted Proficiency: Intermediate\n",
            "Student Course: Data Structures, Predicted Proficiency: Intermediate\n",
            "Student Course: Data Structures, Predicted Proficiency: Advanced\n",
            "Student Course: Data Structures, Predicted Proficiency: Advanced\n",
            "Student Course: NLP, Predicted Proficiency: Advanced\n",
            "Student Course: NLP, Predicted Proficiency: Intermediate\n",
            "Student Course: NLP, Predicted Proficiency: Intermediate\n",
            "Student Course: Data Structures, Predicted Proficiency: Beginner\n",
            "Student Course: Data Structures, Predicted Proficiency: Beginner\n",
            "Student Course: NLP, Predicted Proficiency: Intermediate\n",
            "Student Course: NLP, Predicted Proficiency: Intermediate\n",
            "Student Course: Cybersecurity, Predicted Proficiency: Advanced\n",
            "Student Course: Data Structures, Predicted Proficiency: Intermediate\n",
            "Student Course: Databases, Predicted Proficiency: Intermediate\n",
            "Student Course: NLP, Predicted Proficiency: Beginner\n",
            "Student Course: NLP, Predicted Proficiency: Advanced\n",
            "Student Course: NLP, Predicted Proficiency: Intermediate\n",
            "Student Course: Data Structures, Predicted Proficiency: Advanced\n",
            "Student Course: Cybersecurity, Predicted Proficiency: Beginner\n",
            "Student Course: NLP, Predicted Proficiency: Advanced\n"
          ]
        },
        {
          "output_type": "stream",
          "name": "stderr",
          "text": [
            "Evaluating personalization:  78%|███████▊  | 1764/2250 [00:17<00:04, 103.52it/s]"
          ]
        },
        {
          "output_type": "stream",
          "name": "stdout",
          "text": [
            "Student Course: Databases, Predicted Proficiency: Beginner\n",
            "Student Course: Data Structures, Predicted Proficiency: Beginner\n",
            "Student Course: NLP, Predicted Proficiency: Advanced\n",
            "Student Course: Databases, Predicted Proficiency: Beginner\n",
            "Student Course: Cybersecurity, Predicted Proficiency: Intermediate\n",
            "Student Course: NLP, Predicted Proficiency: Beginner\n",
            "Student Course: Databases, Predicted Proficiency: Advanced\n",
            "Student Course: NLP, Predicted Proficiency: Intermediate\n",
            "Student Course: NLP, Predicted Proficiency: Beginner\n",
            "Student Course: Databases, Predicted Proficiency: Beginner\n",
            "Student Course: Databases, Predicted Proficiency: Intermediate\n",
            "Student Course: Cybersecurity, Predicted Proficiency: Advanced\n",
            "Student Course: Databases, Predicted Proficiency: Advanced\n",
            "Student Course: Databases, Predicted Proficiency: Advanced\n",
            "Student Course: Databases, Predicted Proficiency: Intermediate\n",
            "Student Course: Cybersecurity, Predicted Proficiency: Advanced\n",
            "Student Course: NLP, Predicted Proficiency: Beginner\n",
            "Student Course: Databases, Predicted Proficiency: Beginner\n",
            "Student Course: NLP, Predicted Proficiency: Advanced\n",
            "Student Course: NLP, Predicted Proficiency: Advanced\n",
            "Student Course: Databases, Predicted Proficiency: Intermediate\n"
          ]
        },
        {
          "output_type": "stream",
          "name": "stderr",
          "text": [
            "\rEvaluating personalization:  79%|███████▉  | 1775/2250 [00:17<00:04, 103.28it/s]"
          ]
        },
        {
          "output_type": "stream",
          "name": "stdout",
          "text": [
            "Student Course: Databases, Predicted Proficiency: Advanced\n",
            "Student Course: Data Structures, Predicted Proficiency: Intermediate\n",
            "Student Course: Data Structures, Predicted Proficiency: Advanced\n",
            "Student Course: Databases, Predicted Proficiency: Beginner\n",
            "Student Course: Databases, Predicted Proficiency: Advanced\n",
            "Student Course: NLP, Predicted Proficiency: Beginner\n",
            "Student Course: Databases, Predicted Proficiency: Beginner\n",
            "Student Course: Data Structures, Predicted Proficiency: Advanced\n",
            "Student Course: Cybersecurity, Predicted Proficiency: Intermediate\n",
            "Student Course: NLP, Predicted Proficiency: Beginner\n",
            "Student Course: Data Structures, Predicted Proficiency: Beginner\n",
            "Student Course: Cybersecurity, Predicted Proficiency: Beginner\n",
            "Student Course: NLP, Predicted Proficiency: Advanced\n",
            "Student Course: NLP, Predicted Proficiency: Advanced\n",
            "Student Course: NLP, Predicted Proficiency: Advanced\n",
            "Student Course: Data Structures, Predicted Proficiency: Beginner\n",
            "Student Course: Data Structures, Predicted Proficiency: Advanced\n",
            "Student Course: Data Structures, Predicted Proficiency: Advanced\n",
            "Student Course: Data Structures, Predicted Proficiency: Advanced\n",
            "Student Course: Cybersecurity, Predicted Proficiency: Intermediate\n",
            "Student Course: Databases, Predicted Proficiency: Advanced\n",
            "Student Course: NLP, Predicted Proficiency: Beginner\n"
          ]
        },
        {
          "output_type": "stream",
          "name": "stderr",
          "text": [
            "Evaluating personalization:  80%|████████  | 1808/2250 [00:17<00:04, 104.17it/s]"
          ]
        },
        {
          "output_type": "stream",
          "name": "stdout",
          "text": [
            "Student Course: Databases, Predicted Proficiency: Beginner\n",
            "Student Course: Data Structures, Predicted Proficiency: Beginner\n",
            "Student Course: Databases, Predicted Proficiency: Advanced\n",
            "Student Course: NLP, Predicted Proficiency: Advanced\n",
            "Student Course: NLP, Predicted Proficiency: Beginner\n",
            "Student Course: NLP, Predicted Proficiency: Advanced\n",
            "Student Course: NLP, Predicted Proficiency: Advanced\n",
            "Student Course: Cybersecurity, Predicted Proficiency: Beginner\n",
            "Student Course: Databases, Predicted Proficiency: Intermediate\n",
            "Student Course: NLP, Predicted Proficiency: Intermediate\n",
            "Student Course: Cybersecurity, Predicted Proficiency: Beginner\n",
            "Student Course: NLP, Predicted Proficiency: Beginner\n",
            "Student Course: Cybersecurity, Predicted Proficiency: Advanced\n",
            "Student Course: Databases, Predicted Proficiency: Beginner\n",
            "Student Course: NLP, Predicted Proficiency: Beginner\n",
            "Student Course: Cybersecurity, Predicted Proficiency: Beginner\n",
            "Student Course: NLP, Predicted Proficiency: Beginner\n",
            "Student Course: Cybersecurity, Predicted Proficiency: Intermediate\n",
            "Student Course: Cybersecurity, Predicted Proficiency: Advanced\n",
            "Student Course: Cybersecurity, Predicted Proficiency: Beginner\n",
            "Student Course: Data Structures, Predicted Proficiency: Intermediate\n",
            "Student Course: NLP, Predicted Proficiency: Intermediate\n"
          ]
        },
        {
          "output_type": "stream",
          "name": "stderr",
          "text": [
            "Evaluating personalization:  81%|████████▏ | 1830/2250 [00:17<00:03, 105.17it/s]"
          ]
        },
        {
          "output_type": "stream",
          "name": "stdout",
          "text": [
            "Student Course: Databases, Predicted Proficiency: Intermediate\n",
            "Student Course: Data Structures, Predicted Proficiency: Beginner\n",
            "Student Course: NLP, Predicted Proficiency: Beginner\n",
            "Student Course: NLP, Predicted Proficiency: Intermediate\n",
            "Student Course: Data Structures, Predicted Proficiency: Intermediate\n",
            "Student Course: NLP, Predicted Proficiency: Beginner\n",
            "Student Course: Cybersecurity, Predicted Proficiency: Intermediate\n",
            "Student Course: Databases, Predicted Proficiency: Intermediate\n",
            "Student Course: Databases, Predicted Proficiency: Beginner\n",
            "Student Course: Data Structures, Predicted Proficiency: Beginner\n",
            "Student Course: NLP, Predicted Proficiency: Beginner\n",
            "Student Course: Data Structures, Predicted Proficiency: Intermediate\n",
            "Student Course: Data Structures, Predicted Proficiency: Beginner\n",
            "Student Course: Data Structures, Predicted Proficiency: Beginner\n",
            "Student Course: Data Structures, Predicted Proficiency: Intermediate\n",
            "Student Course: Databases, Predicted Proficiency: Advanced\n",
            "Student Course: NLP, Predicted Proficiency: Beginner\n",
            "Student Course: NLP, Predicted Proficiency: Intermediate\n",
            "Student Course: NLP, Predicted Proficiency: Advanced\n",
            "Student Course: Data Structures, Predicted Proficiency: Advanced\n",
            "Student Course: Data Structures, Predicted Proficiency: Intermediate\n",
            "Student Course: Data Structures, Predicted Proficiency: Beginner\n"
          ]
        },
        {
          "output_type": "stream",
          "name": "stderr",
          "text": [
            "\rEvaluating personalization:  82%|████████▏ | 1841/2250 [00:18<00:03, 104.67it/s]"
          ]
        },
        {
          "output_type": "stream",
          "name": "stdout",
          "text": [
            "Student Course: NLP, Predicted Proficiency: Intermediate\n",
            "Student Course: Databases, Predicted Proficiency: Advanced\n",
            "Student Course: NLP, Predicted Proficiency: Beginner\n",
            "Student Course: NLP, Predicted Proficiency: Beginner\n",
            "Student Course: Data Structures, Predicted Proficiency: Beginner\n",
            "Student Course: Data Structures, Predicted Proficiency: Beginner\n",
            "Student Course: Cybersecurity, Predicted Proficiency: Intermediate\n",
            "Student Course: NLP, Predicted Proficiency: Advanced\n",
            "Student Course: Data Structures, Predicted Proficiency: Advanced\n",
            "Student Course: Data Structures, Predicted Proficiency: Intermediate\n",
            "Student Course: NLP, Predicted Proficiency: Beginner\n",
            "Student Course: NLP, Predicted Proficiency: Beginner\n",
            "Student Course: Data Structures, Predicted Proficiency: Intermediate\n",
            "Student Course: Cybersecurity, Predicted Proficiency: Intermediate\n",
            "Student Course: Data Structures, Predicted Proficiency: Intermediate\n",
            "Student Course: Cybersecurity, Predicted Proficiency: Intermediate\n",
            "Student Course: Databases, Predicted Proficiency: Beginner\n",
            "Student Course: Databases, Predicted Proficiency: Advanced\n",
            "Student Course: NLP, Predicted Proficiency: Advanced\n",
            "Student Course: Databases, Predicted Proficiency: Beginner\n",
            "Student Course: Data Structures, Predicted Proficiency: Beginner\n"
          ]
        },
        {
          "output_type": "stream",
          "name": "stderr",
          "text": [
            "Evaluating personalization:  83%|████████▎ | 1863/2250 [00:18<00:03, 104.01it/s]"
          ]
        },
        {
          "output_type": "stream",
          "name": "stdout",
          "text": [
            "Student Course: Data Structures, Predicted Proficiency: Beginner\n",
            "Student Course: Databases, Predicted Proficiency: Advanced\n",
            "Student Course: Data Structures, Predicted Proficiency: Intermediate\n",
            "Student Course: Databases, Predicted Proficiency: Advanced\n",
            "Student Course: Databases, Predicted Proficiency: Beginner\n",
            "Student Course: Data Structures, Predicted Proficiency: Intermediate\n",
            "Student Course: Databases, Predicted Proficiency: Beginner\n",
            "Student Course: Databases, Predicted Proficiency: Advanced\n",
            "Student Course: Databases, Predicted Proficiency: Beginner\n",
            "Student Course: Data Structures, Predicted Proficiency: Beginner\n",
            "Student Course: Data Structures, Predicted Proficiency: Advanced\n",
            "Student Course: Databases, Predicted Proficiency: Intermediate\n",
            "Student Course: Databases, Predicted Proficiency: Intermediate\n",
            "Student Course: NLP, Predicted Proficiency: Beginner\n",
            "Student Course: Data Structures, Predicted Proficiency: Beginner\n",
            "Student Course: Data Structures, Predicted Proficiency: Beginner\n",
            "Student Course: Cybersecurity, Predicted Proficiency: Beginner\n",
            "Student Course: Data Structures, Predicted Proficiency: Intermediate\n",
            "Student Course: NLP, Predicted Proficiency: Advanced\n",
            "Student Course: Data Structures, Predicted Proficiency: Beginner\n",
            "Student Course: Cybersecurity, Predicted Proficiency: Advanced\n",
            "Student Course: Data Structures, Predicted Proficiency: Advanced\n"
          ]
        },
        {
          "output_type": "stream",
          "name": "stderr",
          "text": [
            "Evaluating personalization:  84%|████████▍ | 1885/2250 [00:18<00:03, 104.09it/s]"
          ]
        },
        {
          "output_type": "stream",
          "name": "stdout",
          "text": [
            "Student Course: NLP, Predicted Proficiency: Intermediate\n",
            "Student Course: Databases, Predicted Proficiency: Advanced\n",
            "Student Course: Data Structures, Predicted Proficiency: Beginner\n",
            "Student Course: Data Structures, Predicted Proficiency: Beginner\n",
            "Student Course: Data Structures, Predicted Proficiency: Advanced\n",
            "Student Course: Cybersecurity, Predicted Proficiency: Intermediate\n",
            "Student Course: NLP, Predicted Proficiency: Advanced\n",
            "Student Course: Cybersecurity, Predicted Proficiency: Beginner\n",
            "Student Course: Databases, Predicted Proficiency: Beginner\n",
            "Student Course: Cybersecurity, Predicted Proficiency: Advanced\n",
            "Student Course: NLP, Predicted Proficiency: Advanced\n",
            "Student Course: Cybersecurity, Predicted Proficiency: Intermediate\n",
            "Student Course: Data Structures, Predicted Proficiency: Beginner\n",
            "Student Course: Databases, Predicted Proficiency: Advanced\n",
            "Student Course: NLP, Predicted Proficiency: Beginner\n",
            "Student Course: Data Structures, Predicted Proficiency: Advanced\n",
            "Student Course: Databases, Predicted Proficiency: Beginner\n",
            "Student Course: NLP, Predicted Proficiency: Advanced\n",
            "Student Course: Data Structures, Predicted Proficiency: Intermediate\n",
            "Student Course: Databases, Predicted Proficiency: Intermediate\n",
            "Student Course: Cybersecurity, Predicted Proficiency: Advanced\n",
            "Student Course: Databases, Predicted Proficiency: Beginner\n"
          ]
        },
        {
          "output_type": "stream",
          "name": "stderr",
          "text": [
            "Evaluating personalization:  85%|████████▍ | 1907/2250 [00:18<00:03, 103.66it/s]"
          ]
        },
        {
          "output_type": "stream",
          "name": "stdout",
          "text": [
            "Student Course: Data Structures, Predicted Proficiency: Intermediate\n",
            "Student Course: Cybersecurity, Predicted Proficiency: Beginner\n",
            "Student Course: NLP, Predicted Proficiency: Advanced\n",
            "Student Course: Cybersecurity, Predicted Proficiency: Beginner\n",
            "Student Course: Data Structures, Predicted Proficiency: Beginner\n",
            "Student Course: Data Structures, Predicted Proficiency: Beginner\n",
            "Student Course: Databases, Predicted Proficiency: Beginner\n",
            "Student Course: NLP, Predicted Proficiency: Advanced\n",
            "Student Course: Data Structures, Predicted Proficiency: Beginner\n",
            "Student Course: Data Structures, Predicted Proficiency: Beginner\n",
            "Student Course: Cybersecurity, Predicted Proficiency: Intermediate\n",
            "Student Course: Cybersecurity, Predicted Proficiency: Advanced\n",
            "Student Course: NLP, Predicted Proficiency: Advanced\n",
            "Student Course: NLP, Predicted Proficiency: Intermediate\n",
            "Student Course: NLP, Predicted Proficiency: Advanced\n",
            "Student Course: Cybersecurity, Predicted Proficiency: Intermediate\n",
            "Student Course: Databases, Predicted Proficiency: Advanced\n",
            "Student Course: NLP, Predicted Proficiency: Advanced\n",
            "Student Course: Cybersecurity, Predicted Proficiency: Intermediate\n",
            "Student Course: Databases, Predicted Proficiency: Advanced\n",
            "Student Course: Databases, Predicted Proficiency: Advanced\n",
            "Student Course: Cybersecurity, Predicted Proficiency: Intermediate\n"
          ]
        },
        {
          "output_type": "stream",
          "name": "stderr",
          "text": [
            "Evaluating personalization:  86%|████████▌ | 1929/2250 [00:18<00:03, 104.56it/s]"
          ]
        },
        {
          "output_type": "stream",
          "name": "stdout",
          "text": [
            "Student Course: Cybersecurity, Predicted Proficiency: Advanced\n",
            "Student Course: Data Structures, Predicted Proficiency: Beginner\n",
            "Student Course: NLP, Predicted Proficiency: Beginner\n",
            "Student Course: Data Structures, Predicted Proficiency: Beginner\n",
            "Student Course: NLP, Predicted Proficiency: Beginner\n",
            "Student Course: NLP, Predicted Proficiency: Intermediate\n",
            "Student Course: Databases, Predicted Proficiency: Advanced\n",
            "Student Course: Cybersecurity, Predicted Proficiency: Advanced\n",
            "Student Course: Data Structures, Predicted Proficiency: Beginner\n",
            "Student Course: NLP, Predicted Proficiency: Beginner\n",
            "Student Course: Databases, Predicted Proficiency: Intermediate\n",
            "Student Course: Databases, Predicted Proficiency: Beginner\n",
            "Student Course: Databases, Predicted Proficiency: Beginner\n",
            "Student Course: NLP, Predicted Proficiency: Advanced\n",
            "Student Course: Cybersecurity, Predicted Proficiency: Advanced\n",
            "Student Course: Data Structures, Predicted Proficiency: Advanced\n",
            "Student Course: NLP, Predicted Proficiency: Beginner\n",
            "Student Course: NLP, Predicted Proficiency: Advanced\n",
            "Student Course: Data Structures, Predicted Proficiency: Advanced\n",
            "Student Course: Databases, Predicted Proficiency: Intermediate\n",
            "Student Course: NLP, Predicted Proficiency: Beginner\n",
            "Student Course: Cybersecurity, Predicted Proficiency: Intermediate\n"
          ]
        },
        {
          "output_type": "stream",
          "name": "stderr",
          "text": [
            "Evaluating personalization:  87%|████████▋ | 1951/2250 [00:19<00:02, 104.29it/s]"
          ]
        },
        {
          "output_type": "stream",
          "name": "stdout",
          "text": [
            "Student Course: NLP, Predicted Proficiency: Advanced\n",
            "Student Course: Cybersecurity, Predicted Proficiency: Advanced\n",
            "Student Course: Cybersecurity, Predicted Proficiency: Advanced\n",
            "Student Course: Cybersecurity, Predicted Proficiency: Beginner\n",
            "Student Course: Data Structures, Predicted Proficiency: Advanced\n",
            "Student Course: Cybersecurity, Predicted Proficiency: Intermediate\n",
            "Student Course: NLP, Predicted Proficiency: Intermediate\n",
            "Student Course: Databases, Predicted Proficiency: Beginner\n",
            "Student Course: Data Structures, Predicted Proficiency: Intermediate\n",
            "Student Course: Databases, Predicted Proficiency: Advanced\n",
            "Student Course: Databases, Predicted Proficiency: Intermediate\n",
            "Student Course: Cybersecurity, Predicted Proficiency: Intermediate\n",
            "Student Course: Data Structures, Predicted Proficiency: Intermediate\n",
            "Student Course: Data Structures, Predicted Proficiency: Beginner\n",
            "Student Course: Cybersecurity, Predicted Proficiency: Advanced\n",
            "Student Course: Cybersecurity, Predicted Proficiency: Intermediate\n",
            "Student Course: Cybersecurity, Predicted Proficiency: Intermediate\n",
            "Student Course: Data Structures, Predicted Proficiency: Intermediate\n",
            "Student Course: Cybersecurity, Predicted Proficiency: Advanced\n",
            "Student Course: NLP, Predicted Proficiency: Intermediate\n",
            "Student Course: NLP, Predicted Proficiency: Intermediate\n",
            "Student Course: Databases, Predicted Proficiency: Beginner\n"
          ]
        },
        {
          "output_type": "stream",
          "name": "stderr",
          "text": [
            "Evaluating personalization:  88%|████████▊ | 1973/2250 [00:19<00:02, 103.59it/s]"
          ]
        },
        {
          "output_type": "stream",
          "name": "stdout",
          "text": [
            "Student Course: NLP, Predicted Proficiency: Advanced\n",
            "Student Course: Data Structures, Predicted Proficiency: Intermediate\n",
            "Student Course: Databases, Predicted Proficiency: Intermediate\n",
            "Student Course: NLP, Predicted Proficiency: Beginner\n",
            "Student Course: NLP, Predicted Proficiency: Intermediate\n",
            "Student Course: Data Structures, Predicted Proficiency: Advanced\n",
            "Student Course: Cybersecurity, Predicted Proficiency: Beginner\n",
            "Student Course: Data Structures, Predicted Proficiency: Beginner\n",
            "Student Course: Databases, Predicted Proficiency: Advanced\n",
            "Student Course: Databases, Predicted Proficiency: Advanced\n",
            "Student Course: NLP, Predicted Proficiency: Advanced\n",
            "Student Course: NLP, Predicted Proficiency: Intermediate\n",
            "Student Course: NLP, Predicted Proficiency: Beginner\n",
            "Student Course: Data Structures, Predicted Proficiency: Advanced\n",
            "Student Course: Databases, Predicted Proficiency: Beginner\n",
            "Student Course: Data Structures, Predicted Proficiency: Advanced\n",
            "Student Course: Databases, Predicted Proficiency: Beginner\n",
            "Student Course: NLP, Predicted Proficiency: Advanced\n",
            "Student Course: Cybersecurity, Predicted Proficiency: Advanced\n",
            "Student Course: Data Structures, Predicted Proficiency: Beginner\n",
            "Student Course: Databases, Predicted Proficiency: Advanced\n"
          ]
        },
        {
          "output_type": "stream",
          "name": "stderr",
          "text": [
            "Evaluating personalization:  89%|████████▊ | 1995/2250 [00:19<00:02, 103.02it/s]"
          ]
        },
        {
          "output_type": "stream",
          "name": "stdout",
          "text": [
            "Student Course: Databases, Predicted Proficiency: Advanced\n",
            "Student Course: Cybersecurity, Predicted Proficiency: Beginner\n",
            "Student Course: Data Structures, Predicted Proficiency: Advanced\n",
            "Student Course: Databases, Predicted Proficiency: Intermediate\n",
            "Student Course: Databases, Predicted Proficiency: Advanced\n",
            "Student Course: Cybersecurity, Predicted Proficiency: Beginner\n",
            "Student Course: NLP, Predicted Proficiency: Intermediate\n",
            "Student Course: Data Structures, Predicted Proficiency: Intermediate\n",
            "Student Course: Databases, Predicted Proficiency: Intermediate\n",
            "Student Course: NLP, Predicted Proficiency: Beginner\n",
            "Student Course: Cybersecurity, Predicted Proficiency: Intermediate\n",
            "Student Course: Data Structures, Predicted Proficiency: Beginner\n",
            "Student Course: Cybersecurity, Predicted Proficiency: Advanced\n",
            "Student Course: Cybersecurity, Predicted Proficiency: Beginner\n",
            "Student Course: Data Structures, Predicted Proficiency: Advanced\n",
            "Student Course: Data Structures, Predicted Proficiency: Beginner\n",
            "Student Course: Data Structures, Predicted Proficiency: Beginner\n",
            "Student Course: NLP, Predicted Proficiency: Intermediate\n",
            "Student Course: Data Structures, Predicted Proficiency: Intermediate\n",
            "Student Course: Databases, Predicted Proficiency: Beginner\n",
            "Student Course: NLP, Predicted Proficiency: Beginner\n"
          ]
        },
        {
          "output_type": "stream",
          "name": "stderr",
          "text": [
            "Evaluating personalization:  90%|████████▉ | 2017/2250 [00:19<00:02, 104.01it/s]"
          ]
        },
        {
          "output_type": "stream",
          "name": "stdout",
          "text": [
            "Student Course: NLP, Predicted Proficiency: Advanced\n",
            "Student Course: Databases, Predicted Proficiency: Beginner\n",
            "Student Course: Databases, Predicted Proficiency: Advanced\n",
            "Student Course: NLP, Predicted Proficiency: Intermediate\n",
            "Student Course: NLP, Predicted Proficiency: Beginner\n",
            "Student Course: Data Structures, Predicted Proficiency: Beginner\n",
            "Student Course: Databases, Predicted Proficiency: Advanced\n",
            "Student Course: Cybersecurity, Predicted Proficiency: Beginner\n",
            "Student Course: Databases, Predicted Proficiency: Beginner\n",
            "Student Course: Databases, Predicted Proficiency: Advanced\n",
            "Student Course: Data Structures, Predicted Proficiency: Intermediate\n",
            "Student Course: Cybersecurity, Predicted Proficiency: Advanced\n",
            "Student Course: NLP, Predicted Proficiency: Beginner\n",
            "Student Course: Cybersecurity, Predicted Proficiency: Advanced\n",
            "Student Course: Cybersecurity, Predicted Proficiency: Advanced\n",
            "Student Course: Databases, Predicted Proficiency: Beginner\n",
            "Student Course: Cybersecurity, Predicted Proficiency: Advanced\n",
            "Student Course: Databases, Predicted Proficiency: Beginner\n",
            "Student Course: Cybersecurity, Predicted Proficiency: Intermediate\n",
            "Student Course: Cybersecurity, Predicted Proficiency: Advanced\n",
            "Student Course: NLP, Predicted Proficiency: Beginner\n",
            "Student Course: NLP, Predicted Proficiency: Beginner\n"
          ]
        },
        {
          "output_type": "stream",
          "name": "stderr",
          "text": [
            "Evaluating personalization:  91%|█████████ | 2039/2250 [00:19<00:02, 104.09it/s]"
          ]
        },
        {
          "output_type": "stream",
          "name": "stdout",
          "text": [
            "Student Course: NLP, Predicted Proficiency: Beginner\n",
            "Student Course: Cybersecurity, Predicted Proficiency: Advanced\n",
            "Student Course: Cybersecurity, Predicted Proficiency: Intermediate\n",
            "Student Course: Cybersecurity, Predicted Proficiency: Beginner\n",
            "Student Course: Data Structures, Predicted Proficiency: Advanced\n",
            "Student Course: Cybersecurity, Predicted Proficiency: Beginner\n",
            "Student Course: NLP, Predicted Proficiency: Beginner\n",
            "Student Course: Data Structures, Predicted Proficiency: Beginner\n",
            "Student Course: Databases, Predicted Proficiency: Advanced\n",
            "Student Course: Cybersecurity, Predicted Proficiency: Advanced\n",
            "Student Course: Databases, Predicted Proficiency: Advanced\n",
            "Student Course: Data Structures, Predicted Proficiency: Advanced\n",
            "Student Course: NLP, Predicted Proficiency: Beginner\n",
            "Student Course: Cybersecurity, Predicted Proficiency: Beginner\n",
            "Student Course: Databases, Predicted Proficiency: Beginner\n",
            "Student Course: Data Structures, Predicted Proficiency: Advanced\n",
            "Student Course: Databases, Predicted Proficiency: Beginner\n",
            "Student Course: Cybersecurity, Predicted Proficiency: Intermediate\n",
            "Student Course: Data Structures, Predicted Proficiency: Advanced\n",
            "Student Course: NLP, Predicted Proficiency: Beginner\n",
            "Student Course: NLP, Predicted Proficiency: Advanced\n"
          ]
        },
        {
          "output_type": "stream",
          "name": "stderr",
          "text": [
            "Evaluating personalization:  92%|█████████▏| 2061/2250 [00:20<00:01, 104.01it/s]"
          ]
        },
        {
          "output_type": "stream",
          "name": "stdout",
          "text": [
            "Student Course: Databases, Predicted Proficiency: Intermediate\n",
            "Student Course: NLP, Predicted Proficiency: Beginner\n",
            "Student Course: NLP, Predicted Proficiency: Intermediate\n",
            "Student Course: Cybersecurity, Predicted Proficiency: Beginner\n",
            "Student Course: Databases, Predicted Proficiency: Beginner\n",
            "Student Course: Databases, Predicted Proficiency: Advanced\n",
            "Student Course: Cybersecurity, Predicted Proficiency: Advanced\n",
            "Student Course: Databases, Predicted Proficiency: Intermediate\n",
            "Student Course: NLP, Predicted Proficiency: Intermediate\n",
            "Student Course: Data Structures, Predicted Proficiency: Intermediate\n",
            "Student Course: Data Structures, Predicted Proficiency: Intermediate\n",
            "Student Course: Data Structures, Predicted Proficiency: Intermediate\n",
            "Student Course: Databases, Predicted Proficiency: Beginner\n",
            "Student Course: Cybersecurity, Predicted Proficiency: Advanced\n",
            "Student Course: Databases, Predicted Proficiency: Beginner\n",
            "Student Course: NLP, Predicted Proficiency: Beginner\n",
            "Student Course: NLP, Predicted Proficiency: Beginner\n",
            "Student Course: Data Structures, Predicted Proficiency: Beginner\n",
            "Student Course: Data Structures, Predicted Proficiency: Beginner\n",
            "Student Course: NLP, Predicted Proficiency: Intermediate\n",
            "Student Course: Cybersecurity, Predicted Proficiency: Advanced\n",
            "Student Course: Databases, Predicted Proficiency: Beginner\n"
          ]
        },
        {
          "output_type": "stream",
          "name": "stderr",
          "text": [
            "Evaluating personalization:  93%|█████████▎| 2083/2250 [00:20<00:01, 103.76it/s]"
          ]
        },
        {
          "output_type": "stream",
          "name": "stdout",
          "text": [
            "Student Course: Cybersecurity, Predicted Proficiency: Intermediate\n",
            "Student Course: Data Structures, Predicted Proficiency: Advanced\n",
            "Student Course: Cybersecurity, Predicted Proficiency: Advanced\n",
            "Student Course: NLP, Predicted Proficiency: Advanced\n",
            "Student Course: Data Structures, Predicted Proficiency: Advanced\n",
            "Student Course: Databases, Predicted Proficiency: Intermediate\n",
            "Student Course: Data Structures, Predicted Proficiency: Advanced\n",
            "Student Course: NLP, Predicted Proficiency: Intermediate\n",
            "Student Course: Data Structures, Predicted Proficiency: Advanced\n",
            "Student Course: NLP, Predicted Proficiency: Intermediate\n",
            "Student Course: Data Structures, Predicted Proficiency: Beginner\n",
            "Student Course: Data Structures, Predicted Proficiency: Advanced\n",
            "Student Course: Cybersecurity, Predicted Proficiency: Advanced\n",
            "Student Course: Databases, Predicted Proficiency: Advanced\n",
            "Student Course: Cybersecurity, Predicted Proficiency: Beginner\n",
            "Student Course: Cybersecurity, Predicted Proficiency: Advanced\n",
            "Student Course: Cybersecurity, Predicted Proficiency: Beginner\n",
            "Student Course: Cybersecurity, Predicted Proficiency: Advanced\n",
            "Student Course: Databases, Predicted Proficiency: Advanced\n",
            "Student Course: Data Structures, Predicted Proficiency: Advanced\n",
            "Student Course: Databases, Predicted Proficiency: Advanced\n",
            "Student Course: Databases, Predicted Proficiency: Intermediate\n"
          ]
        },
        {
          "output_type": "stream",
          "name": "stderr",
          "text": [
            "Evaluating personalization:  94%|█████████▎| 2105/2250 [00:20<00:01, 103.90it/s]"
          ]
        },
        {
          "output_type": "stream",
          "name": "stdout",
          "text": [
            "Student Course: Data Structures, Predicted Proficiency: Advanced\n",
            "Student Course: Data Structures, Predicted Proficiency: Beginner\n",
            "Student Course: NLP, Predicted Proficiency: Advanced\n",
            "Student Course: Cybersecurity, Predicted Proficiency: Beginner\n",
            "Student Course: Data Structures, Predicted Proficiency: Advanced\n",
            "Student Course: NLP, Predicted Proficiency: Intermediate\n",
            "Student Course: Databases, Predicted Proficiency: Intermediate\n",
            "Student Course: Data Structures, Predicted Proficiency: Beginner\n",
            "Student Course: Data Structures, Predicted Proficiency: Advanced\n",
            "Student Course: Cybersecurity, Predicted Proficiency: Intermediate\n",
            "Student Course: Databases, Predicted Proficiency: Beginner\n",
            "Student Course: NLP, Predicted Proficiency: Intermediate\n",
            "Student Course: Cybersecurity, Predicted Proficiency: Intermediate\n",
            "Student Course: Databases, Predicted Proficiency: Beginner\n",
            "Student Course: Data Structures, Predicted Proficiency: Beginner\n",
            "Student Course: Data Structures, Predicted Proficiency: Beginner\n",
            "Student Course: NLP, Predicted Proficiency: Beginner\n",
            "Student Course: NLP, Predicted Proficiency: Intermediate\n",
            "Student Course: Cybersecurity, Predicted Proficiency: Intermediate\n",
            "Student Course: NLP, Predicted Proficiency: Beginner\n",
            "Student Course: Data Structures, Predicted Proficiency: Beginner\n",
            "Student Course: Data Structures, Predicted Proficiency: Advanced\n"
          ]
        },
        {
          "output_type": "stream",
          "name": "stderr",
          "text": [
            "Evaluating personalization:  95%|█████████▍| 2127/2250 [00:20<00:01, 103.84it/s]"
          ]
        },
        {
          "output_type": "stream",
          "name": "stdout",
          "text": [
            "Student Course: NLP, Predicted Proficiency: Beginner\n",
            "Student Course: Data Structures, Predicted Proficiency: Beginner\n",
            "Student Course: Data Structures, Predicted Proficiency: Beginner\n",
            "Student Course: Databases, Predicted Proficiency: Intermediate\n",
            "Student Course: Databases, Predicted Proficiency: Beginner\n",
            "Student Course: NLP, Predicted Proficiency: Intermediate\n",
            "Student Course: Data Structures, Predicted Proficiency: Intermediate\n",
            "Student Course: NLP, Predicted Proficiency: Beginner\n",
            "Student Course: Data Structures, Predicted Proficiency: Beginner\n",
            "Student Course: NLP, Predicted Proficiency: Advanced\n",
            "Student Course: NLP, Predicted Proficiency: Intermediate\n",
            "Student Course: Cybersecurity, Predicted Proficiency: Beginner\n",
            "Student Course: Cybersecurity, Predicted Proficiency: Beginner\n",
            "Student Course: Databases, Predicted Proficiency: Beginner\n",
            "Student Course: Cybersecurity, Predicted Proficiency: Advanced\n",
            "Student Course: Databases, Predicted Proficiency: Intermediate\n",
            "Student Course: NLP, Predicted Proficiency: Advanced\n",
            "Student Course: Databases, Predicted Proficiency: Advanced\n",
            "Student Course: Cybersecurity, Predicted Proficiency: Beginner\n",
            "Student Course: NLP, Predicted Proficiency: Beginner\n",
            "Student Course: Databases, Predicted Proficiency: Advanced\n",
            "Student Course: Data Structures, Predicted Proficiency: Beginner\n"
          ]
        },
        {
          "output_type": "stream",
          "name": "stderr",
          "text": [
            "Evaluating personalization:  96%|█████████▌| 2149/2250 [00:20<00:00, 103.76it/s]"
          ]
        },
        {
          "output_type": "stream",
          "name": "stdout",
          "text": [
            "Student Course: Data Structures, Predicted Proficiency: Beginner\n",
            "Student Course: Cybersecurity, Predicted Proficiency: Intermediate\n",
            "Student Course: Cybersecurity, Predicted Proficiency: Intermediate\n",
            "Student Course: Databases, Predicted Proficiency: Beginner\n",
            "Student Course: Data Structures, Predicted Proficiency: Intermediate\n",
            "Student Course: Data Structures, Predicted Proficiency: Beginner\n",
            "Student Course: NLP, Predicted Proficiency: Advanced\n",
            "Student Course: Databases, Predicted Proficiency: Intermediate\n",
            "Student Course: Cybersecurity, Predicted Proficiency: Beginner\n",
            "Student Course: Cybersecurity, Predicted Proficiency: Intermediate\n",
            "Student Course: Databases, Predicted Proficiency: Beginner\n",
            "Student Course: NLP, Predicted Proficiency: Advanced\n",
            "Student Course: Cybersecurity, Predicted Proficiency: Advanced\n",
            "Student Course: Cybersecurity, Predicted Proficiency: Beginner\n",
            "Student Course: NLP, Predicted Proficiency: Intermediate\n",
            "Student Course: Data Structures, Predicted Proficiency: Advanced\n",
            "Student Course: Data Structures, Predicted Proficiency: Beginner\n",
            "Student Course: Data Structures, Predicted Proficiency: Advanced\n",
            "Student Course: Data Structures, Predicted Proficiency: Advanced\n",
            "Student Course: Cybersecurity, Predicted Proficiency: Advanced\n",
            "Student Course: NLP, Predicted Proficiency: Beginner\n"
          ]
        },
        {
          "output_type": "stream",
          "name": "stderr",
          "text": [
            "Evaluating personalization:  96%|█████████▋| 2171/2250 [00:21<00:00, 104.58it/s]"
          ]
        },
        {
          "output_type": "stream",
          "name": "stdout",
          "text": [
            "Student Course: NLP, Predicted Proficiency: Intermediate\n",
            "Student Course: Databases, Predicted Proficiency: Beginner\n",
            "Student Course: Data Structures, Predicted Proficiency: Beginner\n",
            "Student Course: NLP, Predicted Proficiency: Advanced\n",
            "Student Course: Cybersecurity, Predicted Proficiency: Beginner\n",
            "Student Course: Cybersecurity, Predicted Proficiency: Beginner\n",
            "Student Course: NLP, Predicted Proficiency: Beginner\n",
            "Student Course: Databases, Predicted Proficiency: Advanced\n",
            "Student Course: Cybersecurity, Predicted Proficiency: Intermediate\n",
            "Student Course: NLP, Predicted Proficiency: Advanced\n",
            "Student Course: Data Structures, Predicted Proficiency: Advanced\n",
            "Student Course: Databases, Predicted Proficiency: Intermediate\n",
            "Student Course: Data Structures, Predicted Proficiency: Advanced\n",
            "Student Course: Cybersecurity, Predicted Proficiency: Intermediate\n",
            "Student Course: Databases, Predicted Proficiency: Beginner\n",
            "Student Course: Data Structures, Predicted Proficiency: Advanced\n",
            "Student Course: NLP, Predicted Proficiency: Advanced\n",
            "Student Course: Databases, Predicted Proficiency: Advanced\n",
            "Student Course: NLP, Predicted Proficiency: Intermediate\n",
            "Student Course: Databases, Predicted Proficiency: Advanced\n",
            "Student Course: Databases, Predicted Proficiency: Beginner\n",
            "Student Course: NLP, Predicted Proficiency: Beginner\n"
          ]
        },
        {
          "output_type": "stream",
          "name": "stderr",
          "text": [
            "Evaluating personalization:  97%|█████████▋| 2193/2250 [00:21<00:00, 104.95it/s]"
          ]
        },
        {
          "output_type": "stream",
          "name": "stdout",
          "text": [
            "Student Course: Data Structures, Predicted Proficiency: Advanced\n",
            "Student Course: Data Structures, Predicted Proficiency: Beginner\n",
            "Student Course: NLP, Predicted Proficiency: Intermediate\n",
            "Student Course: Data Structures, Predicted Proficiency: Beginner\n",
            "Student Course: Data Structures, Predicted Proficiency: Intermediate\n",
            "Student Course: NLP, Predicted Proficiency: Beginner\n",
            "Student Course: Cybersecurity, Predicted Proficiency: Beginner\n",
            "Student Course: Data Structures, Predicted Proficiency: Advanced\n",
            "Student Course: Databases, Predicted Proficiency: Advanced\n",
            "Student Course: Databases, Predicted Proficiency: Beginner\n",
            "Student Course: NLP, Predicted Proficiency: Intermediate\n",
            "Student Course: Cybersecurity, Predicted Proficiency: Advanced\n",
            "Student Course: Cybersecurity, Predicted Proficiency: Advanced\n",
            "Student Course: Databases, Predicted Proficiency: Beginner\n",
            "Student Course: Cybersecurity, Predicted Proficiency: Intermediate\n",
            "Student Course: Databases, Predicted Proficiency: Beginner\n",
            "Student Course: Databases, Predicted Proficiency: Advanced\n",
            "Student Course: NLP, Predicted Proficiency: Intermediate\n",
            "Student Course: NLP, Predicted Proficiency: Intermediate\n",
            "Student Course: Cybersecurity, Predicted Proficiency: Beginner\n"
          ]
        },
        {
          "output_type": "stream",
          "name": "stderr",
          "text": [
            "Evaluating personalization:  98%|█████████▊| 2215/2250 [00:21<00:00, 100.54it/s]"
          ]
        },
        {
          "output_type": "stream",
          "name": "stdout",
          "text": [
            "Student Course: Databases, Predicted Proficiency: Advanced\n",
            "Student Course: NLP, Predicted Proficiency: Advanced\n",
            "Student Course: Data Structures, Predicted Proficiency: Advanced\n",
            "Student Course: NLP, Predicted Proficiency: Advanced\n",
            "Student Course: Data Structures, Predicted Proficiency: Beginner\n",
            "Student Course: NLP, Predicted Proficiency: Intermediate\n",
            "Student Course: Data Structures, Predicted Proficiency: Beginner\n",
            "Student Course: Databases, Predicted Proficiency: Advanced\n",
            "Student Course: Cybersecurity, Predicted Proficiency: Advanced\n",
            "Student Course: Databases, Predicted Proficiency: Advanced\n",
            "Student Course: Databases, Predicted Proficiency: Intermediate\n",
            "Student Course: NLP, Predicted Proficiency: Beginner\n",
            "Student Course: Data Structures, Predicted Proficiency: Beginner\n",
            "Student Course: Databases, Predicted Proficiency: Intermediate\n",
            "Student Course: Databases, Predicted Proficiency: Beginner\n",
            "Student Course: Databases, Predicted Proficiency: Beginner\n",
            "Student Course: Data Structures, Predicted Proficiency: Beginner\n",
            "Student Course: NLP, Predicted Proficiency: Beginner\n",
            "Student Course: Databases, Predicted Proficiency: Intermediate\n",
            "Student Course: Data Structures, Predicted Proficiency: Intermediate\n",
            "Student Course: Cybersecurity, Predicted Proficiency: Intermediate\n"
          ]
        },
        {
          "output_type": "stream",
          "name": "stderr",
          "text": [
            "Evaluating personalization:  99%|█████████▉| 2237/2250 [00:21<00:00, 102.74it/s]"
          ]
        },
        {
          "output_type": "stream",
          "name": "stdout",
          "text": [
            "Student Course: Data Structures, Predicted Proficiency: Beginner\n",
            "Student Course: NLP, Predicted Proficiency: Beginner\n",
            "Student Course: Cybersecurity, Predicted Proficiency: Advanced\n",
            "Student Course: Data Structures, Predicted Proficiency: Intermediate\n",
            "Student Course: Databases, Predicted Proficiency: Advanced\n",
            "Student Course: NLP, Predicted Proficiency: Advanced\n",
            "Student Course: Cybersecurity, Predicted Proficiency: Beginner\n",
            "Student Course: Data Structures, Predicted Proficiency: Intermediate\n",
            "Student Course: Data Structures, Predicted Proficiency: Advanced\n",
            "Student Course: Databases, Predicted Proficiency: Advanced\n",
            "Student Course: Cybersecurity, Predicted Proficiency: Intermediate\n",
            "Student Course: Data Structures, Predicted Proficiency: Advanced\n",
            "Student Course: Cybersecurity, Predicted Proficiency: Beginner\n",
            "Student Course: Data Structures, Predicted Proficiency: Intermediate\n",
            "Student Course: Cybersecurity, Predicted Proficiency: Advanced\n",
            "Student Course: NLP, Predicted Proficiency: Advanced\n",
            "Student Course: Cybersecurity, Predicted Proficiency: Advanced\n",
            "Student Course: NLP, Predicted Proficiency: Advanced\n",
            "Student Course: Databases, Predicted Proficiency: Intermediate\n",
            "Student Course: Databases, Predicted Proficiency: Advanced\n",
            "Student Course: Cybersecurity, Predicted Proficiency: Beginner\n",
            "Student Course: Databases, Predicted Proficiency: Beginner\n"
          ]
        },
        {
          "output_type": "stream",
          "name": "stderr",
          "text": [
            "Evaluating personalization: 100%|██████████| 2250/2250 [00:21<00:00, 102.41it/s]\n"
          ]
        },
        {
          "output_type": "stream",
          "name": "stdout",
          "text": [
            "Student Course: Cybersecurity, Predicted Proficiency: Advanced\n",
            "Student Course: NLP, Predicted Proficiency: Intermediate\n",
            "Student Course: Databases, Predicted Proficiency: Beginner\n",
            "Student Course: NLP, Predicted Proficiency: Advanced\n",
            "Student Course: NLP, Predicted Proficiency: Advanced\n",
            "Student Course: Databases, Predicted Proficiency: Beginner\n",
            "Student Course: NLP, Predicted Proficiency: Beginner\n",
            "Student Course: Databases, Predicted Proficiency: Intermediate\n",
            "Student Course: Databases, Predicted Proficiency: Beginner\n",
            "Student Course: Cybersecurity, Predicted Proficiency: Advanced\n",
            "Average Alignment Rate: 1.0000\n",
            "Average Difficulty Suitability (MAE): 0.5666\n",
            "Results saved to /content/drive/MyDrive/personalization_results.json\n"
          ]
        }
      ]
    },
    {
      "cell_type": "markdown",
      "source": [
        "# **Inference**"
      ],
      "metadata": {
        "id": "harTLBiPBoEG"
      }
    },
    {
      "cell_type": "code",
      "source": [
        "def infer_student_exam(student_profile, questions_df, model, tokenizer, le_grade, le_courses, le_topics, le_proficiency, scaler, proficiency_map, num_questions=5):\n",
        "    profile_df = pd.DataFrame([student_profile])\n",
        "\n",
        "    # Encoding categorical features\n",
        "    profile_df['grade'] = le_grade.transform(profile_df['grade'])\n",
        "    profile_df['courses'] = le_courses.transform(profile_df['courses'])\n",
        "    profile_df['topics_mastered'] = le_topics.transform(profile_df['topics_mastered'])\n",
        "\n",
        "    # Scaling numerical features\n",
        "    profile_df[['age', 'past_scores']] = scaler.transform(profile_df[['age', 'past_scores']])\n",
        "\n",
        "    profile_df['input_text'] = profile_df.apply(\n",
        "        lambda x: f\"Course: {le_courses.inverse_transform([int(x['courses'])])[0]}, \"\n",
        "                  f\"Topic Mastered: {le_topics.inverse_transform([int(x['topics_mastered'])])[0]}, \"\n",
        "                  f\"Past Score: {x['past_scores']:.2f}, \"\n",
        "                  f\"Grade: {le_grade.inverse_transform([int(x['grade'])])[0]}\",\n",
        "        axis=1\n",
        "    )\n",
        "\n",
        "    # Predicting proficiency\n",
        "    inputs = tokenizer(profile_df['input_text'].iloc[0], return_tensors='pt', padding=True, truncation=True, max_length=128).to(device)\n",
        "    model.eval()\n",
        "    with torch.no_grad():\n",
        "        outputs = model(**inputs)\n",
        "        predicted_proficiency = torch.argmax(outputs.logits, dim=1).item()\n",
        "\n",
        "    predicted_proficiency_label = le_proficiency.inverse_transform([predicted_proficiency])[0]\n",
        "\n",
        "    # Gettnig personalized questions\n",
        "    selected_questions, _ = personalize_exam(profile_df.iloc[0], questions_df, model, tokenizer, num_questions)\n",
        "\n",
        "    print(f\"\\nStudent Profile: {student_profile}\")\n",
        "    print(f\"Predicted Proficiency: {predicted_proficiency_label}\")\n",
        "    print(\"\\nSelected Questions:\")\n",
        "    if len(selected_questions) == 0:\n",
        "        print(\"No suitable questions found.\")\n",
        "    else:\n",
        "        for idx, q in selected_questions.iterrows():\n",
        "            print(f\"Question {idx+1}: {q['question']} (Topic: {q['topic']}, Difficulty: {q['difficulty']})\")\n",
        "\n",
        "    return predicted_proficiency_label, selected_questions\n",
        "\n",
        "# Example on real student profiles\n",
        "real_students = [\n",
        "    {\n",
        "        'age': 20,\n",
        "        'grade': 'Sophomore',\n",
        "        'courses': 'NLP',\n",
        "        'past_scores': 85.0,\n",
        "        'topics_mastered': 'NLP Basics'\n",
        "    },\n",
        "    {\n",
        "        'age': 22,\n",
        "        'grade': 'Junior',\n",
        "        'courses': 'Databases',\n",
        "        'past_scores': 65.0,\n",
        "        'topics_mastered': 'SQL'\n",
        "    },\n",
        "    {\n",
        "        'age': 19,\n",
        "        'grade': 'Freshman',\n",
        "        'courses': 'Cybersecurity',\n",
        "        'past_scores': 55.0,\n",
        "        'topics_mastered': 'Security Fundamentals'\n",
        "    }\n",
        "]\n",
        "\n",
        "# Run inference for each student\n",
        "for student in real_students:\n",
        "    predicted_proficiency, selected_questions = infer_student_exam(\n",
        "        student, questions_df, model, tokenizer, le_grade, le_courses, le_topics, le_proficiency, scaler, proficiency_map\n",
        "    )"
      ],
      "metadata": {
        "colab": {
          "base_uri": "https://localhost:8080/"
        },
        "id": "ba_XRpicps5d",
        "outputId": "625257d6-cc7a-48b9-c67f-f835d96e14f8"
      },
      "execution_count": 10,
      "outputs": [
        {
          "output_type": "stream",
          "name": "stdout",
          "text": [
            "Student Course: NLP, Predicted Proficiency: Advanced\n",
            "\n",
            "Student Profile: {'age': 20, 'grade': 'Sophomore', 'courses': 'NLP', 'past_scores': 85.0, 'topics_mastered': 'NLP Basics'}\n",
            "Predicted Proficiency: Advanced\n",
            "\n",
            "Selected Questions:\n",
            "Question 63: Question 62 (Topic: NLP, Difficulty: Beginner)\n",
            "Question 68: Question 67 (Topic: NLP, Difficulty: Advanced)\n",
            "Question 3: Question 2 (Topic: NLP, Difficulty: Intermediate)\n",
            "Question 73: Question 72 (Topic: NLP, Difficulty: Intermediate)\n",
            "Question 36: Question 35 (Topic: NLP, Difficulty: Advanced)\n",
            "Student Course: Databases, Predicted Proficiency: Beginner\n",
            "\n",
            "Student Profile: {'age': 22, 'grade': 'Junior', 'courses': 'Databases', 'past_scores': 65.0, 'topics_mastered': 'SQL'}\n",
            "Predicted Proficiency: Beginner\n",
            "\n",
            "Selected Questions:\n",
            "Question 1: Question 0 (Topic: Databases, Difficulty: Advanced)\n",
            "Question 4: Question 3 (Topic: Databases, Difficulty: Intermediate)\n",
            "Question 14: Question 13 (Topic: Databases, Difficulty: Beginner)\n",
            "Question 79: Question 78 (Topic: Databases, Difficulty: Beginner)\n",
            "Question 65: Question 64 (Topic: Databases, Difficulty: Advanced)\n",
            "Student Course: Cybersecurity, Predicted Proficiency: Beginner\n",
            "\n",
            "Student Profile: {'age': 19, 'grade': 'Freshman', 'courses': 'Cybersecurity', 'past_scores': 55.0, 'topics_mastered': 'Security Fundamentals'}\n",
            "Predicted Proficiency: Beginner\n",
            "\n",
            "Selected Questions:\n",
            "Question 2: Question 1 (Topic: Cybersecurity, Difficulty: Intermediate)\n",
            "Question 84: Question 83 (Topic: Cybersecurity, Difficulty: Advanced)\n",
            "Question 57: Question 56 (Topic: Cybersecurity, Difficulty: Advanced)\n",
            "Question 6: Question 5 (Topic: Cybersecurity, Difficulty: Intermediate)\n",
            "Question 37: Question 36 (Topic: Cybersecurity, Difficulty: Beginner)\n"
          ]
        }
      ]
    },
    {
      "cell_type": "markdown",
      "source": [
        "# **Evaluating with evaluation Metrics**"
      ],
      "metadata": {
        "id": "9UuDmIefBezp"
      }
    },
    {
      "cell_type": "code",
      "source": [
        "test_results = trainer.evaluate(test_dataset)\n",
        "print(\"Test Results:\", test_results)\n",
        "\n",
        "# Get predictions for test set\n",
        "predictions = trainer.predict(test_dataset)\n",
        "logits = predictions.predictions\n",
        "predicted_labels = np.argmax(logits, axis=1)\n",
        "true_labels = test_df['labels'].values\n",
        "\n",
        "precision, recall, f1, _ = precision_recall_fscore_support(true_labels, predicted_labels, average=None, labels=[0, 1, 2])\n",
        "class_names = le_proficiency.classes_  # ['Beginner', 'Intermediate', 'Advanced']\n",
        "\n",
        "print(\"\\nPer-Class Metrics:\")\n",
        "for i, class_name in enumerate(class_names):\n",
        "    print(f\"{class_name}:\")\n",
        "    print(f\"  Precision: {precision[i]:.4f}\")\n",
        "    print(f\"  Recall: {recall[i]:.4f}\")\n",
        "    print(f\"  F1-Score: {f1[i]:.4f}\")\n",
        "\n",
        "macro_precision, macro_recall, macro_f1, _ = precision_recall_fscore_support(true_labels, predicted_labels, average='macro')\n",
        "weighted_precision, weighted_recall, weighted_f1, _ = precision_recall_fscore_support(true_labels, predicted_labels, average='weighted')\n",
        "print(\"\\nAggregate Metrics:\")\n",
        "print(f\"Macro Precision: {macro_precision:.4f}\")\n",
        "print(f\"Macro Recall: {macro_recall:.4f}\")\n",
        "print(f\"Macro F1-Score: {macro_f1:.4f}\")\n",
        "print(f\"Weighted Precision: {weighted_precision:.4f}\")\n",
        "print(f\"Weighted Recall: {weighted_recall:.4f}\")\n",
        "print(f\"Weighted F1-Score: {weighted_f1:.4f}\")\n"
      ],
      "metadata": {
        "colab": {
          "base_uri": "https://localhost:8080/",
          "height": 436
        },
        "id": "PaoMtqKVAq2n",
        "outputId": "22e13dca-ac2c-4f48-a95d-3d12e6840232"
      },
      "execution_count": 11,
      "outputs": [
        {
          "output_type": "display_data",
          "data": {
            "text/plain": [
              "<IPython.core.display.HTML object>"
            ],
            "text/html": []
          },
          "metadata": {}
        },
        {
          "output_type": "stream",
          "name": "stdout",
          "text": [
            "Test Results: {'eval_loss': 0.23389366269111633, 'eval_accuracy': 0.8382222222222222, 'eval_f1': 0.8365044837214944, 'eval_runtime': 2.1842, 'eval_samples_per_second': 1030.129, 'eval_steps_per_second': 129.11, 'epoch': 9.985529322162986}\n",
            "\n",
            "Per-Class Metrics:\n",
            "Advanced:\n",
            "  Precision: 0.8804\n",
            "  Recall: 0.8769\n",
            "  F1-Score: 0.8786\n",
            "Beginner:\n",
            "  Precision: 0.8494\n",
            "  Recall: 0.9180\n",
            "  F1-Score: 0.8824\n",
            "Intermediate:\n",
            "  Precision: 0.7805\n",
            "  Recall: 0.7205\n",
            "  F1-Score: 0.7493\n",
            "\n",
            "Aggregate Metrics:\n",
            "Macro Precision: 0.8368\n",
            "Macro Recall: 0.8385\n",
            "Macro F1-Score: 0.8368\n",
            "Weighted Precision: 0.8365\n",
            "Weighted Recall: 0.8382\n",
            "Weighted F1-Score: 0.8365\n"
          ]
        }
      ]
    },
    {
      "cell_type": "markdown",
      "source": [
        "# **Normalized Confusion Matrix**"
      ],
      "metadata": {
        "id": "kF67G1IzBbzd"
      }
    },
    {
      "cell_type": "code",
      "source": [
        "# Compute normalized confusion matrix\n",
        "cm = confusion_matrix(true_labels, predicted_labels, labels=[0, 1, 2], normalize='true')\n",
        "class_names = le_proficiency.classes_  # ['Beginner', 'Intermediate', 'Advanced']\n",
        "\n",
        "plt.figure(figsize=(8, 6))\n",
        "sns.heatmap(cm, annot=True, fmt='.2f', xticklabels=class_names, yticklabels=class_names, cmap='Blues')\n",
        "plt.xlabel('Predicted')\n",
        "plt.ylabel('True')\n",
        "plt.title('Normalized Confusion Matrix')\n",
        "plt.savefig('/content/drive/MyDrive/normalized_confusion_matrix.png')\n",
        "plt.show()"
      ],
      "metadata": {
        "colab": {
          "base_uri": "https://localhost:8080/",
          "height": 564
        },
        "id": "Xo4mOVMuAuWG",
        "outputId": "7826029c-0d8d-4de9-8dfd-b5b8bc0cc6fd"
      },
      "execution_count": 12,
      "outputs": [
        {
          "output_type": "display_data",
          "data": {
            "text/plain": [
              "<Figure size 800x600 with 2 Axes>"
            ],
            "image/png": "[encoded data removed]"
          },
          "metadata": {}
        }
      ]
    },
    {
      "cell_type": "markdown",
      "source": [
        "**The normalized confusion matrix reveals high accuracy with 0.88 of Advanced, 0.92 of Beginner, and 0.72 of Intermediate students correctly classified**"
      ],
      "metadata": {
        "id": "eDYuX1LbfH2u"
      }
    },
    {
      "cell_type": "markdown",
      "source": [
        "# **Learning Curves**"
      ],
      "metadata": {
        "id": "gRY9C6ywBY8n"
      }
    },
    {
      "cell_type": "code",
      "source": [
        "# Extracting training logs\n",
        "train_logs = trainer.state.log_history\n",
        "train_loss = [log['loss'] for log in train_logs if 'loss' in log]\n",
        "val_loss = [log['eval_loss'] for log in train_logs if 'eval_loss' in log]\n",
        "val_accuracy = [log['eval_accuracy'] for log in train_logs if 'eval_accuracy' in log]\n",
        "epochs = range(1, len(val_loss) + 1)\n",
        "\n",
        "# Plot Training and Validation Loss\n",
        "plt.figure(figsize=(10, 5))\n",
        "plt.plot(epochs, train_loss[:len(epochs)], label='Training Loss', marker='o')\n",
        "plt.plot(epochs, val_loss, label='Validation Loss', marker='o')\n",
        "plt.xlabel('Epoch')\n",
        "plt.ylabel('Loss')\n",
        "plt.title('Training and Validation Loss Curve')\n",
        "plt.legend()\n",
        "plt.grid(True)\n",
        "plt.savefig('/content/drive/MyDrive/learning_curve_loss.png')\n",
        "plt.show()\n",
        "\n",
        "# Plot Validation Accuracy\n",
        "plt.figure(figsize=(10, 5))\n",
        "plt.plot(epochs, val_accuracy, label='Validation Accuracy', marker='o', color='green')\n",
        "plt.xlabel('Epoch')\n",
        "plt.ylabel('Accuracy')\n",
        "plt.title('Validation Accuracy Curve')\n",
        "plt.legend()\n",
        "plt.grid(True)\n",
        "plt.savefig('/content/drive/MyDrive/learning_curve_accuracy.png')\n",
        "plt.show()\n"
      ],
      "metadata": {
        "colab": {
          "base_uri": "https://localhost:8080/",
          "height": 957
        },
        "id": "8UhKy-woAz-A",
        "outputId": "ae30f0a0-8f35-4eec-a969-1c2eafd3c158"
      },
      "execution_count": 13,
      "outputs": [
        {
          "output_type": "display_data",
          "data": {
            "text/plain": [
              "<Figure size 1000x500 with 1 Axes>"
            ],
            "image/png": "[encoded data removed]"
          },
          "metadata": {}
        },
        {
          "output_type": "display_data",
          "data": {
            "text/plain": [
              "<Figure size 1000x500 with 1 Axes>"
            ],
            "image/png": "[encoded data removed]"
          },
          "metadata": {}
        }
      ]
    },
    {
      "cell_type": "markdown",
      "source": [
        "**The training and validation loss curves show a sharp initial drop in training loss from 0.80 to 0.23 over 12 epochs, while validation loss remains stable at 0.20, indicating good model convergence; the validation accuracy curve peaks at 0.845 at epoch 5 but stabilizes around 0.838, suggesting consistent but slightly variable performance.**"
      ],
      "metadata": {
        "id": "3m3d1OINe4QF"
      }
    },
    {
      "cell_type": "markdown",
      "source": [
        "# **ROC Curves (One-vs-Rest)**"
      ],
      "metadata": {
        "id": "wwWhaGe8BT0Q"
      }
    },
    {
      "cell_type": "code",
      "source": [
        "# Convert labels to one-hot encoding for ROC\n",
        "n_classes = len(le_proficiency.classes_)\n",
        "true_labels_one_hot = np.zeros((len(true_labels), n_classes))\n",
        "for i, label in enumerate(true_labels):\n",
        "    true_labels_one_hot[i, label] = 1\n",
        "\n",
        "# Compute ROC curve and AUC for each class\n",
        "fpr = dict()\n",
        "tpr = dict()\n",
        "roc_auc = dict()\n",
        "for i in range(n_classes):\n",
        "    fpr[i], tpr[i], _ = roc_curve(true_labels_one_hot[:, i], logits[:, i])\n",
        "    roc_auc[i] = auc(fpr[i], tpr[i])\n",
        "\n",
        "plt.figure(figsize=(10, 8))\n",
        "colors = cycle(['blue', 'red', 'green'])\n",
        "class_names = le_proficiency.classes_\n",
        "for i, color in zip(range(n_classes), colors):\n",
        "    plt.plot(fpr[i], tpr[i], color=color, lw=2, label=f'ROC curve for {class_names[i]} (AUC = {roc_auc[i]:.2f})')\n",
        "plt.plot([0, 1], [0, 1], 'k--', lw=2)\n",
        "plt.xlim([0.0, 1.0])\n",
        "plt.ylim([0.0, 1.05])\n",
        "plt.xlabel('False Positive Rate')\n",
        "plt.ylabel('True Positive Rate')\n",
        "plt.title('ROC Curves (One-vs-Rest)')\n",
        "plt.legend(loc='lower right')\n",
        "plt.grid(True)\n",
        "plt.savefig('/content/drive/MyDrive/roc_curves.png')\n",
        "plt.show()\n"
      ],
      "metadata": {
        "colab": {
          "base_uri": "https://localhost:8080/",
          "height": 718
        },
        "id": "ml00cEvCA602",
        "outputId": "4932f477-d767-45c3-8a67-69e3e92b89ad"
      },
      "execution_count": 14,
      "outputs": [
        {
          "output_type": "display_data",
          "data": {
            "text/plain": [
              "<Figure size 1000x800 with 1 Axes>"
            ],
            "image/png": "[encoded data removed]"
          },
          "metadata": {}
        }
      ]
    },
    {
      "cell_type": "markdown",
      "source": [
        "The ROC curves demonstrate excellent model performance with AUCs of 0.98\n",
        "(Advanced), 0.99 (Beginner), and 0.94 (Intermediate), indicating strong class\n",
        "separation."
      ],
      "metadata": {
        "id": "GJf92iFXe56k"
      }
    },
    {
      "cell_type": "markdown",
      "source": [
        "# **Class Distribution Plot**"
      ],
      "metadata": {
        "id": "H05QO8GgBRGl"
      }
    },
    {
      "cell_type": "code",
      "source": [
        "# Class Distribution Plot\n",
        "class_names = le_proficiency.classes_\n",
        "plt.figure(figsize=(8, 6))\n",
        "sns.countplot(x=test_df['labels'].map({i: class_names[i] for i in range(len(class_names))}))\n",
        "plt.xlabel('Proficiency Level')\n",
        "plt.ylabel('Count')\n",
        "plt.title('Class Distribution in Test Set')\n",
        "plt.savefig('/content/drive/MyDrive/class_distribution.png')\n",
        "plt.show()\n"
      ],
      "metadata": {
        "colab": {
          "base_uri": "https://localhost:8080/",
          "height": 564
        },
        "id": "8zBx3HHhBAUG",
        "outputId": "1a08f6b6-561f-43ce-8b62-81ecf221a222"
      },
      "execution_count": 15,
      "outputs": [
        {
          "output_type": "display_data",
          "data": {
            "text/plain": [
              "<Figure size 800x600 with 1 Axes>"
            ],
            "image/png": "[encoded data removed]"
          },
          "metadata": {}
        }
      ]
    },
    {
      "cell_type": "markdown",
      "source": [
        "# **Score Correlation Plot**"
      ],
      "metadata": {
        "id": "VYlZnM5qBOas"
      }
    },
    {
      "cell_type": "code",
      "source": [
        "# Score Correlation Plot (Past Scores vs. Proficiency)\n",
        "class_names = le_proficiency.classes_\n",
        "plt.figure(figsize=(8, 6))\n",
        "sns.boxplot(x=test_df['labels'].map({i: class_names[i] for i in range(len(class_names))}), y=test_df['past_scores'])\n",
        "plt.xlabel('Proficiency Level')\n",
        "plt.ylabel('Standardized Past Scores')\n",
        "plt.title('Past Scores by Proficiency Level')\n",
        "plt.savefig('/content/drive/MyDrive/score_correlation.png')\n",
        "plt.show()\n"
      ],
      "metadata": {
        "colab": {
          "base_uri": "https://localhost:8080/",
          "height": 564
        },
        "id": "zjynIehxBDwa",
        "outputId": "d157c626-4093-4bf1-82c5-74fd00e8533d"
      },
      "execution_count": 16,
      "outputs": [
        {
          "output_type": "display_data",
          "data": {
            "text/plain": [
              "<Figure size 800x600 with 1 Axes>"
            ],
            "image/png": "[encoded data removed]"
          },
          "metadata": {}
        }
      ]
    },
    {
      "cell_type": "markdown",
      "source": [
        "# **Saving Extended Results**"
      ],
      "metadata": {
        "id": "si0cgAIyBLDm"
      }
    },
    {
      "cell_type": "code",
      "source": [
        "results = {\n",
        "    'test_accuracy': test_results['eval_accuracy'],\n",
        "    'test_f1': test_results['eval_f1'],\n",
        "    'per_class_precision': {le_proficiency.classes_[i]: precision[i] for i in range(len(le_proficiency.classes_))},\n",
        "    'per_class_recall': {le_proficiency.classes_[i]: recall[i] for i in range(len(le_proficiency.classes_))},\n",
        "    'per_class_f1': {le_proficiency.classes_[i]: f1[i] for i in range(len(le_proficiency.classes_))},\n",
        "    'macro_precision': macro_precision,\n",
        "    'macro_recall': macro_recall,\n",
        "    'macro_f1': macro_f1,\n",
        "    'weighted_precision': weighted_precision,\n",
        "    'weighted_recall': weighted_recall,\n",
        "    'weighted_f1': weighted_f1,\n",
        "    'roc_auc': {le_proficiency.classes_[i]: roc_auc[i] for i in range(len(le_proficiency.classes_))},\n",
        "    'alignment_rate': np.mean(alignment_rates),  # From previous evaluation\n",
        "    'difficulty_suitability': np.mean(difficulty_diffs) if difficulty_diffs else None\n",
        "}\n",
        "with open('/content/drive/MyDrive/extended_results.json', 'w') as f:\n",
        "    json.dump(results, f, indent=4)\n",
        "print(\"Extended results saved to /content/drive/MyDrive/extended_results.json\")\n"
      ],
      "metadata": {
        "colab": {
          "base_uri": "https://localhost:8080/"
        },
        "id": "FGyFj-VLBG2E",
        "outputId": "ac5bcb4b-6385-479b-e92b-1bc567740448"
      },
      "execution_count": 17,
      "outputs": [
        {
          "output_type": "stream",
          "name": "stdout",
          "text": [
            "Extended results saved to /content/drive/MyDrive/extended_results.json\n"
          ]
        }
      ]
    }
  ],
  "metadata": {
    "colab": {
      "provenance": [],
      "gpuType": "L4"
    },
    "kernelspec": {
      "display_name": "Python 3",
      "name": "python3"
    },
    "language_info": {
      "name": "python"
    },
    "widgets": {
      "application/vnd.jupyter.widget-state+json": {
        "46d934889e6a48ad804755de3e3ab17d": {
          "model_module": "@jupyter-widgets/controls",
          "model_name": "HBoxModel",
          "model_module_version": "1.5.0",
          "state": {
            "_dom_classes": [],
            "_model_module": "@jupyter-widgets/controls",
            "_model_module_version": "1.5.0",
            "_model_name": "HBoxModel",
            "_view_count": null,
            "_view_module": "@jupyter-widgets/controls",
            "_view_module_version": "1.5.0",
            "_view_name": "HBoxView",
            "box_style": "",
            "children": [
              "IPY_MODEL_6f8b5ace5c3648a8a62628c1be9a4ba3",
              "IPY_MODEL_79a50e6a55384e1b8a2fef19efe98b6f",
              "IPY_MODEL_806b7eb8cc3244248a008297d3bef3cb"
            ],
            "layout": "IPY_MODEL_7091709ae9524d29b7f690c95a2d5d6b"
          }
        },
        "6f8b5ace5c3648a8a62628c1be9a4ba3": {
          "model_module": "@jupyter-widgets/controls",
          "model_name": "HTMLModel",
          "model_module_version": "1.5.0",
          "state": {
            "_dom_classes": [],
            "_model_module": "@jupyter-widgets/controls",
            "_model_module_version": "1.5.0",
            "_model_name": "HTMLModel",
            "_view_count": null,
            "_view_module": "@jupyter-widgets/controls",
            "_view_module_version": "1.5.0",
            "_view_name": "HTMLView",
            "description": "",
            "description_tooltip": null,
            "layout": "IPY_MODEL_ba19ceb43a0149e59f7e23b58bebfb60",
            "placeholder": "​",
            "style": "IPY_MODEL_ca4a00adc6cb4b86a01eff4a928247d2",
            "value": "Map: 100%"
          }
        },
        "79a50e6a55384e1b8a2fef19efe98b6f": {
          "model_module": "@jupyter-widgets/controls",
          "model_name": "FloatProgressModel",
          "model_module_version": "1.5.0",
          "state": {
            "_dom_classes": [],
            "_model_module": "@jupyter-widgets/controls",
            "_model_module_version": "1.5.0",
            "_model_name": "FloatProgressModel",
            "_view_count": null,
            "_view_module": "@jupyter-widgets/controls",
            "_view_module_version": "1.5.0",
            "_view_name": "ProgressView",
            "bar_style": "success",
            "description": "",
            "description_tooltip": null,
            "layout": "IPY_MODEL_3ef298b866134e1b892afb55c80b698a",
            "max": 10500,
            "min": 0,
            "orientation": "horizontal",
            "style": "IPY_MODEL_19a1cc972d4046a3be921086ad58338d",
            "value": 10500
          }
        },
        "806b7eb8cc3244248a008297d3bef3cb": {
          "model_module": "@jupyter-widgets/controls",
          "model_name": "HTMLModel",
          "model_module_version": "1.5.0",
          "state": {
            "_dom_classes": [],
            "_model_module": "@jupyter-widgets/controls",
            "_model_module_version": "1.5.0",
            "_model_name": "HTMLModel",
            "_view_count": null,
            "_view_module": "@jupyter-widgets/controls",
            "_view_module_version": "1.5.0",
            "_view_name": "HTMLView",
            "description": "",
            "description_tooltip": null,
            "layout": "IPY_MODEL_e9d644d3b6f6423aad11c0e9d54a09fc",
            "placeholder": "​",
            "style": "IPY_MODEL_45bd1a81a543401e971eaa84b0e013fc",
            "value": " 10500/10500 [00:03&lt;00:00, 2661.48 examples/s]"
          }
        },
        "7091709ae9524d29b7f690c95a2d5d6b": {
          "model_module": "@jupyter-widgets/base",
          "model_name": "LayoutModel",
          "model_module_version": "1.2.0",
          "state": {
            "_model_module": "@jupyter-widgets/base",
            "_model_module_version": "1.2.0",
            "_model_name": "LayoutModel",
            "_view_count": null,
            "_view_module": "@jupyter-widgets/base",
            "_view_module_version": "1.2.0",
            "_view_name": "LayoutView",
            "align_content": null,
            "align_items": null,
            "align_self": null,
            "border": null,
            "bottom": null,
            "display": null,
            "flex": null,
            "flex_flow": null,
            "grid_area": null,
            "grid_auto_columns": null,
            "grid_auto_flow": null,
            "grid_auto_rows": null,
            "grid_column": null,
            "grid_gap": null,
            "grid_row": null,
            "grid_template_areas": null,
            "grid_template_columns": null,
            "grid_template_rows": null,
            "height": null,
            "justify_content": null,
            "justify_items": null,
            "left": null,
            "margin": null,
            "max_height": null,
            "max_width": null,
            "min_height": null,
            "min_width": null,
            "object_fit": null,
            "object_position": null,
            "order": null,
            "overflow": null,
            "overflow_x": null,
            "overflow_y": null,
            "padding": null,
            "right": null,
            "top": null,
            "visibility": null,
            "width": null
          }
        },
        "ba19ceb43a0149e59f7e23b58bebfb60": {
          "model_module": "@jupyter-widgets/base",
          "model_name": "LayoutModel",
          "model_module_version": "1.2.0",
          "state": {
            "_model_module": "@jupyter-widgets/base",
            "_model_module_version": "1.2.0",
            "_model_name": "LayoutModel",
            "_view_count": null,
            "_view_module": "@jupyter-widgets/base",
            "_view_module_version": "1.2.0",
            "_view_name": "LayoutView",
            "align_content": null,
            "align_items": null,
            "align_self": null,
            "border": null,
            "bottom": null,
            "display": null,
            "flex": null,
            "flex_flow": null,
            "grid_area": null,
            "grid_auto_columns": null,
            "grid_auto_flow": null,
            "grid_auto_rows": null,
            "grid_column": null,
            "grid_gap": null,
            "grid_row": null,
            "grid_template_areas": null,
            "grid_template_columns": null,
            "grid_template_rows": null,
            "height": null,
            "justify_content": null,
            "justify_items": null,
            "left": null,
            "margin": null,
            "max_height": null,
            "max_width": null,
            "min_height": null,
            "min_width": null,
            "object_fit": null,
            "object_position": null,
            "order": null,
            "overflow": null,
            "overflow_x": null,
            "overflow_y": null,
            "padding": null,
            "right": null,
            "top": null,
            "visibility": null,
            "width": null
          }
        },
        "ca4a00adc6cb4b86a01eff4a928247d2": {
          "model_module": "@jupyter-widgets/controls",
          "model_name": "DescriptionStyleModel",
          "model_module_version": "1.5.0",
          "state": {
            "_model_module": "@jupyter-widgets/controls",
            "_model_module_version": "1.5.0",
            "_model_name": "DescriptionStyleModel",
            "_view_count": null,
            "_view_module": "@jupyter-widgets/base",
            "_view_module_version": "1.2.0",
            "_view_name": "StyleView",
            "description_width": ""
          }
        },
        "3ef298b866134e1b892afb55c80b698a": {
          "model_module": "@jupyter-widgets/base",
          "model_name": "LayoutModel",
          "model_module_version": "1.2.0",
          "state": {
            "_model_module": "@jupyter-widgets/base",
            "_model_module_version": "1.2.0",
            "_model_name": "LayoutModel",
            "_view_count": null,
            "_view_module": "@jupyter-widgets/base",
            "_view_module_version": "1.2.0",
            "_view_name": "LayoutView",
            "align_content": null,
            "align_items": null,
            "align_self": null,
            "border": null,
            "bottom": null,
            "display": null,
            "flex": null,
            "flex_flow": null,
            "grid_area": null,
            "grid_auto_columns": null,
            "grid_auto_flow": null,
            "grid_auto_rows": null,
            "grid_column": null,
            "grid_gap": null,
            "grid_row": null,
            "grid_template_areas": null,
            "grid_template_columns": null,
            "grid_template_rows": null,
            "height": null,
            "justify_content": null,
            "justify_items": null,
            "left": null,
            "margin": null,
            "max_height": null,
            "max_width": null,
            "min_height": null,
            "min_width": null,
            "object_fit": null,
            "object_position": null,
            "order": null,
            "overflow": null,
            "overflow_x": null,
            "overflow_y": null,
            "padding": null,
            "right": null,
            "top": null,
            "visibility": null,
            "width": null
          }
        },
        "19a1cc972d4046a3be921086ad58338d": {
          "model_module": "@jupyter-widgets/controls",
          "model_name": "ProgressStyleModel",
          "model_module_version": "1.5.0",
          "state": {
            "_model_module": "@jupyter-widgets/controls",
            "_model_module_version": "1.5.0",
            "_model_name": "ProgressStyleModel",
            "_view_count": null,
            "_view_module": "@jupyter-widgets/base",
            "_view_module_version": "1.2.0",
            "_view_name": "StyleView",
            "bar_color": null,
            "description_width": ""
          }
        },
        "e9d644d3b6f6423aad11c0e9d54a09fc": {
          "model_module": "@jupyter-widgets/base",
          "model_name": "LayoutModel",
          "model_module_version": "1.2.0",
          "state": {
            "_model_module": "@jupyter-widgets/base",
            "_model_module_version": "1.2.0",
            "_model_name": "LayoutModel",
            "_view_count": null,
            "_view_module": "@jupyter-widgets/base",
            "_view_module_version": "1.2.0",
            "_view_name": "LayoutView",
            "align_content": null,
            "align_items": null,
            "align_self": null,
            "border": null,
            "bottom": null,
            "display": null,
            "flex": null,
            "flex_flow": null,
            "grid_area": null,
            "grid_auto_columns": null,
            "grid_auto_flow": null,
            "grid_auto_rows": null,
            "grid_column": null,
            "grid_gap": null,
            "grid_row": null,
            "grid_template_areas": null,
            "grid_template_columns": null,
            "grid_template_rows": null,
            "height": null,
            "justify_content": null,
            "justify_items": null,
            "left": null,
            "margin": null,
            "max_height": null,
            "max_width": null,
            "min_height": null,
            "min_width": null,
            "object_fit": null,
            "object_position": null,
            "order": null,
            "overflow": null,
            "overflow_x": null,
            "overflow_y": null,
            "padding": null,
            "right": null,
            "top": null,
            "visibility": null,
            "width": null
          }
        },
        "45bd1a81a543401e971eaa84b0e013fc": {
          "model_module": "@jupyter-widgets/controls",
          "model_name": "DescriptionStyleModel",
          "model_module_version": "1.5.0",
          "state": {
            "_model_module": "@jupyter-widgets/controls",
            "_model_module_version": "1.5.0",
            "_model_name": "DescriptionStyleModel",
            "_view_count": null,
            "_view_module": "@jupyter-widgets/base",
            "_view_module_version": "1.2.0",
            "_view_name": "StyleView",
            "description_width": ""
          }
        },
        "92e8e9b088f34dd28cdfbc7e69697788": {
          "model_module": "@jupyter-widgets/controls",
          "model_name": "HBoxModel",
          "model_module_version": "1.5.0",
          "state": {
            "_dom_classes": [],
            "_model_module": "@jupyter-widgets/controls",
            "_model_module_version": "1.5.0",
            "_model_name": "HBoxModel",
            "_view_count": null,
            "_view_module": "@jupyter-widgets/controls",
            "_view_module_version": "1.5.0",
            "_view_name": "HBoxView",
            "box_style": "",
            "children": [
              "IPY_MODEL_10279d0983da43c086b8ae97dd5a412a",
              "IPY_MODEL_3396f6de83dd4e979fca375e37cff8d1",
              "IPY_MODEL_08289811305d454c9f79a8ad343b5c00"
            ],
            "layout": "IPY_MODEL_fb97471046c14c71bf58ad4192bf5359"
          }
        },
        "10279d0983da43c086b8ae97dd5a412a": {
          "model_module": "@jupyter-widgets/controls",
          "model_name": "HTMLModel",
          "model_module_version": "1.5.0",
          "state": {
            "_dom_classes": [],
            "_model_module": "@jupyter-widgets/controls",
            "_model_module_version": "1.5.0",
            "_model_name": "HTMLModel",
            "_view_count": null,
            "_view_module": "@jupyter-widgets/controls",
            "_view_module_version": "1.5.0",
            "_view_name": "HTMLView",
            "description": "",
            "description_tooltip": null,
            "layout": "IPY_MODEL_51ee99cef4fd49b983c1220d7906f124",
            "placeholder": "​",
            "style": "IPY_MODEL_d6560262f6a14be4a7de161ff0f0c459",
            "value": "Map: 100%"
          }
        },
        "3396f6de83dd4e979fca375e37cff8d1": {
          "model_module": "@jupyter-widgets/controls",
          "model_name": "FloatProgressModel",
          "model_module_version": "1.5.0",
          "state": {
            "_dom_classes": [],
            "_model_module": "@jupyter-widgets/controls",
            "_model_module_version": "1.5.0",
            "_model_name": "FloatProgressModel",
            "_view_count": null,
            "_view_module": "@jupyter-widgets/controls",
            "_view_module_version": "1.5.0",
            "_view_name": "ProgressView",
            "bar_style": "success",
            "description": "",
            "description_tooltip": null,
            "layout": "IPY_MODEL_8b3d3fe022574372a9ae80290ec2d0ca",
            "max": 2250,
            "min": 0,
            "orientation": "horizontal",
            "style": "IPY_MODEL_3b2e367922b84b809534b560b4d8e01f",
            "value": 2250
          }
        },
        "08289811305d454c9f79a8ad343b5c00": {
          "model_module": "@jupyter-widgets/controls",
          "model_name": "HTMLModel",
          "model_module_version": "1.5.0",
          "state": {
            "_dom_classes": [],
            "_model_module": "@jupyter-widgets/controls",
            "_model_module_version": "1.5.0",
            "_model_name": "HTMLModel",
            "_view_count": null,
            "_view_module": "@jupyter-widgets/controls",
            "_view_module_version": "1.5.0",
            "_view_name": "HTMLView",
            "description": "",
            "description_tooltip": null,
            "layout": "IPY_MODEL_14095a929c2b4598a5f7dc094cf77569",
            "placeholder": "​",
            "style": "IPY_MODEL_e8954f60b0754f16a32737423779e707",
            "value": " 2250/2250 [00:00&lt;00:00, 2663.16 examples/s]"
          }
        },
        "fb97471046c14c71bf58ad4192bf5359": {
          "model_module": "@jupyter-widgets/base",
          "model_name": "LayoutModel",
          "model_module_version": "1.2.0",
          "state": {
            "_model_module": "@jupyter-widgets/base",
            "_model_module_version": "1.2.0",
            "_model_name": "LayoutModel",
            "_view_count": null,
            "_view_module": "@jupyter-widgets/base",
            "_view_module_version": "1.2.0",
            "_view_name": "LayoutView",
            "align_content": null,
            "align_items": null,
            "align_self": null,
            "border": null,
            "bottom": null,
            "display": null,
            "flex": null,
            "flex_flow": null,
            "grid_area": null,
            "grid_auto_columns": null,
            "grid_auto_flow": null,
            "grid_auto_rows": null,
            "grid_column": null,
            "grid_gap": null,
            "grid_row": null,
            "grid_template_areas": null,
            "grid_template_columns": null,
            "grid_template_rows": null,
            "height": null,
            "justify_content": null,
            "justify_items": null,
            "left": null,
            "margin": null,
            "max_height": null,
            "max_width": null,
            "min_height": null,
            "min_width": null,
            "object_fit": null,
            "object_position": null,
            "order": null,
            "overflow": null,
            "overflow_x": null,
            "overflow_y": null,
            "padding": null,
            "right": null,
            "top": null,
            "visibility": null,
            "width": null
          }
        },
        "51ee99cef4fd49b983c1220d7906f124": {
          "model_module": "@jupyter-widgets/base",
          "model_name": "LayoutModel",
          "model_module_version": "1.2.0",
          "state": {
            "_model_module": "@jupyter-widgets/base",
            "_model_module_version": "1.2.0",
            "_model_name": "LayoutModel",
            "_view_count": null,
            "_view_module": "@jupyter-widgets/base",
            "_view_module_version": "1.2.0",
            "_view_name": "LayoutView",
            "align_content": null,
            "align_items": null,
            "align_self": null,
            "border": null,
            "bottom": null,
            "display": null,
            "flex": null,
            "flex_flow": null,
            "grid_area": null,
            "grid_auto_columns": null,
            "grid_auto_flow": null,
            "grid_auto_rows": null,
            "grid_column": null,
            "grid_gap": null,
            "grid_row": null,
            "grid_template_areas": null,
            "grid_template_columns": null,
            "grid_template_rows": null,
            "height": null,
            "justify_content": null,
            "justify_items": null,
            "left": null,
            "margin": null,
            "max_height": null,
            "max_width": null,
            "min_height": null,
            "min_width": null,
            "object_fit": null,
            "object_position": null,
            "order": null,
            "overflow": null,
            "overflow_x": null,
            "overflow_y": null,
            "padding": null,
            "right": null,
            "top": null,
            "visibility": null,
            "width": null
          }
        },
        "d6560262f6a14be4a7de161ff0f0c459": {
          "model_module": "@jupyter-widgets/controls",
          "model_name": "DescriptionStyleModel",
          "model_module_version": "1.5.0",
          "state": {
            "_model_module": "@jupyter-widgets/controls",
            "_model_module_version": "1.5.0",
            "_model_name": "DescriptionStyleModel",
            "_view_count": null,
            "_view_module": "@jupyter-widgets/base",
            "_view_module_version": "1.2.0",
            "_view_name": "StyleView",
            "description_width": ""
          }
        },
        "8b3d3fe022574372a9ae80290ec2d0ca": {
          "model_module": "@jupyter-widgets/base",
          "model_name": "LayoutModel",
          "model_module_version": "1.2.0",
          "state": {
            "_model_module": "@jupyter-widgets/base",
            "_model_module_version": "1.2.0",
            "_model_name": "LayoutModel",
            "_view_count": null,
            "_view_module": "@jupyter-widgets/base",
            "_view_module_version": "1.2.0",
            "_view_name": "LayoutView",
            "align_content": null,
            "align_items": null,
            "align_self": null,
            "border": null,
            "bottom": null,
            "display": null,
            "flex": null,
            "flex_flow": null,
            "grid_area": null,
            "grid_auto_columns": null,
            "grid_auto_flow": null,
            "grid_auto_rows": null,
            "grid_column": null,
            "grid_gap": null,
            "grid_row": null,
            "grid_template_areas": null,
            "grid_template_columns": null,
            "grid_template_rows": null,
            "height": null,
            "justify_content": null,
            "justify_items": null,
            "left": null,
            "margin": null,
            "max_height": null,
            "max_width": null,
            "min_height": null,
            "min_width": null,
            "object_fit": null,
            "object_position": null,
            "order": null,
            "overflow": null,
            "overflow_x": null,
            "overflow_y": null,
            "padding": null,
            "right": null,
            "top": null,
            "visibility": null,
            "width": null
          }
        },
        "3b2e367922b84b809534b560b4d8e01f": {
          "model_module": "@jupyter-widgets/controls",
          "model_name": "ProgressStyleModel",
          "model_module_version": "1.5.0",
          "state": {
            "_model_module": "@jupyter-widgets/controls",
            "_model_module_version": "1.5.0",
            "_model_name": "ProgressStyleModel",
            "_view_count": null,
            "_view_module": "@jupyter-widgets/base",
            "_view_module_version": "1.2.0",
            "_view_name": "StyleView",
            "bar_color": null,
            "description_width": ""
          }
        },
        "14095a929c2b4598a5f7dc094cf77569": {
          "model_module": "@jupyter-widgets/base",
          "model_name": "LayoutModel",
          "model_module_version": "1.2.0",
          "state": {
            "_model_module": "@jupyter-widgets/base",
            "_model_module_version": "1.2.0",
            "_model_name": "LayoutModel",
            "_view_count": null,
            "_view_module": "@jupyter-widgets/base",
            "_view_module_version": "1.2.0",
            "_view_name": "LayoutView",
            "align_content": null,
            "align_items": null,
            "align_self": null,
            "border": null,
            "bottom": null,
            "display": null,
            "flex": null,
            "flex_flow": null,
            "grid_area": null,
            "grid_auto_columns": null,
            "grid_auto_flow": null,
            "grid_auto_rows": null,
            "grid_column": null,
            "grid_gap": null,
            "grid_row": null,
            "grid_template_areas": null,
            "grid_template_columns": null,
            "grid_template_rows": null,
            "height": null,
            "justify_content": null,
            "justify_items": null,
            "left": null,
            "margin": null,
            "max_height": null,
            "max_width": null,
            "min_height": null,
            "min_width": null,
            "object_fit": null,
            "object_position": null,
            "order": null,
            "overflow": null,
            "overflow_x": null,
            "overflow_y": null,
            "padding": null,
            "right": null,
            "top": null,
            "visibility": null,
            "width": null
          }
        },
        "e8954f60b0754f16a32737423779e707": {
          "model_module": "@jupyter-widgets/controls",
          "model_name": "DescriptionStyleModel",
          "model_module_version": "1.5.0",
          "state": {
            "_model_module": "@jupyter-widgets/controls",
            "_model_module_version": "1.5.0",
            "_model_name": "DescriptionStyleModel",
            "_view_count": null,
            "_view_module": "@jupyter-widgets/base",
            "_view_module_version": "1.2.0",
            "_view_name": "StyleView",
            "description_width": ""
          }
        },
        "5894c6db257f4f06bcb94d83d31224c8": {
          "model_module": "@jupyter-widgets/controls",
          "model_name": "HBoxModel",
          "model_module_version": "1.5.0",
          "state": {
            "_dom_classes": [],
            "_model_module": "@jupyter-widgets/controls",
            "_model_module_version": "1.5.0",
            "_model_name": "HBoxModel",
            "_view_count": null,
            "_view_module": "@jupyter-widgets/controls",
            "_view_module_version": "1.5.0",
            "_view_name": "HBoxView",
            "box_style": "",
            "children": [
              "IPY_MODEL_e7650030c1b24c95929df75cb55648a4",
              "IPY_MODEL_d61124a72f8b4377a275fc87f7cded7d",
              "IPY_MODEL_fd8159fffa764aa8a70a88b346a0fb7e"
            ],
            "layout": "IPY_MODEL_925ac3a96f404a1e9d9e0a6961241209"
          }
        },
        "e7650030c1b24c95929df75cb55648a4": {
          "model_module": "@jupyter-widgets/controls",
          "model_name": "HTMLModel",
          "model_module_version": "1.5.0",
          "state": {
            "_dom_classes": [],
            "_model_module": "@jupyter-widgets/controls",
            "_model_module_version": "1.5.0",
            "_model_name": "HTMLModel",
            "_view_count": null,
            "_view_module": "@jupyter-widgets/controls",
            "_view_module_version": "1.5.0",
            "_view_name": "HTMLView",
            "description": "",
            "description_tooltip": null,
            "layout": "IPY_MODEL_8c68ebb418a74208a53f96424b049d35",
            "placeholder": "​",
            "style": "IPY_MODEL_68691ed0b3a944fda1d2b996fb3f5fb9",
            "value": "Map: 100%"
          }
        },
        "d61124a72f8b4377a275fc87f7cded7d": {
          "model_module": "@jupyter-widgets/controls",
          "model_name": "FloatProgressModel",
          "model_module_version": "1.5.0",
          "state": {
            "_dom_classes": [],
            "_model_module": "@jupyter-widgets/controls",
            "_model_module_version": "1.5.0",
            "_model_name": "FloatProgressModel",
            "_view_count": null,
            "_view_module": "@jupyter-widgets/controls",
            "_view_module_version": "1.5.0",
            "_view_name": "ProgressView",
            "bar_style": "success",
            "description": "",
            "description_tooltip": null,
            "layout": "IPY_MODEL_a9c9c517b83542cb81e184df90a32201",
            "max": 2250,
            "min": 0,
            "orientation": "horizontal",
            "style": "IPY_MODEL_ad4c123e48d748e98d6f6e5463dd182b",
            "value": 2250
          }
        },
        "fd8159fffa764aa8a70a88b346a0fb7e": {
          "model_module": "@jupyter-widgets/controls",
          "model_name": "HTMLModel",
          "model_module_version": "1.5.0",
          "state": {
            "_dom_classes": [],
            "_model_module": "@jupyter-widgets/controls",
            "_model_module_version": "1.5.0",
            "_model_name": "HTMLModel",
            "_view_count": null,
            "_view_module": "@jupyter-widgets/controls",
            "_view_module_version": "1.5.0",
            "_view_name": "HTMLView",
            "description": "",
            "description_tooltip": null,
            "layout": "IPY_MODEL_8f1cc80afea04a7f949e528cb8d62abb",
            "placeholder": "​",
            "style": "IPY_MODEL_e86ab1dc80984f82977d65bc36c9fdbb",
            "value": " 2250/2250 [00:00&lt;00:00, 2686.32 examples/s]"
          }
        },
        "925ac3a96f404a1e9d9e0a6961241209": {
          "model_module": "@jupyter-widgets/base",
          "model_name": "LayoutModel",
          "model_module_version": "1.2.0",
          "state": {
            "_model_module": "@jupyter-widgets/base",
            "_model_module_version": "1.2.0",
            "_model_name": "LayoutModel",
            "_view_count": null,
            "_view_module": "@jupyter-widgets/base",
            "_view_module_version": "1.2.0",
            "_view_name": "LayoutView",
            "align_content": null,
            "align_items": null,
            "align_self": null,
            "border": null,
            "bottom": null,
            "display": null,
            "flex": null,
            "flex_flow": null,
            "grid_area": null,
            "grid_auto_columns": null,
            "grid_auto_flow": null,
            "grid_auto_rows": null,
            "grid_column": null,
            "grid_gap": null,
            "grid_row": null,
            "grid_template_areas": null,
            "grid_template_columns": null,
            "grid_template_rows": null,
            "height": null,
            "justify_content": null,
            "justify_items": null,
            "left": null,
            "margin": null,
            "max_height": null,
            "max_width": null,
            "min_height": null,
            "min_width": null,
            "object_fit": null,
            "object_position": null,
            "order": null,
            "overflow": null,
            "overflow_x": null,
            "overflow_y": null,
            "padding": null,
            "right": null,
            "top": null,
            "visibility": null,
            "width": null
          }
        },
        "8c68ebb418a74208a53f96424b049d35": {
          "model_module": "@jupyter-widgets/base",
          "model_name": "LayoutModel",
          "model_module_version": "1.2.0",
          "state": {
            "_model_module": "@jupyter-widgets/base",
            "_model_module_version": "1.2.0",
            "_model_name": "LayoutModel",
            "_view_count": null,
            "_view_module": "@jupyter-widgets/base",
            "_view_module_version": "1.2.0",
            "_view_name": "LayoutView",
            "align_content": null,
            "align_items": null,
            "align_self": null,
            "border": null,
            "bottom": null,
            "display": null,
            "flex": null,
            "flex_flow": null,
            "grid_area": null,
            "grid_auto_columns": null,
            "grid_auto_flow": null,
            "grid_auto_rows": null,
            "grid_column": null,
            "grid_gap": null,
            "grid_row": null,
            "grid_template_areas": null,
            "grid_template_columns": null,
            "grid_template_rows": null,
            "height": null,
            "justify_content": null,
            "justify_items": null,
            "left": null,
            "margin": null,
            "max_height": null,
            "max_width": null,
            "min_height": null,
            "min_width": null,
            "object_fit": null,
            "object_position": null,
            "order": null,
            "overflow": null,
            "overflow_x": null,
            "overflow_y": null,
            "padding": null,
            "right": null,
            "top": null,
            "visibility": null,
            "width": null
          }
        },
        "68691ed0b3a944fda1d2b996fb3f5fb9": {
          "model_module": "@jupyter-widgets/controls",
          "model_name": "DescriptionStyleModel",
          "model_module_version": "1.5.0",
          "state": {
            "_model_module": "@jupyter-widgets/controls",
            "_model_module_version": "1.5.0",
            "_model_name": "DescriptionStyleModel",
            "_view_count": null,
            "_view_module": "@jupyter-widgets/base",
            "_view_module_version": "1.2.0",
            "_view_name": "StyleView",
            "description_width": ""
          }
        },
        "a9c9c517b83542cb81e184df90a32201": {
          "model_module": "@jupyter-widgets/base",
          "model_name": "LayoutModel",
          "model_module_version": "1.2.0",
          "state": {
            "_model_module": "@jupyter-widgets/base",
            "_model_module_version": "1.2.0",
            "_model_name": "LayoutModel",
            "_view_count": null,
            "_view_module": "@jupyter-widgets/base",
            "_view_module_version": "1.2.0",
            "_view_name": "LayoutView",
            "align_content": null,
            "align_items": null,
            "align_self": null,
            "border": null,
            "bottom": null,
            "display": null,
            "flex": null,
            "flex_flow": null,
            "grid_area": null,
            "grid_auto_columns": null,
            "grid_auto_flow": null,
            "grid_auto_rows": null,
            "grid_column": null,
            "grid_gap": null,
            "grid_row": null,
            "grid_template_areas": null,
            "grid_template_columns": null,
            "grid_template_rows": null,
            "height": null,
            "justify_content": null,
            "justify_items": null,
            "left": null,
            "margin": null,
            "max_height": null,
            "max_width": null,
            "min_height": null,
            "min_width": null,
            "object_fit": null,
            "object_position": null,
            "order": null,
            "overflow": null,
            "overflow_x": null,
            "overflow_y": null,
            "padding": null,
            "right": null,
            "top": null,
            "visibility": null,
            "width": null
          }
        },
        "ad4c123e48d748e98d6f6e5463dd182b": {
          "model_module": "@jupyter-widgets/controls",
          "model_name": "ProgressStyleModel",
          "model_module_version": "1.5.0",
          "state": {
            "_model_module": "@jupyter-widgets/controls",
            "_model_module_version": "1.5.0",
            "_model_name": "ProgressStyleModel",
            "_view_count": null,
            "_view_module": "@jupyter-widgets/base",
            "_view_module_version": "1.2.0",
            "_view_name": "StyleView",
            "bar_color": null,
            "description_width": ""
          }
        },
        "8f1cc80afea04a7f949e528cb8d62abb": {
          "model_module": "@jupyter-widgets/base",
          "model_name": "LayoutModel",
          "model_module_version": "1.2.0",
          "state": {
            "_model_module": "@jupyter-widgets/base",
            "_model_module_version": "1.2.0",
            "_model_name": "LayoutModel",
            "_view_count": null,
            "_view_module": "@jupyter-widgets/base",
            "_view_module_version": "1.2.0",
            "_view_name": "LayoutView",
            "align_content": null,
            "align_items": null,
            "align_self": null,
            "border": null,
            "bottom": null,
            "display": null,
            "flex": null,
            "flex_flow": null,
            "grid_area": null,
            "grid_auto_columns": null,
            "grid_auto_flow": null,
            "grid_auto_rows": null,
            "grid_column": null,
            "grid_gap": null,
            "grid_row": null,
            "grid_template_areas": null,
            "grid_template_columns": null,
            "grid_template_rows": null,
            "height": null,
            "justify_content": null,
            "justify_items": null,
            "left": null,
            "margin": null,
            "max_height": null,
            "max_width": null,
            "min_height": null,
            "min_width": null,
            "object_fit": null,
            "object_position": null,
            "order": null,
            "overflow": null,
            "overflow_x": null,
            "overflow_y": null,
            "padding": null,
            "right": null,
            "top": null,
            "visibility": null,
            "width": null
          }
        },
        "e86ab1dc80984f82977d65bc36c9fdbb": {
          "model_module": "@jupyter-widgets/controls",
          "model_name": "DescriptionStyleModel",
          "model_module_version": "1.5.0",
          "state": {
            "_model_module": "@jupyter-widgets/controls",
            "_model_module_version": "1.5.0",
            "_model_name": "DescriptionStyleModel",
            "_view_count": null,
            "_view_module": "@jupyter-widgets/base",
            "_view_module_version": "1.2.0",
            "_view_name": "StyleView",
            "description_width": ""
          }
        }
      }
    },
    "accelerator": "GPU"
  },
  "nbformat": 4,
  "nbformat_minor": 0
}